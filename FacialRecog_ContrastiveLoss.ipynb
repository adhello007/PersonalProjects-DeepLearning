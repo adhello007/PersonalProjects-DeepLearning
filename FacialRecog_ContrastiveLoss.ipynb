{
  "nbformat": 4,
  "nbformat_minor": 0,
  "metadata": {
    "colab": {
      "provenance": [],
      "gpuType": "T4",
      "authorship_tag": "ABX9TyOJUhUV+sHe6Ead6BfvSKRK",
      "include_colab_link": true
    },
    "kernelspec": {
      "name": "python3",
      "display_name": "Python 3"
    },
    "language_info": {
      "name": "python"
    },
    "accelerator": "GPU"
  },
  "cells": [
    {
      "cell_type": "markdown",
      "metadata": {
        "id": "view-in-github",
        "colab_type": "text"
      },
      "source": [
        "<a href=\"https://colab.research.google.com/github/adhello007/PersonalProjects-DeepLearning/blob/main/FacialRecog_ContrastiveLoss.ipynb\" target=\"_parent\"><img src=\"https://colab.research.google.com/assets/colab-badge.svg\" alt=\"Open In Colab\"/></a>"
      ]
    },
    {
      "cell_type": "code",
      "execution_count": null,
      "metadata": {
        "colab": {
          "base_uri": "https://localhost:8080/"
        },
        "id": "6scVPNWushjV",
        "outputId": "7c3585cb-1568-4bcc-d8aa-113255479e22"
      },
      "outputs": [
        {
          "output_type": "stream",
          "name": "stdout",
          "text": [
            "Mounted at /content/drive\n"
          ]
        }
      ],
      "source": [
        "from google.colab import drive\n",
        "drive.mount('/content/drive')"
      ]
    },
    {
      "cell_type": "code",
      "source": [
        "import cv2\n",
        "import os\n",
        "import random\n",
        "import numpy as np\n",
        "from matplotlib import pyplot as plt\n",
        "\n",
        "from keras.models import Model\n",
        "from keras.layers import Layer,Conv2D, Dense, MaxPooling2D, Input, Flatten\n",
        "import tensorflow as tf"
      ],
      "metadata": {
        "id": "Hk4gGUGZsqJ-"
      },
      "execution_count": null,
      "outputs": []
    },
    {
      "cell_type": "markdown",
      "source": [
        "## Folder Structure"
      ],
      "metadata": {
        "id": "h5Xt-LpZs7X5"
      }
    },
    {
      "cell_type": "code",
      "source": [
        "os.getcwd()"
      ],
      "metadata": {
        "colab": {
          "base_uri": "https://localhost:8080/",
          "height": 36
        },
        "id": "I9FVpg_2s8qi",
        "outputId": "e84b05fc-5a2b-4538-a293-98859ca3d444"
      },
      "execution_count": null,
      "outputs": [
        {
          "output_type": "execute_result",
          "data": {
            "text/plain": [
              "'/content'"
            ],
            "application/vnd.google.colaboratory.intrinsic+json": {
              "type": "string"
            }
          },
          "metadata": {},
          "execution_count": 4
        }
      ]
    },
    {
      "cell_type": "code",
      "source": [
        "os.chdir('/content/drive/MyDrive')"
      ],
      "metadata": {
        "id": "6wScdHz1s_Fe"
      },
      "execution_count": null,
      "outputs": []
    },
    {
      "cell_type": "code",
      "source": [
        "pos_path = os.path.join('data','positive')\n",
        "neg_path = os.path.join('data','negative')\n",
        "anc_path = os.path.join('data','anchor')\n"
      ],
      "metadata": {
        "id": "iRAM46a8t68L"
      },
      "execution_count": null,
      "outputs": []
    },
    {
      "cell_type": "code",
      "source": [
        "!unzip data.zip"
      ],
      "metadata": {
        "colab": {
          "base_uri": "https://localhost:8080/"
        },
        "id": "1Vjh52Kwti8o",
        "outputId": "dbb4af59-a493-4a70-d727-9383d5bd6dbf"
      },
      "execution_count": null,
      "outputs": [
        {
          "output_type": "stream",
          "name": "stdout",
          "text": [
            "Archive:  data.zip\n",
            "   creating: data/anchor/\n",
            "  inflating: data/anchor/b47c234b-7a01-11ee-a4d8-86fac50d5e49.jpg  \n",
            "  inflating: data/anchor/b487f7a3-7a01-11ee-af4b-86fac50d5e49.jpg  \n",
            "  inflating: data/anchor/b4992c11-7a01-11ee-9f8d-86fac50d5e49.jpg  \n",
            "  inflating: data/anchor/b4a02258-7a01-11ee-9ac3-86fac50d5e49.jpg  \n",
            "  inflating: data/anchor/b4b68e04-7a01-11ee-ae40-86fac50d5e49.jpg  \n",
            "  inflating: data/anchor/b4c5ad7c-7a01-11ee-a533-86fac50d5e49.jpg  \n",
            "  inflating: data/anchor/b4df9dde-7a01-11ee-bea0-86fac50d5e49.jpg  \n",
            "  inflating: data/anchor/b4e46629-7a01-11ee-880f-86fac50d5e49.jpg  \n",
            "  inflating: data/anchor/b502b52b-7a01-11ee-bba5-86fac50d5e49.jpg  \n",
            "  inflating: data/anchor/b50d872e-7a01-11ee-8f88-86fac50d5e49.jpg  \n",
            "  inflating: data/anchor/b511b2e5-7a01-11ee-bfcf-86fac50d5e49.jpg  \n",
            "  inflating: data/anchor/b51692a3-7a01-11ee-99f9-86fac50d5e49.jpg  \n",
            "  inflating: data/anchor/b51c37e5-7a01-11ee-9fd8-86fac50d5e49.jpg  \n",
            "  inflating: data/anchor/b5211b2c-7a01-11ee-95b2-86fac50d5e49.jpg  \n",
            "  inflating: data/anchor/b525f6ad-7a01-11ee-8f2e-86fac50d5e49.jpg  \n",
            "  inflating: data/anchor/b52b930d-7a01-11ee-bfd7-86fac50d5e49.jpg  \n",
            "  inflating: data/anchor/b53015fe-7a01-11ee-8e15-86fac50d5e49.jpg  \n",
            "  inflating: data/anchor/b534dd3b-7a01-11ee-8a1b-86fac50d5e49.jpg  \n",
            "  inflating: data/anchor/b53b1a8e-7a01-11ee-b05a-86fac50d5e49.jpg  \n",
            "  inflating: data/anchor/b53f7d10-7a01-11ee-8ac2-86fac50d5e49.jpg  \n",
            "  inflating: data/anchor/b544581e-7a01-11ee-90f5-86fac50d5e49.jpg  \n",
            "  inflating: data/anchor/b54a028f-7a01-11ee-9822-86fac50d5e49.jpg  \n",
            "  inflating: data/anchor/b54ecbc0-7a01-11ee-b5e2-86fac50d5e49.jpg  \n",
            "  inflating: data/anchor/b553ce78-7a01-11ee-8e69-86fac50d5e49.jpg  \n",
            "  inflating: data/anchor/b55963c1-7a01-11ee-8596-86fac50d5e49.jpg  \n",
            "  inflating: data/anchor/b55dfc1a-7a01-11ee-914d-86fac50d5e49.jpg  \n",
            "  inflating: data/anchor/b562b992-7a01-11ee-ba54-86fac50d5e49.jpg  \n",
            "  inflating: data/anchor/b5688d9f-7a01-11ee-93aa-86fac50d5e49.jpg  \n",
            "  inflating: data/anchor/b56d9179-7a01-11ee-8481-86fac50d5e49.jpg  \n",
            "  inflating: data/anchor/b575f22d-7a01-11ee-8c59-86fac50d5e49.jpg  \n",
            "  inflating: data/anchor/b57cc053-7a01-11ee-b66c-86fac50d5e49.jpg  \n",
            "  inflating: data/anchor/b5815674-7a01-11ee-b481-86fac50d5e49.jpg  \n",
            "  inflating: data/anchor/b590a5b2-7a01-11ee-a52d-86fac50d5e49.jpg  \n",
            "  inflating: data/anchor/b5a87050-7a01-11ee-ad6a-86fac50d5e49.jpg  \n",
            "  inflating: data/anchor/b5ad0a1a-7a01-11ee-a75d-86fac50d5e49.jpg  \n",
            "  inflating: data/anchor/b5b2b0cb-7a01-11ee-9de6-86fac50d5e49.jpg  \n",
            "  inflating: data/anchor/b5b7a396-7a01-11ee-a969-86fac50d5e49.jpg  \n",
            "  inflating: data/anchor/b5c1de55-7a01-11ee-91bd-86fac50d5e49.jpg  \n",
            "  inflating: data/anchor/b5c662b7-7a01-11ee-949a-86fac50d5e49.jpg  \n",
            "  inflating: data/anchor/b5cbf11b-7a01-11ee-8d36-86fac50d5e49.jpg  \n",
            "  inflating: data/anchor/b5d11fbb-7a01-11ee-b0b5-86fac50d5e49.jpg  \n",
            "  inflating: data/anchor/b5d5cdc3-7a01-11ee-8ab6-86fac50d5e49.jpg  \n",
            "  inflating: data/anchor/b5da6a1b-7a01-11ee-b772-86fac50d5e49.jpg  \n",
            "  inflating: data/anchor/b5e072cd-7a01-11ee-bcd5-86fac50d5e49.jpg  \n",
            "  inflating: data/anchor/b5e545cf-7a01-11ee-a2f9-86fac50d5e49.jpg  \n",
            "  inflating: data/anchor/b5e9bc99-7a01-11ee-b78c-86fac50d5e49.jpg  \n",
            "  inflating: data/anchor/b5efc0f7-7a01-11ee-883a-86fac50d5e49.jpg  \n",
            "  inflating: data/anchor/b5f48691-7a01-11ee-b28a-86fac50d5e49.jpg  \n",
            "  inflating: data/anchor/b5f962d6-7a01-11ee-ae6b-86fac50d5e49.jpg  \n",
            "  inflating: data/anchor/b5fee84a-7a01-11ee-987c-86fac50d5e49.jpg  \n",
            "  inflating: data/anchor/b603e3f6-7a01-11ee-a74a-86fac50d5e49.jpg  \n",
            "  inflating: data/anchor/b60e3234-7a01-11ee-844d-86fac50d5e49.jpg  \n",
            "  inflating: data/anchor/b613cc16-7a01-11ee-9360-86fac50d5e49.jpg  \n",
            "  inflating: data/anchor/b618b64d-7a01-11ee-85ce-86fac50d5e49.jpg  \n",
            "  inflating: data/anchor/b61d681c-7a01-11ee-869a-86fac50d5e49.jpg  \n",
            "  inflating: data/anchor/b6224d6a-7a01-11ee-bd9a-86fac50d5e49.jpg  \n",
            "  inflating: data/anchor/b6269bad-7a01-11ee-a229-86fac50d5e49.jpg  \n",
            "  inflating: data/anchor/b62ce712-7a01-11ee-8bcf-86fac50d5e49.jpg  \n",
            "  inflating: data/anchor/b63166df-7a01-11ee-9e1d-86fac50d5e49.jpg  \n",
            "  inflating: data/anchor/b639bf75-7a01-11ee-aeba-86fac50d5e49.jpg  \n",
            "  inflating: data/anchor/b63eddf6-7a01-11ee-bb90-86fac50d5e49.jpg  \n",
            "  inflating: data/anchor/b64b1029-7a01-11ee-8376-86fac50d5e49.jpg  \n",
            "  inflating: data/anchor/b64fcc27-7a01-11ee-bf7b-86fac50d5e49.jpg  \n",
            "  inflating: data/anchor/b65491d2-7a01-11ee-9d43-86fac50d5e49.jpg  \n",
            "  inflating: data/anchor/b65a7b9e-7a01-11ee-b94e-86fac50d5e49.jpg  \n",
            "  inflating: data/anchor/b65f8578-7a01-11ee-965e-86fac50d5e49.jpg  \n",
            "  inflating: data/anchor/b66423ae-7a01-11ee-bd6d-86fac50d5e49.jpg  \n",
            "  inflating: data/anchor/b669bc1f-7a01-11ee-8dc2-86fac50d5e49.jpg  \n",
            "  inflating: data/anchor/b66e92d8-7a01-11ee-9688-86fac50d5e49.jpg  \n",
            "  inflating: data/anchor/b673085c-7a01-11ee-b0d0-86fac50d5e49.jpg  \n",
            "  inflating: data/anchor/b678e35d-7a01-11ee-9dfc-86fac50d5e49.jpg  \n",
            "  inflating: data/anchor/b67d7316-7a01-11ee-b0b9-86fac50d5e49.jpg  \n",
            "  inflating: data/anchor/b6823f0a-7a01-11ee-9277-86fac50d5e49.jpg  \n",
            "  inflating: data/anchor/b6881e34-7a01-11ee-8751-86fac50d5e49.jpg  \n",
            "  inflating: data/anchor/b6a684b3-7a01-11ee-8141-86fac50d5e49.jpg  \n",
            "  inflating: data/anchor/b6afd4a2-7a01-11ee-a5fe-86fac50d5e49.jpg  \n",
            "  inflating: data/anchor/b6b4d6d9-7a01-11ee-a292-86fac50d5e49.jpg  \n",
            "  inflating: data/anchor/b6b95de1-7a01-11ee-992c-86fac50d5e49.jpg  \n",
            "  inflating: data/anchor/b6beaded-7a01-11ee-8b89-86fac50d5e49.jpg  \n",
            "  inflating: data/anchor/b6c38607-7a01-11ee-99f1-86fac50d5e49.jpg  \n",
            "  inflating: data/anchor/b6c8b410-7a01-11ee-950e-86fac50d5e49.jpg  \n",
            "  inflating: data/anchor/b6cd7c66-7a01-11ee-8181-86fac50d5e49.jpg  \n",
            "  inflating: data/anchor/b6d48ad7-7a01-11ee-a5e7-86fac50d5e49.jpg  \n",
            "  inflating: data/anchor/b6e3d5d7-7a01-11ee-bc57-86fac50d5e49.jpg  \n",
            "  inflating: data/anchor/b6fa0036-7a01-11ee-a9b4-86fac50d5e49.jpg  \n",
            "  inflating: data/anchor/b7095093-7a01-11ee-b72c-86fac50d5e49.jpg  \n",
            "  inflating: data/anchor/b70dc432-7a01-11ee-a9be-86fac50d5e49.jpg  \n",
            "  inflating: data/anchor/b713c15b-7a01-11ee-a2f9-86fac50d5e49.jpg  \n",
            "  inflating: data/anchor/b718617a-7a01-11ee-be55-86fac50d5e49.jpg  \n",
            "  inflating: data/anchor/b71d1fce-7a01-11ee-8a6b-86fac50d5e49.jpg  \n",
            "  inflating: data/anchor/b722a92b-7a01-11ee-807b-86fac50d5e49.jpg  \n",
            "  inflating: data/anchor/b7275831-7a01-11ee-981b-86fac50d5e49.jpg  \n",
            "  inflating: data/anchor/b72bfe07-7a01-11ee-afe5-86fac50d5e49.jpg  \n",
            "  inflating: data/anchor/b730de3b-7a01-11ee-a0d6-86fac50d5e49.jpg  \n",
            "  inflating: data/anchor/b7359cd8-7a01-11ee-93bb-86fac50d5e49.jpg  \n",
            "  inflating: data/anchor/b7416bb8-7a01-11ee-99a7-86fac50d5e49.jpg  \n",
            "  inflating: data/anchor/b74688df-7a01-11ee-918b-86fac50d5e49.jpg  \n",
            "  inflating: data/anchor/b74af9e5-7a01-11ee-8d34-86fac50d5e49.jpg  \n",
            "  inflating: data/anchor/b750cd22-7a01-11ee-8823-86fac50d5e49.jpg  \n",
            "  inflating: data/anchor/b755c1aa-7a01-11ee-ae9c-86fac50d5e49.jpg  \n",
            "  inflating: data/anchor/b75a266a-7a01-11ee-8b1e-86fac50d5e49.jpg  \n",
            "  inflating: data/anchor/b75f8819-7a01-11ee-9ef6-86fac50d5e49.jpg  \n",
            "  inflating: data/anchor/b763f89e-7a01-11ee-869f-86fac50d5e49.jpg  \n",
            "  inflating: data/anchor/b768df7a-7a01-11ee-870c-86fac50d5e49.jpg  \n",
            "  inflating: data/anchor/b76dd3e3-7a01-11ee-843a-86fac50d5e49.jpg  \n",
            "  inflating: data/anchor/b7728b11-7a01-11ee-adf3-86fac50d5e49.jpg  \n",
            "  inflating: data/anchor/b777541f-7a01-11ee-bb3e-86fac50d5e49.jpg  \n",
            "  inflating: data/anchor/b77c5b0f-7a01-11ee-ad23-86fac50d5e49.jpg  \n",
            "  inflating: data/anchor/b7880f58-7a01-11ee-a3e4-86fac50d5e49.jpg  \n",
            "  inflating: data/anchor/b792c502-7a01-11ee-a723-86fac50d5e49.jpg  \n",
            "  inflating: data/anchor/b7978085-7a01-11ee-95b8-86fac50d5e49.jpg  \n",
            "  inflating: data/anchor/b7aa9a7c-7a01-11ee-9141-86fac50d5e49.jpg  \n",
            "  inflating: data/anchor/b7af2f00-7a01-11ee-93bf-86fac50d5e49.jpg  \n",
            "  inflating: data/anchor/b7b3df8f-7a01-11ee-89ac-86fac50d5e49.jpg  \n",
            "  inflating: data/anchor/b7b94441-7a01-11ee-848c-86fac50d5e49.jpg  \n",
            "  inflating: data/anchor/b7be23ed-7a01-11ee-9b8e-86fac50d5e49.jpg  \n",
            "  inflating: data/anchor/b7c30e2c-7a01-11ee-8f7b-86fac50d5e49.jpg  \n",
            "  inflating: data/anchor/b7c85042-7a01-11ee-b82f-86fac50d5e49.jpg  \n",
            "  inflating: data/anchor/b7cd2c4e-7a01-11ee-b6c1-86fac50d5e49.jpg  \n",
            "  inflating: data/anchor/b7d22527-7a01-11ee-80d3-86fac50d5e49.jpg  \n",
            "  inflating: data/anchor/b7d6ad43-7a01-11ee-9fa9-86fac50d5e49.jpg  \n",
            "  inflating: data/anchor/b7e27fc1-7a01-11ee-b2b2-86fac50d5e49.jpg  \n",
            "  inflating: data/anchor/b7e761ec-7a01-11ee-966d-86fac50d5e49.jpg  \n",
            "  inflating: data/anchor/b7eb2a56-7a01-11ee-ad4a-86fac50d5e49.jpg  \n",
            "  inflating: data/anchor/b7f666ae-7a01-11ee-8a2f-86fac50d5e49.jpg  \n",
            "  inflating: data/anchor/b7fae4cb-7a01-11ee-9d87-86fac50d5e49.jpg  \n",
            "  inflating: data/anchor/b80023bb-7a01-11ee-bff1-86fac50d5e49.jpg  \n",
            "  inflating: data/anchor/b804e6b0-7a01-11ee-8c9e-86fac50d5e49.jpg  \n",
            "  inflating: data/anchor/b80998e4-7a01-11ee-a19e-86fac50d5e49.jpg  \n",
            "  inflating: data/anchor/b80e6e07-7a01-11ee-a605-86fac50d5e49.jpg  \n",
            "  inflating: data/anchor/b8141d7f-7a01-11ee-acbc-86fac50d5e49.jpg  \n",
            "  inflating: data/anchor/b818f5c0-7a01-11ee-8422-86fac50d5e49.jpg  \n",
            "  inflating: data/anchor/b81dfeaf-7a01-11ee-b8e6-86fac50d5e49.jpg  \n",
            "  inflating: data/anchor/b8243d7c-7a01-11ee-bad7-86fac50d5e49.jpg  \n",
            "  inflating: data/anchor/b828efef-7a01-11ee-bfac-86fac50d5e49.jpg  \n",
            "  inflating: data/anchor/b82d80f6-7a01-11ee-9ca8-86fac50d5e49.jpg  \n",
            "  inflating: data/anchor/b833569d-7a01-11ee-a9fe-86fac50d5e49.jpg  \n",
            "  inflating: data/anchor/b8381fc2-7a01-11ee-95b2-86fac50d5e49.jpg  \n",
            "  inflating: data/anchor/b83cd25c-7a01-11ee-93fd-86fac50d5e49.jpg  \n",
            "  inflating: data/anchor/b842af71-7a01-11ee-b73b-86fac50d5e49.jpg  \n",
            "  inflating: data/anchor/b84760dc-7a01-11ee-8d9a-86fac50d5e49.jpg  \n",
            "  inflating: data/anchor/b84c401b-7a01-11ee-8816-86fac50d5e49.jpg  \n",
            "  inflating: data/anchor/b851b69f-7a01-11ee-a5c9-86fac50d5e49.jpg  \n",
            "  inflating: data/anchor/b856267e-7a01-11ee-a14b-86fac50d5e49.jpg  \n",
            "  inflating: data/anchor/b85afa47-7a01-11ee-aee7-86fac50d5e49.jpg  \n",
            "  inflating: data/anchor/b860f1ba-7a01-11ee-abbe-86fac50d5e49.jpg  \n",
            "  inflating: data/anchor/b8705172-7a01-11ee-bf37-86fac50d5e49.jpg  \n",
            "  inflating: data/anchor/b8756d6a-7a01-11ee-b605-86fac50d5e49.jpg  \n",
            "  inflating: data/anchor/b87a0ce1-7a01-11ee-965c-86fac50d5e49.jpg  \n",
            "  inflating: data/anchor/b87f5fdb-7a01-11ee-bf9b-86fac50d5e49.jpg  \n",
            "  inflating: data/anchor/b8846724-7a01-11ee-a144-86fac50d5e49.jpg  \n",
            "  inflating: data/anchor/b888ff11-7a01-11ee-9b65-86fac50d5e49.jpg  \n",
            "  inflating: data/anchor/b88ef48b-7a01-11ee-8d40-86fac50d5e49.jpg  \n",
            "  inflating: data/anchor/b8967a6a-7a01-11ee-8dc7-86fac50d5e49.jpg  \n",
            "  inflating: data/anchor/b89b6580-7a01-11ee-8811-86fac50d5e49.jpg  \n",
            "  inflating: data/anchor/b8a07adb-7a01-11ee-adc1-86fac50d5e49.jpg  \n",
            "  inflating: data/anchor/b8a52d84-7a01-11ee-b9cc-86fac50d5e49.jpg  \n",
            "  inflating: data/anchor/b8c89805-7a01-11ee-879e-86fac50d5e49.jpg  \n",
            "  inflating: data/anchor/b8ce61dc-7a01-11ee-aa33-86fac50d5e49.jpg  \n",
            "  inflating: data/anchor/b8d2ebf6-7a01-11ee-b280-86fac50d5e49.jpg  \n",
            "  inflating: data/anchor/b8d77c1f-7a01-11ee-873a-86fac50d5e49.jpg  \n",
            "  inflating: data/anchor/b8ddc032-7a01-11ee-98f3-86fac50d5e49.jpg  \n",
            "  inflating: data/anchor/b8e2901c-7a01-11ee-8790-86fac50d5e49.jpg  \n",
            "  inflating: data/anchor/b8e71f5b-7a01-11ee-824a-86fac50d5e49.jpg  \n",
            "  inflating: data/anchor/b8ecca44-7a01-11ee-9c56-86fac50d5e49.jpg  \n",
            "  inflating: data/anchor/b8f18521-7a01-11ee-9ea2-86fac50d5e49.jpg  \n",
            "  inflating: data/anchor/b8f646e1-7a01-11ee-bdf7-86fac50d5e49.jpg  \n",
            "  inflating: data/anchor/b8fc0aad-7a01-11ee-a38a-86fac50d5e49.jpg  \n",
            "  inflating: data/anchor/b900af8d-7a01-11ee-9688-86fac50d5e49.jpg  \n",
            "  inflating: data/anchor/b905592c-7a01-11ee-ba4a-86fac50d5e49.jpg  \n",
            "  inflating: data/anchor/b90b4ab9-7a01-11ee-ba6e-86fac50d5e49.jpg  \n",
            "  inflating: data/anchor/b91001f4-7a01-11ee-976e-86fac50d5e49.jpg  \n",
            "  inflating: data/anchor/b9150928-7a01-11ee-aa12-86fac50d5e49.jpg  \n",
            "  inflating: data/anchor/b91ab6fa-7a01-11ee-b5b3-86fac50d5e49.jpg  \n",
            "  inflating: data/anchor/b91f4f1e-7a01-11ee-891a-86fac50d5e49.jpg  \n",
            "  inflating: data/anchor/b924252c-7a01-11ee-94eb-86fac50d5e49.jpg  \n",
            "  inflating: data/anchor/b92b8708-7a01-11ee-a5e2-86fac50d5e49.jpg  \n",
            "  inflating: data/anchor/b93902eb-7a01-11ee-b6aa-86fac50d5e49.jpg  \n",
            "  inflating: data/anchor/b93dc7f5-7a01-11ee-bc91-86fac50d5e49.jpg  \n",
            "  inflating: data/anchor/b94d5be3-7a01-11ee-ac56-86fac50d5e49.jpg  \n",
            "  inflating: data/anchor/b951dadd-7a01-11ee-a1ae-86fac50d5e49.jpg  \n",
            "  inflating: data/anchor/b957d80f-7a01-11ee-a8e2-86fac50d5e49.jpg  \n",
            "  inflating: data/anchor/b95c5567-7a01-11ee-877b-86fac50d5e49.jpg  \n",
            "  inflating: data/anchor/b9611a00-7a01-11ee-8ba1-86fac50d5e49.jpg  \n",
            "  inflating: data/anchor/b966c5ef-7a01-11ee-aa4e-86fac50d5e49.jpg  \n",
            "  inflating: data/anchor/b96b90d4-7a01-11ee-85a9-86fac50d5e49.jpg  \n",
            "  inflating: data/anchor/b9703bfd-7a01-11ee-b7ee-86fac50d5e49.jpg  \n",
            "  inflating: data/anchor/b97af8b6-7a01-11ee-bf7a-86fac50d5e49.jpg  \n",
            "  inflating: data/anchor/b97fba58-7a01-11ee-9255-86fac50d5e49.jpg  \n",
            "  inflating: data/anchor/b98eff02-7a01-11ee-8685-86fac50d5e49.jpg  \n",
            "  inflating: data/anchor/b9a65455-7a01-11ee-8664-86fac50d5e49.jpg  \n",
            "  inflating: data/anchor/b9aae60e-7a01-11ee-8875-86fac50d5e49.jpg  \n",
            "  inflating: data/anchor/b9b0bc32-7a01-11ee-b5ad-86fac50d5e49.jpg  \n",
            "  inflating: data/anchor/b9b5b8b4-7a01-11ee-8ab5-86fac50d5e49.jpg  \n",
            "  inflating: data/anchor/b9ba3730-7a01-11ee-8054-86fac50d5e49.jpg  \n",
            "  inflating: data/anchor/b9c023a8-7a01-11ee-8220-86fac50d5e49.jpg  \n",
            "  inflating: data/anchor/b9c758e4-7a01-11ee-81d1-86fac50d5e49.jpg  \n",
            "  inflating: data/anchor/b9d3fc91-7a01-11ee-88ee-86fac50d5e49.jpg  \n",
            "  inflating: data/anchor/b9d8fe39-7a01-11ee-9bbf-86fac50d5e49.jpg  \n",
            "  inflating: data/anchor/b9e3edb4-7a01-11ee-ba02-86fac50d5e49.jpg  \n",
            "  inflating: data/anchor/b9e85d32-7a01-11ee-ac88-86fac50d5e49.jpg  \n",
            "  inflating: data/anchor/b9eddbf0-7a01-11ee-a505-86fac50d5e49.jpg  \n",
            "  inflating: data/anchor/ba11669c-7a01-11ee-9fdd-86fac50d5e49.jpg  \n",
            "  inflating: data/anchor/ba15fc80-7a01-11ee-8d06-86fac50d5e49.jpg  \n",
            "  inflating: data/anchor/ba1b93ea-7a01-11ee-9c2a-86fac50d5e49.jpg  \n",
            "  inflating: data/anchor/ba2068c3-7a01-11ee-b253-86fac50d5e49.jpg  \n",
            "  inflating: data/anchor/ba250a6e-7a01-11ee-ac21-86fac50d5e49.jpg  \n",
            "  inflating: data/anchor/ba2adec7-7a01-11ee-ac44-86fac50d5e49.jpg  \n",
            "  inflating: data/anchor/ba2f7360-7a01-11ee-a981-86fac50d5e49.jpg  \n",
            "  inflating: data/anchor/ba342ee4-7a01-11ee-a051-86fac50d5e49.jpg  \n",
            "  inflating: data/anchor/ba3a5c7f-7a01-11ee-a9af-86fac50d5e49.jpg  \n",
            "  inflating: data/anchor/ba3f5a44-7a01-11ee-b0dc-86fac50d5e49.jpg  \n",
            "  inflating: data/anchor/ba4447e8-7a01-11ee-b877-86fac50d5e49.jpg  \n",
            "  inflating: data/anchor/ba4969fc-7a01-11ee-9995-86fac50d5e49.jpg  \n",
            "  inflating: data/anchor/ba4e1e2c-7a01-11ee-ae46-86fac50d5e49.jpg  \n",
            "  inflating: data/anchor/ba52dcd9-7a01-11ee-99c0-86fac50d5e49.jpg  \n",
            "  inflating: data/anchor/ba58ab0a-7a01-11ee-9220-86fac50d5e49.jpg  \n",
            "  inflating: data/anchor/ba5d647b-7a01-11ee-8cc9-86fac50d5e49.jpg  \n",
            "  inflating: data/anchor/ba621d2a-7a01-11ee-8db5-86fac50d5e49.jpg  \n",
            "  inflating: data/anchor/ba6802eb-7a01-11ee-9ede-86fac50d5e49.jpg  \n",
            "  inflating: data/anchor/ba71c13d-7a01-11ee-b452-86fac50d5e49.jpg  \n",
            "  inflating: data/anchor/ba772599-7a01-11ee-9e0f-86fac50d5e49.jpg  \n",
            "  inflating: data/anchor/ba9cd412-7a01-11ee-95f1-86fac50d5e49.jpg  \n",
            "  inflating: data/anchor/baac189f-7a01-11ee-8ff6-86fac50d5e49.jpg  \n",
            "  inflating: data/anchor/bab12460-7a01-11ee-b4ed-86fac50d5e49.jpg  \n",
            "  inflating: data/anchor/bac1bb46-7a01-11ee-b365-86fac50d5e49.jpg  \n",
            "  inflating: data/anchor/bac68bee-7a01-11ee-a0ce-86fac50d5e49.jpg  \n",
            "  inflating: data/anchor/bacb49f7-7a01-11ee-8ae6-86fac50d5e49.jpg  \n",
            "  inflating: data/anchor/bad00948-7a01-11ee-8c86-86fac50d5e49.jpg  \n",
            "  inflating: data/anchor/bad54818-7a01-11ee-8ed0-86fac50d5e49.jpg  \n",
            "  inflating: data/anchor/bad9bd23-7a01-11ee-b6f9-86fac50d5e49.jpg  \n",
            "  inflating: data/anchor/baee69c9-7a01-11ee-8a4b-86fac50d5e49.jpg  \n",
            "  inflating: data/anchor/baf377b4-7a01-11ee-aba2-86fac50d5e49.jpg  \n",
            "  inflating: data/anchor/baf83f58-7a01-11ee-8872-86fac50d5e49.jpg  \n",
            "  inflating: data/anchor/bafd2cc2-7a01-11ee-86db-86fac50d5e49.jpg  \n",
            "  inflating: data/anchor/bb031567-7a01-11ee-ba14-86fac50d5e49.jpg  \n",
            "  inflating: data/anchor/bb07b181-7a01-11ee-9c72-86fac50d5e49.jpg  \n",
            "  inflating: data/anchor/bb0c94af-7a01-11ee-a45c-86fac50d5e49.jpg  \n",
            "  inflating: data/anchor/bb123e54-7a01-11ee-b6d3-86fac50d5e49.jpg  \n",
            "  inflating: data/anchor/bb171f18-7a01-11ee-9074-86fac50d5e49.jpg  \n",
            "  inflating: data/anchor/bb307294-7a01-11ee-9bed-86fac50d5e49.jpg  \n",
            "  inflating: data/anchor/bb362593-7a01-11ee-ad0f-86fac50d5e49.jpg  \n",
            "  inflating: data/anchor/bb3aa234-7a01-11ee-8298-86fac50d5e49.jpg  \n",
            "  inflating: data/anchor/bb3fde60-7a01-11ee-a6cd-86fac50d5e49.jpg  \n",
            "  inflating: data/anchor/bb44efaa-7a01-11ee-9242-86fac50d5e49.jpg  \n",
            "  inflating: data/anchor/bb4972b9-7a01-11ee-a1b2-86fac50d5e49.jpg  \n",
            "  inflating: data/anchor/bb4f0f84-7a01-11ee-97fc-86fac50d5e49.jpg  \n",
            "  inflating: data/anchor/bb549726-7a01-11ee-9ed1-86fac50d5e49.jpg  \n",
            "  inflating: data/anchor/bb591942-7a01-11ee-95e7-86fac50d5e49.jpg  \n",
            "  inflating: data/anchor/bb5e1f49-7a01-11ee-b71c-86fac50d5e49.jpg  \n",
            "  inflating: data/anchor/bb62dd43-7a01-11ee-accc-86fac50d5e49.jpg  \n",
            "  inflating: data/anchor/bb677c21-7a01-11ee-b1e3-86fac50d5e49.jpg  \n",
            "  inflating: data/anchor/bb6c2450-7a01-11ee-be27-86fac50d5e49.jpg  \n",
            "  inflating: data/anchor/bb71140e-7a01-11ee-92c4-86fac50d5e49.jpg  \n",
            "  inflating: data/anchor/bb75c649-7a01-11ee-bca9-86fac50d5e49.jpg  \n",
            "  inflating: data/anchor/bb7aa5c6-7a01-11ee-907a-86fac50d5e49.jpg  \n",
            "  inflating: data/anchor/bb7f4eb4-7a01-11ee-9590-86fac50d5e49.jpg  \n",
            "  inflating: data/anchor/bb8ed8d0-7a01-11ee-b774-86fac50d5e49.jpg  \n",
            "  inflating: data/anchor/bb93b4e1-7a01-11ee-9def-86fac50d5e49.jpg  \n",
            "  inflating: data/anchor/bb98c988-7a01-11ee-abe5-86fac50d5e49.jpg  \n",
            "  inflating: data/anchor/bb9db092-7a01-11ee-82d7-86fac50d5e49.jpg  \n",
            "  inflating: data/anchor/bbadb234-7a01-11ee-a91e-86fac50d5e49.jpg  \n",
            "  inflating: data/anchor/bbb2676b-7a01-11ee-b9a4-86fac50d5e49.jpg  \n",
            "  inflating: data/anchor/bbb7cfe7-7a01-11ee-984b-86fac50d5e49.jpg  \n",
            "  inflating: data/anchor/bbbc5b47-7a01-11ee-b66f-86fac50d5e49.jpg  \n",
            "  inflating: data/anchor/bbc13e55-7a01-11ee-9c9f-86fac50d5e49.jpg  \n",
            "  inflating: data/anchor/bbc6ee49-7a01-11ee-b634-86fac50d5e49.jpg  \n",
            "  inflating: data/anchor/bbcb903f-7a01-11ee-be60-86fac50d5e49.jpg  \n",
            "  inflating: data/anchor/bbd06409-7a01-11ee-89ae-86fac50d5e49.jpg  \n",
            "  inflating: data/anchor/bbd6499d-7a01-11ee-b731-86fac50d5e49.jpg  \n",
            "  inflating: data/anchor/bbdab32d-7a01-11ee-98ba-86fac50d5e49.jpg  \n",
            "  inflating: data/anchor/bbdf81c5-7a01-11ee-9452-86fac50d5e49.jpg  \n",
            "  inflating: data/anchor/bbe440c3-7a01-11ee-b8a2-86fac50d5e49.jpg  \n",
            "  inflating: data/anchor/bbe94df7-7a01-11ee-bb6b-86fac50d5e49.jpg  \n",
            "  inflating: data/anchor/bbee5241-7a01-11ee-b368-86fac50d5e49.jpg  \n",
            "  inflating: data/anchor/c8db845d-7a01-11ee-afeb-86fac50d5e49.jpg  \n",
            "  inflating: data/anchor/c8e056f2-7a01-11ee-adab-86fac50d5e49.jpg  \n",
            "  inflating: data/anchor/c8e4e7de-7a01-11ee-a941-86fac50d5e49.jpg  \n",
            "  inflating: data/anchor/c8f052ad-7a01-11ee-955b-86fac50d5e49.jpg  \n",
            "  inflating: data/anchor/c8f569d5-7a01-11ee-b837-86fac50d5e49.jpg  \n",
            "  inflating: data/anchor/c8fa11a6-7a01-11ee-a65a-86fac50d5e49.jpg  \n",
            "  inflating: data/anchor/c8fed5d8-7a01-11ee-839c-86fac50d5e49.jpg  \n",
            "  inflating: data/anchor/c9099626-7a01-11ee-b941-86fac50d5e49.jpg  \n",
            "  inflating: data/anchor/c913d5ce-7a01-11ee-a272-86fac50d5e49.jpg  \n",
            "  inflating: data/anchor/c918ae12-7a01-11ee-a4b1-86fac50d5e49.jpg  \n",
            "  inflating: data/anchor/c91d49d2-7a01-11ee-a471-86fac50d5e49.jpg  \n",
            "  inflating: data/anchor/c9233bf1-7a01-11ee-8a9d-86fac50d5e49.jpg  \n",
            "  inflating: data/anchor/c92814bb-7a01-11ee-b69f-86fac50d5e49.jpg  \n",
            "  inflating: data/anchor/c92ce777-7a01-11ee-9e54-86fac50d5e49.jpg  \n",
            "  inflating: data/anchor/c937cff9-7a01-11ee-91b5-86fac50d5e49.jpg  \n",
            "  inflating: data/anchor/c93c76c4-7a01-11ee-ac3b-86fac50d5e49.jpg  \n",
            "  inflating: data/anchor/c9412395-7a01-11ee-9b64-86fac50d5e49.jpg  \n",
            "  inflating: data/anchor/c945b487-7a01-11ee-bead-86fac50d5e49.jpg  \n",
            "  inflating: data/anchor/c94ab6b5-7a01-11ee-b2e3-86fac50d5e49.jpg  \n",
            "  inflating: data/anchor/c9687681-7a01-11ee-866d-86fac50d5e49.jpg  \n",
            "  inflating: data/anchor/c96d226e-7a01-11ee-99c3-86fac50d5e49.jpg  \n",
            "  inflating: data/anchor/c971dff5-7a01-11ee-96ca-86fac50d5e49.jpg  \n",
            "  inflating: data/anchor/c99563fe-7a01-11ee-af79-86fac50d5e49.jpg  \n",
            "  inflating: data/anchor/c9bab65c-7a01-11ee-b2bf-86fac50d5e49.jpg  \n",
            "  inflating: data/anchor/c9bfc4e4-7a01-11ee-b834-86fac50d5e49.jpg  \n",
            "  inflating: data/anchor/c9c482e5-7a01-11ee-a672-86fac50d5e49.jpg  \n",
            "  inflating: data/anchor/c9c8a64b-7a01-11ee-81be-86fac50d5e49.jpg  \n",
            "  inflating: data/anchor/c9cd6494-7a01-11ee-9d07-86fac50d5e49.jpg  \n",
            "  inflating: data/anchor/c9d2395d-7a01-11ee-8961-86fac50d5e49.jpg  \n",
            "  inflating: data/anchor/c9dcb4d7-7a01-11ee-9de6-86fac50d5e49.jpg  \n",
            "  inflating: data/anchor/c9e18a32-7a01-11ee-8de4-86fac50d5e49.jpg  \n",
            "  inflating: data/anchor/c9ec54e1-7a01-11ee-8f49-86fac50d5e49.jpg  \n",
            "  inflating: data/anchor/c9f11814-7a01-11ee-b50f-86fac50d5e49.jpg  \n",
            "  inflating: data/anchor/c9f6bd30-7a01-11ee-94d4-86fac50d5e49.jpg  \n",
            "  inflating: data/anchor/c9fcc4b4-7a01-11ee-91d0-86fac50d5e49.jpg  \n",
            "  inflating: data/anchor/ca002716-7a01-11ee-b294-86fac50d5e49.jpg  \n",
            "  inflating: data/anchor/ca05c3a6-7a01-11ee-ba20-86fac50d5e49.jpg  \n",
            "  inflating: data/anchor/ca0a883c-7a01-11ee-b692-86fac50d5e49.jpg  \n",
            "  inflating: data/anchor/ca0f5341-7a01-11ee-a9e3-86fac50d5e49.jpg  \n",
            "  inflating: data/anchor/ca1471d3-7a01-11ee-88ad-86fac50d5e49.jpg  \n",
            "  inflating: data/anchor/ca19c886-7a01-11ee-9862-86fac50d5e49.jpg  \n",
            "  inflating: data/anchor/ca1e8c2e-7a01-11ee-85a5-86fac50d5e49.jpg  \n",
            "  inflating: data/anchor/ca240837-7a01-11ee-8057-86fac50d5e49.jpg  \n",
            "  inflating: data/anchor/ca28738c-7a01-11ee-8861-86fac50d5e49.jpg  \n",
            "  inflating: data/anchor/ca2d18fc-7a01-11ee-b95c-86fac50d5e49.jpg  \n",
            "  inflating: data/anchor/ca31f315-7a01-11ee-b443-86fac50d5e49.jpg  \n",
            "  inflating: data/anchor/ca36869c-7a01-11ee-81a4-86fac50d5e49.jpg  \n",
            "  inflating: data/anchor/ca3c5d85-7a01-11ee-85e7-86fac50d5e49.jpg  \n",
            "  inflating: data/anchor/ca4aff0e-7a01-11ee-a1ca-86fac50d5e49.jpg  \n",
            "  inflating: data/anchor/ca4feb9e-7a01-11ee-8aa2-86fac50d5e49.jpg  \n",
            "  inflating: data/anchor/ca55265c-7a01-11ee-b385-86fac50d5e49.jpg  \n",
            "  inflating: data/anchor/ca59c13b-7a01-11ee-a36c-86fac50d5e49.jpg  \n",
            "  inflating: data/anchor/ca68cbcd-7a01-11ee-ab11-86fac50d5e49.jpg  \n",
            "  inflating: data/anchor/ca6fd1ad-7a01-11ee-8348-86fac50d5e49.jpg  \n",
            "  inflating: data/anchor/ca748550-7a01-11ee-b4cb-86fac50d5e49.jpg  \n",
            "  inflating: data/anchor/ca79a9bd-7a01-11ee-9c1f-86fac50d5e49.jpg  \n",
            "  inflating: data/anchor/ca95f3d0-7a01-11ee-8665-86fac50d5e49.jpg  \n",
            "  inflating: data/anchor/cabf3dd6-7a01-11ee-88e1-86fac50d5e49.jpg  \n",
            "  inflating: data/anchor/cac3f1fd-7a01-11ee-a563-86fac50d5e49.jpg  \n",
            "  inflating: data/anchor/cac89f5a-7a01-11ee-bc26-86fac50d5e49.jpg  \n",
            "  inflating: data/anchor/cace5c8f-7a01-11ee-9c0f-86fac50d5e49.jpg  \n",
            "  inflating: data/anchor/cad33315-7a01-11ee-bab8-86fac50d5e49.jpg  \n",
            "  inflating: data/anchor/cad800bb-7a01-11ee-becc-86fac50d5e49.jpg  \n",
            "  inflating: data/anchor/cadd2db3-7a01-11ee-9ee0-86fac50d5e49.jpg  \n",
            "  inflating: data/anchor/cae1b4ea-7a01-11ee-bc8d-86fac50d5e49.jpg  \n",
            "  inflating: data/anchor/cae6ddfa-7a01-11ee-a824-86fac50d5e49.jpg  \n",
            "  inflating: data/anchor/caed26dc-7a01-11ee-a581-86fac50d5e49.jpg  \n",
            "  inflating: data/anchor/caf1b3d0-7a01-11ee-8bf7-86fac50d5e49.jpg  \n",
            "  inflating: data/anchor/caf6659d-7a01-11ee-b3ff-86fac50d5e49.jpg  \n",
            "  inflating: data/anchor/cafc2e2a-7a01-11ee-bc53-86fac50d5e49.jpg  \n",
            "  inflating: data/anchor/cb012951-7a01-11ee-bb81-86fac50d5e49.jpg  \n",
            "  inflating: data/anchor/cb0604cb-7a01-11ee-a19f-86fac50d5e49.jpg  \n",
            "  inflating: data/anchor/cb0b391d-7a01-11ee-94e7-86fac50d5e49.jpg  \n",
            "  inflating: data/anchor/cb299265-7a01-11ee-8fe2-86fac50d5e49.jpg  \n",
            "  inflating: data/anchor/cb2ea560-7a01-11ee-bf8c-86fac50d5e49.jpg  \n",
            "  inflating: data/anchor/cb3371be-7a01-11ee-bc92-86fac50d5e49.jpg  \n",
            "  inflating: data/anchor/cb3962c8-7a01-11ee-a253-86fac50d5e49.jpg  \n",
            "  inflating: data/anchor/cb3e09d7-7a01-11ee-8a15-86fac50d5e49.jpg  \n",
            "  inflating: data/anchor/cb42bf9c-7a01-11ee-ad94-86fac50d5e49.jpg  \n",
            "  inflating: data/anchor/cb4779f2-7a01-11ee-a9ec-86fac50d5e49.jpg  \n",
            "  inflating: data/anchor/cb4c45b4-7a01-11ee-a1da-86fac50d5e49.jpg  \n",
            "  inflating: data/anchor/cb56e406-7a01-11ee-8acf-86fac50d5e49.jpg  \n",
            "  inflating: data/anchor/cb5b6b5e-7a01-11ee-8779-86fac50d5e49.jpg  \n",
            "  inflating: data/anchor/cb6005ed-7a01-11ee-b507-86fac50d5e49.jpg  \n",
            "  inflating: data/anchor/cb65d147-7a01-11ee-b458-86fac50d5e49.jpg  \n",
            "  inflating: data/anchor/cb6a8f5f-7a01-11ee-88f2-86fac50d5e49.jpg  \n",
            "  inflating: data/anchor/cb6f0a21-7a01-11ee-89d2-86fac50d5e49.jpg  \n",
            "  inflating: data/anchor/cb73e4c9-7a01-11ee-a716-86fac50d5e49.jpg  \n",
            "  inflating: data/anchor/cb79cc6d-7a01-11ee-9aa5-86fac50d5e49.jpg  \n",
            "  inflating: data/anchor/cb7e60ce-7a01-11ee-b203-86fac50d5e49.jpg  \n",
            "  inflating: data/anchor/cb921d12-7a01-11ee-b3a7-86fac50d5e49.jpg  \n",
            "  inflating: data/anchor/cb96e896-7a01-11ee-a0c0-86fac50d5e49.jpg  \n",
            "  inflating: data/anchor/cba68298-7a01-11ee-abfd-86fac50d5e49.jpg  \n",
            "  inflating: data/anchor/cbaba3d4-7a01-11ee-ac4d-86fac50d5e49.jpg  \n",
            "  inflating: data/anchor/cbb0f770-7a01-11ee-80ce-86fac50d5e49.jpg  \n",
            "  inflating: data/anchor/cbb5b695-7a01-11ee-ad87-86fac50d5e49.jpg  \n",
            "  inflating: data/anchor/cbba62f6-7a01-11ee-a3af-86fac50d5e49.jpg  \n",
            "  inflating: data/anchor/cbc00ef5-7a01-11ee-a25a-86fac50d5e49.jpg  \n",
            "  inflating: data/anchor/cbc4d78b-7a01-11ee-ac19-86fac50d5e49.jpg  \n",
            "  inflating: data/anchor/cbc9dcf3-7a01-11ee-9de1-86fac50d5e49.jpg  \n",
            "  inflating: data/anchor/cbcf2a00-7a01-11ee-b301-86fac50d5e49.jpg  \n",
            "  inflating: data/anchor/cbd3b023-7a01-11ee-990d-86fac50d5e49.jpg  \n",
            "  inflating: data/anchor/cbd8b6f6-7a01-11ee-994c-86fac50d5e49.jpg  \n",
            "  inflating: data/anchor/cbddd190-7a01-11ee-8f3e-86fac50d5e49.jpg  \n",
            "  inflating: data/anchor/cbe295f9-7a01-11ee-aaa9-86fac50d5e49.jpg  \n",
            "  inflating: data/anchor/cbf2db2e-7a01-11ee-b672-86fac50d5e49.jpg  \n",
            "  inflating: data/anchor/cbf75aaa-7a01-11ee-9150-86fac50d5e49.jpg  \n",
            "  inflating: data/anchor/cbfc3f4e-7a01-11ee-b9a8-86fac50d5e49.jpg  \n",
            "  inflating: data/anchor/cc010c1b-7a01-11ee-bd87-86fac50d5e49.jpg  \n",
            "  inflating: data/anchor/cc05cc88-7a01-11ee-bab0-86fac50d5e49.jpg  \n",
            "  inflating: data/anchor/cc0c3047-7a01-11ee-af95-86fac50d5e49.jpg  \n",
            "  inflating: data/anchor/cc1128d4-7a01-11ee-9290-86fac50d5e49.jpg  \n",
            "  inflating: data/anchor/cc15c5ea-7a01-11ee-b3f4-86fac50d5e49.jpg  \n",
            "  inflating: data/anchor/cc201634-7a01-11ee-a6f2-86fac50d5e49.jpg  \n",
            "  inflating: data/anchor/cc24fdb5-7a01-11ee-800f-86fac50d5e49.jpg  \n",
            "  inflating: data/anchor/cc2ada30-7a01-11ee-9e44-86fac50d5e49.jpg  \n",
            "  inflating: data/anchor/cc2fa996-7a01-11ee-96c8-86fac50d5e49.jpg  \n",
            "  inflating: data/anchor/cc346de5-7a01-11ee-a7a1-86fac50d5e49.jpg  \n",
            "  inflating: data/anchor/cc3a7b5d-7a01-11ee-a139-86fac50d5e49.jpg  \n",
            "  inflating: data/anchor/cc3eedf0-7a01-11ee-8860-86fac50d5e49.jpg  \n",
            "  inflating: data/anchor/cc49b320-7a01-11ee-81e9-86fac50d5e49.jpg  \n",
            "  inflating: data/anchor/cc4dd69d-7a01-11ee-9dfa-86fac50d5e49.jpg  \n",
            "  inflating: data/anchor/cc52c066-7a01-11ee-8d11-86fac50d5e49.jpg  \n",
            "  inflating: data/anchor/cc57833f-7a01-11ee-856f-86fac50d5e49.jpg  \n",
            "  inflating: data/anchor/cc61d3e0-7a01-11ee-9b5f-86fac50d5e49.jpg  \n",
            "  inflating: data/anchor/cc67bfdc-7a01-11ee-8884-86fac50d5e49.jpg  \n",
            "  inflating: data/anchor/cc6c673a-7a01-11ee-856e-86fac50d5e49.jpg  \n",
            "  inflating: data/anchor/cc711a82-7a01-11ee-bc20-86fac50d5e49.jpg  \n",
            "  inflating: data/anchor/cc773b91-7a01-11ee-b94f-86fac50d5e49.jpg  \n",
            "  inflating: data/anchor/cc855224-7a01-11ee-b3b3-86fac50d5e49.jpg  \n",
            "  inflating: data/anchor/cc8a3d85-7a01-11ee-951d-86fac50d5e49.jpg  \n",
            "  inflating: data/anchor/cc8ef654-7a01-11ee-a82b-86fac50d5e49.jpg  \n",
            "  inflating: data/anchor/cc9374b9-7a01-11ee-84d8-86fac50d5e49.jpg  \n",
            "  inflating: data/anchor/cc97ea27-7a01-11ee-becd-86fac50d5e49.jpg  \n",
            "  inflating: data/anchor/cc9eb910-7a01-11ee-b469-86fac50d5e49.jpg  \n",
            "  inflating: data/anchor/cca530cf-7a01-11ee-95da-86fac50d5e49.jpg  \n",
            "  inflating: data/anchor/ccb138e2-7a01-11ee-ac2b-86fac50d5e49.jpg  \n",
            "  inflating: data/anchor/ccb6f5d4-7a01-11ee-82c4-86fac50d5e49.jpg  \n",
            "  inflating: data/anchor/ccbbbd50-7a01-11ee-bf48-86fac50d5e49.jpg  \n",
            "  inflating: data/anchor/ccc0930f-7a01-11ee-8710-86fac50d5e49.jpg  \n",
            "  inflating: data/anchor/ccc5fb09-7a01-11ee-a679-86fac50d5e49.jpg  \n",
            "  inflating: data/anchor/cccaae74-7a01-11ee-ad36-86fac50d5e49.jpg  \n",
            "  inflating: data/anchor/cccf8c86-7a01-11ee-b747-86fac50d5e49.jpg  \n",
            "  inflating: data/anchor/ccd47a46-7a01-11ee-be99-86fac50d5e49.jpg  \n",
            "  inflating: data/anchor/ccd92df6-7a01-11ee-a436-86fac50d5e49.jpg  \n",
            "  inflating: data/anchor/cce3c041-7a01-11ee-b7e4-86fac50d5e49.jpg  \n",
            "  inflating: data/anchor/cce8cc66-7a01-11ee-832d-86fac50d5e49.jpg  \n",
            "  inflating: data/anchor/cced6b1b-7a01-11ee-9483-86fac50d5e49.jpg  \n",
            "  inflating: data/anchor/ccf236d5-7a01-11ee-a53b-86fac50d5e49.jpg  \n",
            "  inflating: data/anchor/ccfe87b3-7a01-11ee-ade0-86fac50d5e49.jpg  \n",
            "  inflating: data/anchor/cd0bfc29-7a01-11ee-b434-86fac50d5e49.jpg  \n",
            "  inflating: data/anchor/cd11c010-7a01-11ee-8d52-86fac50d5e49.jpg  \n",
            "  inflating: data/anchor/cd1677dc-7a01-11ee-bdee-86fac50d5e49.jpg  \n",
            "  inflating: data/anchor/cd1b6d09-7a01-11ee-9211-86fac50d5e49.jpg  \n",
            "  inflating: data/anchor/cd219d5f-7a01-11ee-856e-86fac50d5e49.jpg  \n",
            "  inflating: data/anchor/cd267780-7a01-11ee-b2c3-86fac50d5e49.jpg  \n",
            "  inflating: data/anchor/cd3431c0-7a01-11ee-9b24-86fac50d5e49.jpg  \n",
            "  inflating: data/anchor/cd38ee4c-7a01-11ee-9a0d-86fac50d5e49.jpg  \n",
            "  inflating: data/anchor/cd44ca7c-7a01-11ee-8fa1-86fac50d5e49.jpg  \n",
            "  inflating: data/anchor/cd49ca54-7a01-11ee-86c4-86fac50d5e49.jpg  \n",
            "  inflating: data/anchor/cd534a8e-7a01-11ee-a96a-86fac50d5e49.jpg  \n",
            "  inflating: data/anchor/cd58277f-7a01-11ee-b0b7-86fac50d5e49.jpg  \n",
            "  inflating: data/anchor/cd5dbb0f-7a01-11ee-be09-86fac50d5e49.jpg  \n",
            "  inflating: data/anchor/cd62efd5-7a01-11ee-ab82-86fac50d5e49.jpg  \n",
            "  inflating: data/anchor/cd67a80f-7a01-11ee-a5f1-86fac50d5e49.jpg  \n",
            "  inflating: data/anchor/cd6ca4f7-7a01-11ee-bbc0-86fac50d5e49.jpg  \n",
            "  inflating: data/anchor/cd706503-7a01-11ee-8369-86fac50d5e49.jpg  \n",
            "  inflating: data/anchor/cd751712-7a01-11ee-8ef1-86fac50d5e49.jpg  \n",
            "  inflating: data/anchor/cd861e7e-7a01-11ee-9c6c-86fac50d5e49.jpg  \n",
            "  inflating: data/anchor/cd93636a-7a01-11ee-b13a-86fac50d5e49.jpg  \n",
            "  inflating: data/anchor/cd997670-7a01-11ee-928d-86fac50d5e49.jpg  \n",
            "  inflating: data/anchor/cd9e199b-7a01-11ee-8190-86fac50d5e49.jpg  \n",
            "  inflating: data/anchor/cda31642-7a01-11ee-aba5-86fac50d5e49.jpg  \n",
            "  inflating: data/anchor/cda7e8f0-7a01-11ee-b58a-86fac50d5e49.jpg  \n",
            "  inflating: data/anchor/cdaca36d-7a01-11ee-acfd-86fac50d5e49.jpg  \n",
            "   creating: data/negative/\n",
            "  inflating: data/negative/Abdul_Majeed_Shobokshi_0001.jpg  \n",
            "  inflating: data/negative/Abdul_Rahman_0001.jpg  \n",
            "  inflating: data/negative/Abdullah_Gul_0001.jpg  \n",
            "  inflating: data/negative/Abdullah_Gul_0002.jpg  \n",
            "  inflating: data/negative/Abdullah_Gul_0003.jpg  \n",
            "  inflating: data/negative/Abdullah_Gul_0004.jpg  \n",
            "  inflating: data/negative/Abdullah_Gul_0005.jpg  \n",
            "  inflating: data/negative/Abdullah_Gul_0006.jpg  \n",
            "  inflating: data/negative/Abdullah_Gul_0007.jpg  \n",
            "  inflating: data/negative/Abdullah_Gul_0008.jpg  \n",
            "  inflating: data/negative/Abdullah_Gul_0009.jpg  \n",
            "  inflating: data/negative/Abdullah_Gul_0010.jpg  \n",
            "  inflating: data/negative/Abdullah_Gul_0011.jpg  \n",
            "  inflating: data/negative/Abdullah_Gul_0012.jpg  \n",
            "  inflating: data/negative/Abdullah_Gul_0013.jpg  \n",
            "  inflating: data/negative/Abdullah_Gul_0014.jpg  \n",
            "  inflating: data/negative/Abdullah_Gul_0015.jpg  \n",
            "  inflating: data/negative/Abdullah_Gul_0016.jpg  \n",
            "  inflating: data/negative/Abdullah_Gul_0017.jpg  \n",
            "  inflating: data/negative/Abdullah_Gul_0018.jpg  \n",
            "  inflating: data/negative/Abdullah_Gul_0019.jpg  \n",
            "  inflating: data/negative/Abdullah_Nasseef_0001.jpg  \n",
            "  inflating: data/negative/Abdullatif_Sener_0001.jpg  \n",
            "  inflating: data/negative/Abdullatif_Sener_0002.jpg  \n",
            "  inflating: data/negative/Abel_Aguilar_0001.jpg  \n",
            "  inflating: data/negative/Abel_Pacheco_0001.jpg  \n",
            "  inflating: data/negative/Abel_Pacheco_0002.jpg  \n",
            "  inflating: data/negative/Abel_Pacheco_0003.jpg  \n",
            "  inflating: data/negative/Abel_Pacheco_0004.jpg  \n",
            "  inflating: data/negative/Abid_Hamid_Mahmud_Al-Tikriti_0001.jpg  \n",
            "  inflating: data/negative/Abid_Hamid_Mahmud_Al-Tikriti_0002.jpg  \n",
            "  inflating: data/negative/Abid_Hamid_Mahmud_Al-Tikriti_0003.jpg  \n",
            "  inflating: data/negative/Abner_Martinez_0001.jpg  \n",
            "  inflating: data/negative/Abraham_Foxman_0001.jpg  \n",
            "  inflating: data/negative/Adam_Kennedy_0001.jpg  \n",
            "  inflating: data/negative/Adam_Mair_0001.jpg  \n",
            "  inflating: data/negative/Adam_Scott_0001.jpg  \n",
            "  inflating: data/negative/Adam_Scott_0002.jpg  \n",
            "  inflating: data/negative/Adelina_Avila_0001.jpg  \n",
            "  inflating: data/negative/Adolfo_Aguilar_Zinser_0001.jpg  \n",
            "  inflating: data/negative/Adolfo_Aguilar_Zinser_0002.jpg  \n",
            "  inflating: data/negative/Adolfo_Aguilar_Zinser_0003.jpg  \n",
            "  inflating: data/negative/Adolfo_Rodriguez_Saa_0001.jpg  \n",
            "  inflating: data/negative/Adolfo_Rodriguez_Saa_0002.jpg  \n",
            "  inflating: data/negative/Adrian_Annus_0001.jpg  \n",
            "  inflating: data/negative/Adrian_Fernandez_0001.jpg  \n",
            "  inflating: data/negative/Ahmet_Demir_0001.jpg  \n",
            "  inflating: data/negative/Ahmet_Necdet_Sezer_0001.jpg  \n",
            "  inflating: data/negative/Ahmet_Necdet_Sezer_0002.jpg  \n",
            "  inflating: data/negative/Aicha_El_Ouafi_0001.jpg  \n",
            "  inflating: data/negative/Aicha_El_Ouafi_0002.jpg  \n",
            "  inflating: data/negative/Aicha_El_Ouafi_0003.jpg  \n",
            "  inflating: data/negative/Aidan_Quinn_0001.jpg  \n",
            "  inflating: data/negative/Akbar_Al_Baker_0001.jpg  \n",
            "  inflating: data/negative/Akbar_Hashemi_Rafsanjani_0001.jpg  \n",
            "  inflating: data/negative/Akbar_Hashemi_Rafsanjani_0002.jpg  \n",
            "  inflating: data/negative/Akbar_Hashemi_Rafsanjani_0003.jpg  \n",
            "  inflating: data/negative/Al_Davis_0001.jpg  \n",
            "  inflating: data/negative/Al_Davis_0002.jpg  \n",
            "  inflating: data/negative/Al_Gore_0001.jpg  \n",
            "  inflating: data/negative/Al_Gore_0002.jpg  \n",
            "  inflating: data/negative/Al_Gore_0003.jpg  \n",
            "  inflating: data/negative/Al_Gore_0004.jpg  \n",
            "  inflating: data/negative/Al_Gore_0005.jpg  \n",
            "  inflating: data/negative/Al_Gore_0006.jpg  \n",
            "  inflating: data/negative/Al_Gore_0007.jpg  \n",
            "  inflating: data/negative/Al_Gore_0008.jpg  \n",
            "  inflating: data/negative/Alan_Ball_0001.jpg  \n",
            "  inflating: data/negative/Alan_Ball_0002.jpg  \n",
            "  inflating: data/negative/Alan_Stonecipher_0001.jpg  \n",
            "  inflating: data/negative/Alan_Tang_Kwong-wing_0001.jpg  \n",
            "  inflating: data/negative/Alan_Trammell_0001.jpg  \n",
            "  inflating: data/negative/Alan_Zemaitis_0001.jpg  \n",
            "  inflating: data/negative/Alanna_Ubach_0001.jpg  \n",
            "  inflating: data/negative/Albert_Brooks_0001.jpg  \n",
            "  inflating: data/negative/Albert_Costa_0001.jpg  \n",
            "  inflating: data/negative/Albert_Costa_0002.jpg  \n",
            "  inflating: data/negative/Albert_Costa_0003.jpg  \n",
            "  inflating: data/negative/Albert_Costa_0004.jpg  \n",
            "  inflating: data/negative/Albert_Costa_0005.jpg  \n",
            "  inflating: data/negative/Albert_Costa_0006.jpg  \n",
            "  inflating: data/negative/Albert_Montanes_0001.jpg  \n",
            "  inflating: data/negative/Albert_Pujols_0001.jpg  \n",
            "  inflating: data/negative/Alberto_Acosta_0001.jpg  \n",
            "  inflating: data/negative/Alberto_Fujimori_0001.jpg  \n",
            "  inflating: data/negative/Alberto_Fujimori_0002.jpg  \n",
            "  inflating: data/negative/Alberto_Sordi_0001.jpg  \n",
            "  inflating: data/negative/Albrecht_Mentz_0001.jpg  \n",
            "  inflating: data/negative/Albrecht_Mentz_0002.jpg  \n",
            "  inflating: data/negative/Aldo_Paredes_0001.jpg  \n",
            "  inflating: data/negative/Aldo_Paredes_0002.jpg  \n",
            "  inflating: data/negative/Alec_Baldwin_0001.jpg  \n",
            "  inflating: data/negative/Alec_Baldwin_0002.jpg  \n",
            "  inflating: data/negative/Alec_Baldwin_0003.jpg  \n",
            "  inflating: data/negative/Alec_Baldwin_0004.jpg  \n",
            "  inflating: data/negative/Alecos_Markides_0001.jpg  \n",
            "  inflating: data/negative/Alejandro_Atchugarry_0001.jpg  \n",
            "  inflating: data/negative/Alejandro_Atchugarry_0002.jpg  \n",
            "  inflating: data/negative/Alex_Barros_0001.jpg  \n",
            "  inflating: data/negative/Alex_Barros_0002.jpg  \n",
            "  inflating: data/negative/Alex_King_0001.jpg  \n",
            "  inflating: data/negative/Alex_Penelas_0001.jpg  \n",
            "  inflating: data/negative/Alex_Penelas_0002.jpg  \n",
            "  inflating: data/negative/Alex_Popov_0001.jpg  \n",
            "  inflating: data/negative/Alex_Sink_0001.jpg  \n",
            "  inflating: data/negative/Alex_Sink_0002.jpg  \n",
            "  inflating: data/negative/Alex_Sink_0003.jpg  \n",
            "  inflating: data/negative/Alexa_Loren_0001.jpg  \n",
            "  inflating: data/negative/Alexa_Vega_0001.jpg  \n",
            "  inflating: data/negative/Alexandra_Vodjanikova_0001.jpg  \n",
            "  inflating: data/negative/Alexandra_Vodjanikova_0002.jpg  \n",
            "  inflating: data/negative/Alexandre_Daigle_0001.jpg  \n",
            "  inflating: data/negative/Alexandre_Despatie_0001.jpg  \n",
            "  inflating: data/negative/Alexandre_Herchcovitch_0001.jpg  \n",
            "  inflating: data/negative/Alexandre_Vinokourov_0001.jpg  \n",
            "  inflating: data/negative/Alexis_Bledel_0001.jpg  \n",
            "  inflating: data/negative/Alexis_Dennisoff_0001.jpg  \n",
            "  inflating: data/negative/Alfonso_Cuaron_0001.jpg  \n",
            "  inflating: data/negative/Alfonso_Portillo_0001.jpg  \n",
            "  inflating: data/negative/Alfred_Ford_0001.jpg  \n",
            "  inflating: data/negative/Alfred_Sant_0001.jpg  \n",
            "  inflating: data/negative/Ali_Naimi_0001.jpg  \n",
            "  inflating: data/negative/Ali_Naimi_0002.jpg  \n",
            "  inflating: data/negative/Ali_Naimi_0003.jpg  \n",
            "  inflating: data/negative/Ali_Naimi_0004.jpg  \n",
            "  inflating: data/negative/Ali_Naimi_0005.jpg  \n",
            "  inflating: data/negative/Ali_Naimi_0006.jpg  \n",
            "  inflating: data/negative/Ali_Naimi_0007.jpg  \n",
            "  inflating: data/negative/Ali_Naimi_0008.jpg  \n",
            "  inflating: data/negative/Alisha_Richman_0001.jpg  \n",
            "  inflating: data/negative/Allan_Houston_0001.jpg  \n",
            "  inflating: data/negative/Allison_Janney_0001.jpg  \n",
            "  inflating: data/negative/Allison_Janney_0002.jpg  \n",
            "  inflating: data/negative/Allison_Searing_0001.jpg  \n",
            "  inflating: data/negative/Alvaro_Silva_Calderon_0001.jpg  \n",
            "  inflating: data/negative/Alvaro_Silva_Calderon_0002.jpg  \n",
            "  inflating: data/negative/Alvaro_Silva_Calderon_0003.jpg  \n",
            "  inflating: data/negative/Alvaro_Silva_Calderon_0004.jpg  \n",
            "  inflating: data/negative/Alvaro_Uribe_0001.jpg  \n",
            "  inflating: data/negative/Alvaro_Uribe_0002.jpg  \n",
            "  inflating: data/negative/Alvaro_Uribe_0003.jpg  \n",
            "  inflating: data/negative/Alvaro_Uribe_0004.jpg  \n",
            "  inflating: data/negative/Alvaro_Uribe_0005.jpg  \n",
            "  inflating: data/negative/Alvaro_Uribe_0006.jpg  \n",
            "  inflating: data/negative/Alvaro_Uribe_0007.jpg  \n",
            "  inflating: data/negative/Alvaro_Uribe_0008.jpg  \n",
            "  inflating: data/negative/Alvaro_Uribe_0009.jpg  \n",
            "  inflating: data/negative/Alvaro_Uribe_0010.jpg  \n",
            "  inflating: data/negative/Alvaro_Uribe_0011.jpg  \n",
            "  inflating: data/negative/Alvaro_Uribe_0012.jpg  \n",
            "  inflating: data/negative/Alvaro_Uribe_0013.jpg  \n",
            "  inflating: data/negative/Alvaro_Uribe_0014.jpg  \n",
            "  inflating: data/negative/Alvaro_Uribe_0015.jpg  \n",
            "  inflating: data/negative/Alvaro_Uribe_0016.jpg  \n",
            "  inflating: data/negative/Alvaro_Uribe_0017.jpg  \n",
            "  inflating: data/negative/Alvaro_Uribe_0018.jpg  \n",
            "  inflating: data/negative/Alvaro_Uribe_0019.jpg  \n",
            "  inflating: data/negative/Alvaro_Uribe_0020.jpg  \n",
            "  inflating: data/negative/Alvaro_Uribe_0021.jpg  \n",
            "  inflating: data/negative/Alvaro_Uribe_0022.jpg  \n",
            "  inflating: data/negative/Alvaro_Uribe_0023.jpg  \n",
            "  inflating: data/negative/Alvaro_Uribe_0024.jpg  \n",
            "  inflating: data/negative/Alvaro_Uribe_0025.jpg  \n",
            "  inflating: data/negative/Alvaro_Uribe_0026.jpg  \n",
            "  inflating: data/negative/Alvaro_Uribe_0027.jpg  \n",
            "  inflating: data/negative/Alvaro_Uribe_0028.jpg  \n",
            "  inflating: data/negative/Alvaro_Uribe_0029.jpg  \n",
            "  inflating: data/negative/Alvaro_Uribe_0030.jpg  \n",
            "  inflating: data/negative/Alvaro_Uribe_0031.jpg  \n",
            "  inflating: data/negative/Alvaro_Uribe_0032.jpg  \n",
            "  inflating: data/negative/Alvaro_Uribe_0033.jpg  \n",
            "  inflating: data/negative/Alvaro_Uribe_0034.jpg  \n",
            "  inflating: data/negative/Alvaro_Uribe_0035.jpg  \n",
            "  inflating: data/negative/Alyse_Beaupre_0001.jpg  \n",
            "  inflating: data/negative/Alyson_Hannigan_0001.jpg  \n",
            "  inflating: data/negative/Amanda_Bynes_0001.jpg  \n",
            "  inflating: data/negative/Amanda_Bynes_0002.jpg  \n",
            "  inflating: data/negative/Amanda_Bynes_0003.jpg  \n",
            "  inflating: data/negative/Amanda_Bynes_0004.jpg  \n",
            "  inflating: data/negative/Amanda_Coetzer_0001.jpg  \n",
            "  inflating: data/negative/Amanda_Coetzer_0002.jpg  \n",
            "  inflating: data/negative/Amanda_Marsh_0001.jpg  \n",
            "  inflating: data/negative/Amanda_Plumer_0001.jpg  \n",
            "  inflating: data/negative/Amber_Frey_0001.jpg  \n",
            "  inflating: data/negative/Amber_Tamblyn_0001.jpg  \n",
            "  inflating: data/negative/Amber_Tamblyn_0002.jpg  \n",
            "  inflating: data/negative/Ambrose_Lee_0001.jpg  \n",
            "  inflating: data/negative/Amelia_Vega_0001.jpg  \n",
            "  inflating: data/negative/Amelia_Vega_0002.jpg  \n",
            "  inflating: data/negative/Amelia_Vega_0003.jpg  \n",
            "  inflating: data/negative/Amelia_Vega_0004.jpg  \n",
            "  inflating: data/negative/Amelia_Vega_0005.jpg  \n",
            "  inflating: data/negative/Amelia_Vega_0006.jpg  \n",
            "  inflating: data/negative/Amelia_Vega_0007.jpg  \n",
            "  inflating: data/negative/Amelie_Mauresmo_0001.jpg  \n",
            "  inflating: data/negative/Amelie_Mauresmo_0002.jpg  \n",
            "  inflating: data/negative/Amelie_Mauresmo_0003.jpg  \n",
            "  inflating: data/negative/Amelie_Mauresmo_0004.jpg  \n",
            "  inflating: data/negative/Amelie_Mauresmo_0005.jpg  \n",
            "  inflating: data/negative/Amelie_Mauresmo_0006.jpg  \n",
            "  inflating: data/negative/Amelie_Mauresmo_0007.jpg  \n",
            "  inflating: data/negative/Amelie_Mauresmo_0008.jpg  \n",
            "  inflating: data/negative/Amelie_Mauresmo_0009.jpg  \n",
            "  inflating: data/negative/Amelie_Mauresmo_0010.jpg  \n",
            "  inflating: data/negative/Amelie_Mauresmo_0011.jpg  \n",
            "  inflating: data/negative/Amelie_Mauresmo_0012.jpg  \n",
            "  inflating: data/negative/Amelie_Mauresmo_0013.jpg  \n",
            "  inflating: data/negative/Amelie_Mauresmo_0014.jpg  \n",
            "  inflating: data/negative/Amelie_Mauresmo_0015.jpg  \n",
            "  inflating: data/negative/Amelie_Mauresmo_0016.jpg  \n",
            "  inflating: data/negative/Amelie_Mauresmo_0017.jpg  \n",
            "  inflating: data/negative/Amelie_Mauresmo_0018.jpg  \n",
            "  inflating: data/negative/Amelie_Mauresmo_0019.jpg  \n",
            "  inflating: data/negative/Amelie_Mauresmo_0020.jpg  \n",
            "  inflating: data/negative/Amelie_Mauresmo_0021.jpg  \n",
            "  inflating: data/negative/Amer_al-Saadi_0001.jpg  \n",
            "  inflating: data/negative/Amer_al-Saadi_0002.jpg  \n",
            "  inflating: data/negative/Amer_al-Saadi_0003.jpg  \n",
            "  inflating: data/negative/Amer_al-Saadi_0004.jpg  \n",
            "  inflating: data/negative/Amr_Moussa_0001.jpg  \n",
            "  inflating: data/negative/Amy_Brenneman_0001.jpg  \n",
            "  inflating: data/negative/Amy_Cotton_0001.jpg  \n",
            "  inflating: data/negative/Amy_Gale_0001.jpg  \n",
            "  inflating: data/negative/Amy_Pascal_0001.jpg  \n",
            "  inflating: data/negative/Amy_Redford_0001.jpg  \n",
            "  inflating: data/negative/Amy_Smart_0001.jpg  \n",
            "  inflating: data/negative/Amy_Yasbeck_0001.jpg  \n",
            "  inflating: data/negative/Andrzej_Tyszkiewicz_0001.jpg  \n",
            "  inflating: data/negative/Andy_Benes_0001.jpg  \n",
            "  inflating: data/negative/Andy_Bryant_0001.jpg  \n",
            "  inflating: data/negative/Andy_Dick_0001.jpg  \n",
            "  inflating: data/negative/Andy_Garcia_0001.jpg  \n",
            "  inflating: data/negative/Andy_Graves_0001.jpg  \n",
            "  inflating: data/negative/Andy_Griffith_0001.jpg  \n",
            "  inflating: data/negative/Andy_Griggs_0001.jpg  \n",
            "  inflating: data/negative/Andy_Hebb_0001.jpg  \n",
            "  inflating: data/negative/Andy_Hebb_0002.jpg  \n",
            "  inflating: data/negative/Andy_Lau_0001.jpg  \n",
            "  inflating: data/negative/Andy_Madikians_0001.jpg  \n",
            "  inflating: data/negative/Andy_North_0001.jpg  \n",
            "  inflating: data/negative/Andy_Perez_0001.jpg  \n",
            "  inflating: data/negative/Andy_Roddick_0001.jpg  \n",
            "  inflating: data/negative/Andy_Roddick_0002.jpg  \n",
            "  inflating: data/negative/Andy_Roddick_0003.jpg  \n",
            "  inflating: data/negative/Andy_Roddick_0004.jpg  \n",
            "  inflating: data/negative/Andy_Roddick_0005.jpg  \n",
            "  inflating: data/negative/Andy_Roddick_0006.jpg  \n",
            "  inflating: data/negative/Andy_Roddick_0007.jpg  \n",
            "  inflating: data/negative/Andy_Roddick_0008.jpg  \n",
            "  inflating: data/negative/Andy_Roddick_0009.jpg  \n",
            "  inflating: data/negative/Andy_Roddick_0010.jpg  \n",
            "  inflating: data/negative/Andy_Roddick_0011.jpg  \n",
            "  inflating: data/negative/Andy_Roddick_0012.jpg  \n",
            "  inflating: data/negative/Andy_Roddick_0013.jpg  \n",
            "  inflating: data/negative/Andy_Roddick_0014.jpg  \n",
            "  inflating: data/negative/Andy_Roddick_0015.jpg  \n",
            "  inflating: data/negative/Andy_Rooney_0001.jpg  \n",
            "  inflating: data/negative/Andy_Warhol_0001.jpg  \n",
            "  inflating: data/negative/Andy_Wisecarver_0001.jpg  \n",
            "  inflating: data/negative/Anette_Hosoi_0001.jpg  \n",
            "  inflating: data/negative/AnFernce_Negron_0001.jpg  \n",
            "  inflating: data/negative/Angela_Alvarado_Rosa_0001.jpg  \n",
            "  inflating: data/negative/Angela_Bassett_0001.jpg  \n",
            "  inflating: data/negative/Angela_Bassett_0002.jpg  \n",
            "  inflating: data/negative/Angela_Bassett_0003.jpg  \n",
            "  inflating: data/negative/Angela_Bassett_0004.jpg  \n",
            "  inflating: data/negative/Angela_Bassett_0005.jpg  \n",
            "  inflating: data/negative/Angela_Bassett_0006.jpg  \n",
            "  inflating: data/negative/Angela_Lansbury_0001.jpg  \n",
            "  inflating: data/negative/Angela_Lansbury_0002.jpg  \n",
            "  inflating: data/negative/Angela_Mascia-Frye_0001.jpg  \n",
            "  inflating: data/negative/Angela_Merkel_0001.jpg  \n",
            "  inflating: data/negative/Angela_Merkel_0002.jpg  \n",
            "  inflating: data/negative/Angela_Merkel_0003.jpg  \n",
            "  inflating: data/negative/Angela_Merkel_0004.jpg  \n",
            "  inflating: data/negative/Angela_Merkel_0005.jpg  \n",
            "  inflating: data/negative/Angelica_Romero_0001.jpg  \n",
            "  inflating: data/negative/Angelina_Jolie_0001.jpg  \n",
            "  inflating: data/negative/Angelina_Jolie_0002.jpg  \n",
            "  inflating: data/negative/Angelina_Jolie_0003.jpg  \n",
            "  inflating: data/negative/Angelina_Jolie_0004.jpg  \n",
            "  inflating: data/negative/Angelina_Jolie_0005.jpg  \n",
            "  inflating: data/negative/Angelina_Jolie_0006.jpg  \n",
            "  inflating: data/negative/Angelina_Jolie_0007.jpg  \n",
            "  inflating: data/negative/Angelina_Jolie_0008.jpg  \n",
            "  inflating: data/negative/Angelina_Jolie_0009.jpg  \n",
            "  inflating: data/negative/Angelina_Jolie_0010.jpg  \n",
            "  inflating: data/negative/Angelina_Jolie_0011.jpg  \n",
            "  inflating: data/negative/Angelina_Jolie_0012.jpg  \n",
            "  inflating: data/negative/Angelina_Jolie_0013.jpg  \n",
            "  inflating: data/negative/Angelina_Jolie_0014.jpg  \n",
            "  inflating: data/negative/Angelina_Jolie_0015.jpg  \n",
            "  inflating: data/negative/Angelina_Jolie_0016.jpg  \n",
            "  inflating: data/negative/Angelina_Jolie_0017.jpg  \n",
            "  inflating: data/negative/Angelina_Jolie_0018.jpg  \n",
            "  inflating: data/negative/Angelina_Jolie_0019.jpg  \n",
            "  inflating: data/negative/Angelina_Jolie_0020.jpg  \n",
            "  inflating: data/negative/Angelo_Genova_0001.jpg  \n",
            "  inflating: data/negative/Angelo_Reyes_0001.jpg  \n",
            "  inflating: data/negative/Angelo_Reyes_0002.jpg  \n",
            "  inflating: data/negative/Angelo_Reyes_0003.jpg  \n",
            "  inflating: data/negative/Angelo_Reyes_0004.jpg  \n",
            "  inflating: data/negative/Angie_Arzola_0001.jpg  \n",
            "  inflating: data/negative/Angie_Martinez_0001.jpg  \n",
            "  inflating: data/negative/Anibal_Ibarra_0001.jpg  \n",
            "  inflating: data/negative/Anibal_Ibarra_0002.jpg  \n",
            "  inflating: data/negative/Anibal_Ibarra_0003.jpg  \n",
            "  inflating: data/negative/Anil_Ramsook_0001.jpg  \n",
            "  inflating: data/negative/Anita_DeFrantz_0001.jpg  \n",
            "  inflating: data/negative/Anja_Paerson_0001.jpg  \n",
            "  inflating: data/negative/Anjum_Hussain_0001.jpg  \n",
            "  inflating: data/negative/Ann_Godbehere_0001.jpg  \n",
            "  inflating: data/negative/Ann_Landers_0001.jpg  \n",
            "  inflating: data/negative/Ann_Morgan_0001.jpg  \n",
            "  inflating: data/negative/Ann_Veneman_0001.jpg  \n",
            "  inflating: data/negative/Ann_Veneman_0002.jpg  \n",
            "  inflating: data/negative/Ann_Veneman_0003.jpg  \n",
            "  inflating: data/negative/Ann_Veneman_0004.jpg  \n",
            "  inflating: data/negative/Ann_Veneman_0005.jpg  \n",
            "  inflating: data/negative/Ann_Veneman_0006.jpg  \n",
            "  inflating: data/negative/Ann_Veneman_0007.jpg  \n",
            "  inflating: data/negative/Ann_Veneman_0008.jpg  \n",
            "  inflating: data/negative/Ann_Veneman_0009.jpg  \n",
            "  inflating: data/negative/Ann_Veneman_0010.jpg  \n",
            "  inflating: data/negative/Ann_Veneman_0011.jpg  \n",
            "  inflating: data/negative/Anna_Chicherova_0001.jpg  \n",
            "  inflating: data/negative/Anna_Faris_0001.jpg  \n",
            "  inflating: data/negative/Anna_Jones_0001.jpg  \n",
            "  inflating: data/negative/Anne_ONeil_0001.jpg  \n",
            "  inflating: data/negative/Annie_Chaplin_0001.jpg  \n",
            "  inflating: data/negative/Annie_Machon_0001.jpg  \n",
            "  inflating: data/negative/Annie-Jeanne_Reynaud_0001.jpg  \n",
            "  inflating: data/negative/Annika_Sorenstam_0001.jpg  \n",
            "  inflating: data/negative/Antanas_Valionis_0001.jpg  \n",
            "  inflating: data/negative/Anthony_Carter_0001.jpg  \n",
            "  inflating: data/negative/Anthony_Corso_0001.jpg  \n",
            "  inflating: data/negative/Anthony_Ervin_0001.jpg  \n",
            "  inflating: data/negative/Anthony_Fauci_0001.jpg  \n",
            "  inflating: data/negative/Anthony_Fauci_0002.jpg  \n",
            "  inflating: data/negative/Anthony_Garotinho_0001.jpg  \n",
            "  inflating: data/negative/Anthony_Hazen_0001.jpg  \n",
            "  inflating: data/negative/Anthony_Hopkins_0001.jpg  \n",
            "  inflating: data/negative/Anthony_Hopkins_0002.jpg  \n",
            "  inflating: data/negative/Anthony_LaPaglia_0001.jpg  \n",
            "  inflating: data/negative/Anthony_LaPaglia_0002.jpg  \n",
            "  inflating: data/negative/Anthony_Lee_Johnson_0001.jpg  \n",
            "  inflating: data/negative/Anthony_Mazur_0001.jpg  \n",
            "  inflating: data/negative/Anthony_Pico_0001.jpg  \n",
            "  inflating: data/negative/Anthony_Pisciotti_0001.jpg  \n",
            "  inflating: data/negative/Anthony_Principi_0001.jpg  \n",
            "  inflating: data/negative/Anthony_Rackauckas_0001.jpg  \n",
            "  inflating: data/negative/Anthony_Scott_Miller_0001.jpg  \n",
            "  inflating: data/negative/Antje_Buschschulte_0001.jpg  \n",
            "  inflating: data/negative/Antonio_Banderas_0001.jpg  \n",
            "  inflating: data/negative/Antonio_Banderas_0002.jpg  \n",
            "  inflating: data/negative/Antonio_Banderas_0003.jpg  \n",
            "  inflating: data/negative/Antonio_Banderas_0004.jpg  \n",
            "  inflating: data/negative/Antonio_Banderas_0005.jpg  \n",
            "  inflating: data/negative/Antonio_Bernardo_0001.jpg  \n",
            "  inflating: data/negative/Antonio_Cassano_0001.jpg  \n",
            "  inflating: data/negative/Antonio_Catania_0001.jpg  \n",
            "  inflating: data/negative/Arianna_Huffington_0001.jpg  \n",
            "  inflating: data/negative/Arianna_Huffington_0002.jpg  \n",
            "  inflating: data/negative/Arianna_Huffington_0003.jpg  \n",
            "  inflating: data/negative/Arianna_Huffington_0004.jpg  \n",
            "  inflating: data/negative/Ariel_Sharon_0001.jpg  \n",
            "  inflating: data/negative/Ariel_Sharon_0002.jpg  \n",
            "  inflating: data/negative/Ariel_Sharon_0003.jpg  \n",
            "  inflating: data/negative/Ariel_Sharon_0004.jpg  \n",
            "  inflating: data/negative/Ariel_Sharon_0005.jpg  \n",
            "  inflating: data/negative/Ariel_Sharon_0006.jpg  \n",
            "  inflating: data/negative/Ariel_Sharon_0007.jpg  \n",
            "  inflating: data/negative/Ariel_Sharon_0008.jpg  \n",
            "  inflating: data/negative/Ariel_Sharon_0009.jpg  \n",
            "  inflating: data/negative/Ariel_Sharon_0010.jpg  \n",
            "  inflating: data/negative/Ariel_Sharon_0011.jpg  \n",
            "  inflating: data/negative/Ariel_Sharon_0012.jpg  \n",
            "  inflating: data/negative/Ariel_Sharon_0013.jpg  \n",
            "  inflating: data/negative/Ariel_Sharon_0014.jpg  \n",
            "  inflating: data/negative/Ariel_Sharon_0015.jpg  \n",
            "  inflating: data/negative/Ariel_Sharon_0016.jpg  \n",
            "  inflating: data/negative/Ariel_Sharon_0017.jpg  \n",
            "  inflating: data/negative/Ariel_Sharon_0018.jpg  \n",
            "  inflating: data/negative/Ariel_Sharon_0019.jpg  \n",
            "  inflating: data/negative/Ariel_Sharon_0020.jpg  \n",
            "  inflating: data/negative/Ariel_Sharon_0021.jpg  \n",
            "  inflating: data/negative/Ariel_Sharon_0022.jpg  \n",
            "  inflating: data/negative/Ariel_Sharon_0023.jpg  \n",
            "  inflating: data/negative/Ariel_Sharon_0024.jpg  \n",
            "  inflating: data/negative/Ariel_Sharon_0025.jpg  \n",
            "  inflating: data/negative/Ariel_Sharon_0026.jpg  \n",
            "  inflating: data/negative/Ariel_Sharon_0027.jpg  \n",
            "  inflating: data/negative/Ariel_Sharon_0028.jpg  \n",
            "  inflating: data/negative/Ariel_Sharon_0029.jpg  \n",
            "  inflating: data/negative/Ariel_Sharon_0030.jpg  \n",
            "  inflating: data/negative/Ariel_Sharon_0031.jpg  \n",
            "  inflating: data/negative/Ariel_Sharon_0032.jpg  \n",
            "  inflating: data/negative/Ariel_Sharon_0033.jpg  \n",
            "  inflating: data/negative/Ariel_Sharon_0034.jpg  \n",
            "  inflating: data/negative/Ariel_Sharon_0035.jpg  \n",
            "  inflating: data/negative/Ariel_Sharon_0036.jpg  \n",
            "  inflating: data/negative/Ariel_Sharon_0037.jpg  \n",
            "  inflating: data/negative/Ariel_Sharon_0038.jpg  \n",
            "  inflating: data/negative/Ariel_Sharon_0039.jpg  \n",
            "  inflating: data/negative/Ariel_Sharon_0040.jpg  \n",
            "  inflating: data/negative/Ariel_Sharon_0041.jpg  \n",
            "  inflating: data/negative/Ariel_Sharon_0042.jpg  \n",
            "  inflating: data/negative/Ariel_Sharon_0043.jpg  \n",
            "  inflating: data/negative/Ariel_Sharon_0044.jpg  \n",
            "  inflating: data/negative/Ariel_Sharon_0045.jpg  \n",
            "  inflating: data/negative/Ariel_Sharon_0046.jpg  \n",
            "  inflating: data/negative/Ariel_Sharon_0047.jpg  \n",
            "  inflating: data/negative/Ariel_Sharon_0048.jpg  \n",
            "  inflating: data/negative/Ariel_Sharon_0049.jpg  \n",
            "  inflating: data/negative/Ariel_Sharon_0050.jpg  \n",
            "  inflating: data/negative/Arnaud_Clement_0001.jpg  \n",
            "  inflating: data/negative/Arnaud_Clement_0002.jpg  \n",
            "  inflating: data/negative/Arnaud_Lagardere_0001.jpg  \n",
            "  inflating: data/negative/Arnold_Palmer_0001.jpg  \n",
            "  inflating: data/negative/Arnold_Palmer_0002.jpg  \n",
            "  inflating: data/negative/Arnold_Palmer_0003.jpg  \n",
            "  inflating: data/negative/Arnold_Schwarzenegger_0001.jpg  \n",
            "  inflating: data/negative/Arnold_Schwarzenegger_0002.jpg  \n",
            "  inflating: data/negative/Arnold_Schwarzenegger_0003.jpg  \n",
            "  inflating: data/negative/Arnold_Schwarzenegger_0004.jpg  \n",
            "  inflating: data/negative/Arnold_Schwarzenegger_0005.jpg  \n",
            "  inflating: data/negative/Arnold_Schwarzenegger_0006.jpg  \n",
            "  inflating: data/negative/Arnold_Schwarzenegger_0007.jpg  \n",
            "  inflating: data/negative/Arnold_Schwarzenegger_0008.jpg  \n",
            "  inflating: data/negative/Arnold_Schwarzenegger_0009.jpg  \n",
            "  inflating: data/negative/Arnold_Schwarzenegger_0010.jpg  \n",
            "  inflating: data/negative/Arnold_Schwarzenegger_0011.jpg  \n",
            "  inflating: data/negative/Arnold_Schwarzenegger_0012.jpg  \n",
            "  inflating: data/negative/Arnold_Schwarzenegger_0013.jpg  \n",
            "  inflating: data/negative/Arnold_Schwarzenegger_0014.jpg  \n",
            "  inflating: data/negative/Arnold_Schwarzenegger_0015.jpg  \n",
            "  inflating: data/negative/Arnold_Schwarzenegger_0016.jpg  \n",
            "  inflating: data/negative/Arnold_Schwarzenegger_0017.jpg  \n",
            "  inflating: data/negative/Arnold_Schwarzenegger_0018.jpg  \n",
            "  inflating: data/negative/Arnold_Schwarzenegger_0019.jpg  \n",
            "  inflating: data/negative/Arnold_Schwarzenegger_0020.jpg  \n",
            "  inflating: data/negative/Arnold_Schwarzenegger_0021.jpg  \n",
            "  inflating: data/negative/Arnold_Schwarzenegger_0022.jpg  \n",
            "  inflating: data/negative/Arnold_Schwarzenegger_0023.jpg  \n",
            "  inflating: data/negative/Arnold_Schwarzenegger_0024.jpg  \n",
            "  inflating: data/negative/Arnold_Schwarzenegger_0025.jpg  \n",
            "  inflating: data/negative/Arnold_Schwarzenegger_0026.jpg  \n",
            "  inflating: data/negative/Arnold_Schwarzenegger_0027.jpg  \n",
            "  inflating: data/negative/Arnold_Schwarzenegger_0028.jpg  \n",
            "  inflating: data/negative/Arnold_Schwarzenegger_0029.jpg  \n",
            "  inflating: data/negative/Arnold_Schwarzenegger_0030.jpg  \n",
            "  inflating: data/negative/Arnold_Schwarzenegger_0031.jpg  \n",
            "  inflating: data/negative/Arnold_Schwarzenegger_0032.jpg  \n",
            "  inflating: data/negative/Arnold_Schwarzenegger_0033.jpg  \n",
            "  inflating: data/negative/Arnold_Schwarzenegger_0034.jpg  \n",
            "  inflating: data/negative/Arnold_Schwarzenegger_0035.jpg  \n",
            "  inflating: data/negative/Arnold_Schwarzenegger_0036.jpg  \n",
            "  inflating: data/negative/Arnold_Schwarzenegger_0037.jpg  \n",
            "  inflating: data/negative/Arnold_Schwarzenegger_0038.jpg  \n",
            "  inflating: data/negative/Arnold_Schwarzenegger_0039.jpg  \n",
            "  inflating: data/negative/Arnold_Schwarzenegger_0040.jpg  \n",
            "  inflating: data/negative/Arnold_Schwarzenegger_0041.jpg  \n",
            "  inflating: data/negative/Arnold_Schwarzenegger_0042.jpg  \n",
            "  inflating: data/negative/Arnold_Scott_0001.jpg  \n",
            "  inflating: data/negative/Aron_Ralston_0001.jpg  \n",
            "  inflating: data/negative/Aron_Ralston_0002.jpg  \n",
            "  inflating: data/negative/Arsinee_Khanjian_0001.jpg  \n",
            "  inflating: data/negative/Arsinee_Khanjian_0002.jpg  \n",
            "  inflating: data/negative/Art_Cooper_0001.jpg  \n",
            "  inflating: data/negative/Art_Lopez_0001.jpg  \n",
            "  inflating: data/negative/Arthur_Johnson_0001.jpg  \n",
            "  inflating: data/negative/Arthur_Martinez_0001.jpg  \n",
            "  inflating: data/negative/Artieas_Shanks_0001.jpg  \n",
            "  inflating: data/negative/Arturo_Gatti_0001.jpg  \n",
            "  inflating: data/negative/Arturo_Gatti_0002.jpg  \n",
            "  inflating: data/negative/Arturo_Gatti_0003.jpg  \n",
            "  inflating: data/negative/Arye_Mekel_0001.jpg  \n",
            "  inflating: data/negative/Arye_Mekel_0002.jpg  \n",
            "  inflating: data/negative/Asa_Hutchinson_0001.jpg  \n",
            "  inflating: data/negative/Asa_Hutchinson_0002.jpg  \n",
            "  inflating: data/negative/Ascencion_Barajas_0001.jpg  \n",
            "  inflating: data/negative/Ashanti_0001.jpg  \n",
            "  inflating: data/negative/Ashanti_0002.jpg  \n",
            "  inflating: data/negative/Ashanti_0003.jpg  \n",
            "  inflating: data/negative/Ashanti_0004.jpg  \n",
            "  inflating: data/negative/Ashanti_0005.jpg  \n",
            "  inflating: data/negative/Ashlea_Talbot_0001.jpg  \n",
            "  inflating: data/negative/Ashley_Judd_0001.jpg  \n",
            "  inflating: data/negative/Ashley_Olsen_0001.jpg  \n",
            "  inflating: data/negative/Ashley_Postell_0001.jpg  \n",
            "  inflating: data/negative/Ashraf_Alasmar_0001.jpg  \n",
            "  inflating: data/negative/Ashraf_Ghani_0001.jpg  \n",
            "  inflating: data/negative/Ashton_Kutcher_0001.jpg  \n",
            "  inflating: data/negative/Ashton_Kutcher_0002.jpg  \n",
            "  inflating: data/negative/Ashton_Kutcher_0003.jpg  \n",
            "  inflating: data/negative/Asif_Ali_Zardari_0001.jpg  \n",
            "  inflating: data/negative/Asif_Hanif_0001.jpg  \n",
            "  inflating: data/negative/Askar_Akayev_0001.jpg  \n",
            "  inflating: data/negative/Asmaa_Assad_0001.jpg  \n",
            "  inflating: data/negative/Assad_Ahmadi_0001.jpg  \n",
            "  inflating: data/negative/Astou_Ndiaye-Diatta_0001.jpg  \n",
            "  inflating: data/negative/Astrid_Betancourt_0001.jpg  \n",
            "  inflating: data/negative/Astrid_Eyzaguirre_0001.jpg  \n",
            "  inflating: data/negative/Atal_Bihari_Vajpayee_0001.jpg  \n",
            "  inflating: data/negative/Atal_Bihari_Vajpayee_0002.jpg  \n",
            "  inflating: data/negative/Atal_Bihari_Vajpayee_0003.jpg  \n",
            "  inflating: data/negative/Atal_Bihari_Vajpayee_0004.jpg  \n",
            "  inflating: data/negative/Atal_Bihari_Vajpayee_0005.jpg  \n",
            "  inflating: data/negative/Atal_Bihari_Vajpayee_0006.jpg  \n",
            "  inflating: data/negative/Atal_Bihari_Vajpayee_0007.jpg  \n",
            "  inflating: data/negative/Atal_Bihari_Vajpayee_0008.jpg  \n",
            "  inflating: data/negative/Atal_Bihari_Vajpayee_0009.jpg  \n",
            "  inflating: data/negative/Atal_Bihari_Vajpayee_0010.jpg  \n",
            "  inflating: data/negative/Atal_Bihari_Vajpayee_0011.jpg  \n",
            "  inflating: data/negative/Atal_Bihari_Vajpayee_0012.jpg  \n",
            "  inflating: data/negative/Atal_Bihari_Vajpayee_0013.jpg  \n",
            "  inflating: data/negative/Atal_Bihari_Vajpayee_0014.jpg  \n",
            "  inflating: data/negative/Atal_Bihari_Vajpayee_0015.jpg  \n",
            "  inflating: data/negative/Atal_Bihari_Vajpayee_0016.jpg  \n",
            "  inflating: data/negative/Atal_Bihari_Vajpayee_0017.jpg  \n",
            "  inflating: data/negative/Atal_Bihari_Vajpayee_0018.jpg  \n",
            "  inflating: data/negative/Atal_Bihari_Vajpayee_0019.jpg  \n",
            "  inflating: data/negative/Atal_Bihari_Vajpayee_0020.jpg  \n",
            "  inflating: data/negative/Atal_Bihari_Vajpayee_0021.jpg  \n",
            "  inflating: data/negative/Atal_Bihari_Vajpayee_0022.jpg  \n",
            "  inflating: data/negative/Atal_Bihari_Vajpayee_0023.jpg  \n",
            "  inflating: data/negative/Atal_Bihari_Vajpayee_0024.jpg  \n",
            "  inflating: data/negative/Ataollah_Mohajerani_0001.jpg  \n",
            "  inflating: data/negative/Atiabet_Ijan_Amabel_0001.jpg  \n",
            "  inflating: data/negative/Atom_Egoyan_0001.jpg  \n",
            "  inflating: data/negative/Atsushi_Sato_0001.jpg  \n",
            "  inflating: data/negative/Audrey_Lacroix_0001.jpg  \n",
            "  inflating: data/negative/Audrey_Sauret_0001.jpg  \n",
            "  inflating: data/negative/Augustin_Calleri_0001.jpg  \n",
            "  inflating: data/negative/Augustin_Calleri_0002.jpg  \n",
            "  inflating: data/negative/Augustin_Calleri_0003.jpg  \n",
            "  inflating: data/negative/Augustin_Calleri_0004.jpg  \n",
            "  inflating: data/negative/Aung_San_Suu_Kyi_0001.jpg  \n",
            "  inflating: data/negative/Aung_San_Suu_Kyi_0002.jpg  \n",
            "  inflating: data/negative/Austin_Kearns_0001.jpg  \n",
            "  inflating: data/negative/Avril_Lavigne_0001.jpg  \n",
            "  inflating: data/negative/Azmi_Bishara_0001.jpg  \n",
            "  inflating: data/negative/Azra_Akin_0001.jpg  \n",
            "  inflating: data/negative/Azra_Akin_0002.jpg  \n",
            "  inflating: data/negative/Azra_Akin_0003.jpg  \n",
            "  inflating: data/negative/Azra_Akin_0004.jpg  \n",
            "  inflating: data/negative/Babe_Ruth_0001.jpg  \n",
            "  inflating: data/negative/Baburam_Bhattari_0001.jpg  \n",
            "  inflating: data/negative/Bak_Chang-Ryun_0001.jpg  \n",
            "  inflating: data/negative/Barbara_Bach_0001.jpg  \n",
            "  inflating: data/negative/Barbara_Becker_0001.jpg  \n",
            "  inflating: data/negative/Barbara_Bodine_0001.jpg  \n",
            "  inflating: data/negative/Barbara_Boxer_0001.jpg  \n",
            "  inflating: data/negative/Barbara_Brezigar_0001.jpg  \n",
            "  inflating: data/negative/Barbara_Brezigar_0002.jpg  \n",
            "  inflating: data/negative/Barbara_De_Brun_0001.jpg  \n",
            "  inflating: data/negative/Barbara_Esbin_0001.jpg  \n",
            "  inflating: data/negative/Barbara_Felt-Miller_0001.jpg  \n",
            "  inflating: data/negative/Barbara_Roberts_0001.jpg  \n",
            "  inflating: data/negative/Barbara_Walters_0001.jpg  \n",
            "  inflating: data/negative/Barbara_Walters_0002.jpg  \n",
            "  inflating: data/negative/Barbara_Walters_0003.jpg  \n",
            "  inflating: data/negative/Barbara_Walters_0004.jpg  \n",
            "  inflating: data/negative/Ben_Affleck_0001.jpg  \n",
            "  inflating: data/negative/Ben_Affleck_0002.jpg  \n",
            "  inflating: data/negative/Ben_Affleck_0003.jpg  \n",
            "  inflating: data/negative/Ben_Affleck_0004.jpg  \n",
            "  inflating: data/negative/Ben_Affleck_0005.jpg  \n",
            "  inflating: data/negative/Ben_Affleck_0006.jpg  \n",
            "  inflating: data/negative/Ben_Affleck_0007.jpg  \n",
            "  inflating: data/negative/Ben_Betts_0001.jpg  \n",
            "  inflating: data/negative/Ben_Cahoon_0001.jpg  \n",
            "  inflating: data/negative/Ben_Chandler_0001.jpg  \n",
            "  inflating: data/negative/Ben_Howland_0001.jpg  \n",
            "  inflating: data/negative/Ben_Howland_0002.jpg  \n",
            "  inflating: data/negative/Ben_Howland_0003.jpg  \n",
            "  inflating: data/negative/Ben_Howland_0004.jpg  \n",
            "  inflating: data/negative/Ben_Kingsley_0001.jpg  \n",
            "  inflating: data/negative/Ben_Wallace_0001.jpg  \n",
            "  inflating: data/negative/Bernadette_Peters_0001.jpg  \n",
            "  inflating: data/negative/Bernard_Ebbers_0001.jpg  \n",
            "  inflating: data/negative/Bernard_Giraudeau_0001.jpg  \n",
            "  inflating: data/negative/Bernard_Kerik_0001.jpg  \n",
            "  inflating: data/negative/Bernard_Landry_0001.jpg  \n",
            "  inflating: data/negative/Bernard_Landry_0002.jpg  \n",
            "  inflating: data/negative/Bernard_Landry_0003.jpg  \n",
            "  inflating: data/negative/Bernard_Landry_0004.jpg  \n",
            "  inflating: data/negative/Bernard_Law_0001.jpg  \n",
            "  inflating: data/negative/Bernard_Law_0002.jpg  \n",
            "  inflating: data/negative/Bernard_Law_0003.jpg  \n",
            "  inflating: data/negative/Bernard_Law_0004.jpg  \n",
            "  inflating: data/negative/Bernard_Law_0005.jpg  \n",
            "  inflating: data/negative/Bernard_Lord_0001.jpg  \n",
            "  inflating: data/negative/Bernard_Lord_0002.jpg  \n",
            "  inflating: data/negative/Bernard_Siegel_0001.jpg  \n",
            "  inflating: data/negative/Bernardo_Segura_0001.jpg  \n",
            "  inflating: data/negative/Bernardo_Segura_0002.jpg  \n",
            "  inflating: data/negative/Bernice_Wong_0001.jpg  \n",
            "  inflating: data/negative/Bertie_Ahern_0001.jpg  \n",
            "  inflating: data/negative/Bertie_Ahern_0002.jpg  \n",
            "  inflating: data/negative/Bertie_Ahern_0003.jpg  \n",
            "  inflating: data/negative/Bertie_Ahern_0004.jpg  \n",
            "  inflating: data/negative/Bertie_Ahern_0005.jpg  \n",
            "  inflating: data/negative/Bertrand_Bonello_0001.jpg  \n",
            "  inflating: data/negative/Bertrand_Bonello_0002.jpg  \n",
            "  inflating: data/negative/Bertrand_Delanoe_0001.jpg  \n",
            "  inflating: data/negative/Beth_Blough_0001.jpg  \n",
            "  inflating: data/negative/Beth_Jones_0001.jpg  \n",
            "  inflating: data/negative/Beth_Jones_0002.jpg  \n",
            "  inflating: data/negative/Betsy_Coffin_0001.jpg  \n",
            "  inflating: data/negative/Betsy_Smith_0001.jpg  \n",
            "  inflating: data/negative/Betsy_Smith_0002.jpg  \n",
            "  inflating: data/negative/Bettina_Rheims_0001.jpg  \n",
            "  inflating: data/negative/Betty_Garrison_0001.jpg  \n",
            "  inflating: data/negative/Betty_Williams_0001.jpg  \n",
            "  inflating: data/negative/Beyonce_Knowles_0001.jpg  \n",
            "  inflating: data/negative/Bianca_Jagger_0001.jpg  \n",
            "  inflating: data/negative/Bijan_Darvish_0001.jpg  \n",
            "  inflating: data/negative/Bijan_Darvish_0002.jpg  \n",
            "  inflating: data/negative/Bijan_Darvish_0003.jpg  \n",
            "  inflating: data/negative/Bijan_Namdar_Zangeneh_0001.jpg  \n",
            "  inflating: data/negative/Bijan_Namdar_Zangeneh_0002.jpg  \n",
            "  inflating: data/negative/Bilal_Erdogan_0001.jpg  \n",
            "  inflating: data/negative/Biljana_Plavsic_0001.jpg  \n",
            "  inflating: data/negative/Biljana_Plavsic_0002.jpg  \n",
            "  inflating: data/negative/Biljana_Plavsic_0003.jpg  \n",
            "  inflating: data/negative/Bill_Belichick_0001.jpg  \n",
            "  inflating: data/negative/Bill_Belichick_0002.jpg  \n",
            "  inflating: data/negative/Bill_Bradley_0001.jpg  \n",
            "  inflating: data/negative/Bill_Butler_0001.jpg  \n",
            "  inflating: data/negative/Bill_Byrne_0001.jpg  \n",
            "  inflating: data/negative/Bill_Callahan_0001.jpg  \n",
            "  inflating: data/negative/Bill_Callahan_0002.jpg  \n",
            "  inflating: data/negative/Bill_Callahan_0003.jpg  \n",
            "  inflating: data/negative/Bill_Carmody_0001.jpg  \n",
            "  inflating: data/negative/Bill_Cartwright_0001.jpg  \n",
            "  inflating: data/negative/Bill_Clancy_0001.jpg  \n",
            "  inflating: data/negative/Bill_Clinton_0001.jpg  \n",
            "  inflating: data/negative/Bill_Clinton_0002.jpg  \n",
            "  inflating: data/negative/Bill_Clinton_0003.jpg  \n",
            "  inflating: data/negative/Bill_Clinton_0004.jpg  \n",
            "  inflating: data/negative/Bill_Clinton_0005.jpg  \n",
            "  inflating: data/negative/Bill_Clinton_0006.jpg  \n",
            "  inflating: data/negative/Bill_Clinton_0007.jpg  \n",
            "  inflating: data/negative/Bill_Clinton_0008.jpg  \n",
            "  inflating: data/negative/Bill_Clinton_0009.jpg  \n",
            "  inflating: data/negative/Bill_Clinton_0010.jpg  \n",
            "  inflating: data/negative/Bill_Clinton_0011.jpg  \n",
            "  inflating: data/negative/Bill_Clinton_0012.jpg  \n",
            "  inflating: data/negative/Bill_Clinton_0013.jpg  \n",
            "  inflating: data/negative/Bill_Clinton_0014.jpg  \n",
            "  inflating: data/negative/Bill_Clinton_0015.jpg  \n",
            "  inflating: data/negative/Bill_Clinton_0016.jpg  \n",
            "  inflating: data/negative/Bill_Clinton_0017.jpg  \n",
            "  inflating: data/negative/Bill_Clinton_0018.jpg  \n",
            "  inflating: data/negative/Bill_Clinton_0019.jpg  \n",
            "  inflating: data/negative/Bill_Clinton_0020.jpg  \n",
            "  inflating: data/negative/Bill_Clinton_0021.jpg  \n",
            "  inflating: data/negative/Bill_Clinton_0022.jpg  \n",
            "  inflating: data/negative/Bill_Clinton_0023.jpg  \n",
            "  inflating: data/negative/Bill_Clinton_0024.jpg  \n",
            "  inflating: data/negative/Bill_Clinton_0025.jpg  \n",
            "  inflating: data/negative/Bill_Clinton_0026.jpg  \n",
            "  inflating: data/negative/Bill_Clinton_0027.jpg  \n",
            "  inflating: data/negative/Bill_Clinton_0028.jpg  \n",
            "  inflating: data/negative/Bill_Clinton_0029.jpg  \n",
            "  inflating: data/negative/Bill_Curry_0001.jpg  \n",
            "  inflating: data/negative/Bill_Doba_0001.jpg  \n",
            "  inflating: data/negative/Bill_Duffey_0001.jpg  \n",
            "  inflating: data/negative/Bill_Elliott_0001.jpg  \n",
            "  inflating: data/negative/Bill_Fennelly_0001.jpg  \n",
            "  inflating: data/negative/Bill_Frist_0001.jpg  \n",
            "  inflating: data/negative/Bill_Frist_0002.jpg  \n",
            "  inflating: data/negative/Bill_Frist_0003.jpg  \n",
            "  inflating: data/negative/Bill_Frist_0004.jpg  \n",
            "  inflating: data/negative/Bill_Frist_0005.jpg  \n",
            "  inflating: data/negative/Bill_Frist_0006.jpg  \n",
            "  inflating: data/negative/Bill_Frist_0007.jpg  \n",
            "  inflating: data/negative/Bill_Frist_0008.jpg  \n",
            "  inflating: data/negative/Bill_Frist_0009.jpg  \n",
            "  inflating: data/negative/Bill_Gates_0001.jpg  \n",
            "  inflating: data/negative/Bill_Gates_0002.jpg  \n",
            "  inflating: data/negative/Bill_Gates_0003.jpg  \n",
            "  inflating: data/negative/Bill_Gates_0004.jpg  \n",
            "  inflating: data/negative/Bill_Gates_0005.jpg  \n",
            "  inflating: data/negative/Bill_Gates_0006.jpg  \n",
            "  inflating: data/negative/Bill_Gates_0007.jpg  \n",
            "  inflating: data/negative/Bill_Gates_0008.jpg  \n",
            "  inflating: data/negative/Bill_Gates_0009.jpg  \n",
            "  inflating: data/negative/Bill_Gates_0010.jpg  \n",
            "  inflating: data/negative/Bill_Gates_0011.jpg  \n",
            "  inflating: data/negative/Bill_Gates_0012.jpg  \n",
            "  inflating: data/negative/Bill_Gates_0013.jpg  \n",
            "  inflating: data/negative/Bill_Gates_0014.jpg  \n",
            "  inflating: data/negative/Bill_Gates_0015.jpg  \n",
            "  inflating: data/negative/Bill_Gates_0016.jpg  \n",
            "  inflating: data/negative/Bill_Gates_0017.jpg  \n",
            "  inflating: data/negative/Bill_Graham_0001.jpg  \n",
            "  inflating: data/negative/Bill_Graham_0002.jpg  \n",
            "  inflating: data/negative/Bill_Graham_0003.jpg  \n",
            "  inflating: data/negative/Bill_Graham_0004.jpg  \n",
            "  inflating: data/negative/Bill_Graham_0005.jpg  \n",
            "  inflating: data/negative/Bill_Graham_0006.jpg  \n",
            "  inflating: data/negative/Bill_Graham_0007.jpg  \n",
            "  inflating: data/negative/Bill_Graham_0008.jpg  \n",
            "  inflating: data/negative/Bill_Graham_0009.jpg  \n",
            "  inflating: data/negative/Bill_Guerin_0001.jpg  \n",
            "  inflating: data/negative/Bill_Herrion_0001.jpg  \n",
            "  inflating: data/negative/Bill_Kollar_0001.jpg  \n",
            "  inflating: data/negative/Bill_Kong_0001.jpg  \n",
            "  inflating: data/negative/Bill_Lerach_0001.jpg  \n",
            "  inflating: data/negative/Bill_Maher_0001.jpg  \n",
            "  inflating: data/negative/Bill_Mauldin_0001.jpg  \n",
            "  inflating: data/negative/Bill_McBride_0001.jpg  \n",
            "  inflating: data/negative/Bill_McBride_0002.jpg  \n",
            "  inflating: data/negative/Bill_McBride_0003.jpg  \n",
            "  inflating: data/negative/Bill_McBride_0004.jpg  \n",
            "  inflating: data/negative/Bill_McBride_0005.jpg  \n",
            "  inflating: data/negative/Bill_McBride_0006.jpg  \n",
            "  inflating: data/negative/Bill_McBride_0007.jpg  \n",
            "  inflating: data/negative/Bill_McBride_0008.jpg  \n",
            "  inflating: data/negative/Bill_McBride_0009.jpg  \n",
            "  inflating: data/negative/Bill_McBride_0010.jpg  \n",
            "  inflating: data/negative/Bill_Nelson_0001.jpg  \n",
            "  inflating: data/negative/Bill_Nelson_0002.jpg  \n",
            "  inflating: data/negative/Bill_OReilly_0001.jpg  \n",
            "  inflating: data/negative/Bill_Parcells_0001.jpg  \n",
            "  inflating: data/negative/Bill_Parcells_0002.jpg  \n",
            "  inflating: data/negative/Bill_Parsons_0001.jpg  \n",
            "  inflating: data/negative/Bill_Paxton_0001.jpg  \n",
            "  inflating: data/negative/Bill_Paxton_0002.jpg  \n",
            "  inflating: data/negative/Bill_Paxton_0003.jpg  \n",
            "  inflating: data/negative/Bill_Paxton_0004.jpg  \n",
            "  inflating: data/negative/Bill_Pryor_0001.jpg  \n",
            "  inflating: data/negative/Bill_Rainer_0001.jpg  \n",
            "  inflating: data/negative/Bill_Readdy_0001.jpg  \n",
            "  inflating: data/negative/Bill_Richardson_0001.jpg  \n",
            "  inflating: data/negative/Bill_Self_0001.jpg  \n",
            "  inflating: data/negative/Bill_Simon_0001.jpg  \n",
            "  inflating: data/negative/Bill_Simon_0002.jpg  \n",
            "  inflating: data/negative/Bill_Simon_0003.jpg  \n",
            "  inflating: data/negative/Bill_Simon_0004.jpg  \n",
            "  inflating: data/negative/Bill_Simon_0005.jpg  \n",
            "  inflating: data/negative/Bill_Simon_0006.jpg  \n",
            "  inflating: data/negative/Bill_Simon_0007.jpg  \n",
            "  inflating: data/negative/Bill_Simon_0008.jpg  \n",
            "  inflating: data/negative/Bill_Simon_0009.jpg  \n",
            "  inflating: data/negative/Bill_Simon_0010.jpg  \n",
            "  inflating: data/negative/Bill_Simon_0011.jpg  \n",
            "  inflating: data/negative/Bill_Simon_0012.jpg  \n",
            "  inflating: data/negative/Bill_Simon_0013.jpg  \n",
            "  inflating: data/negative/Bill_Simon_0014.jpg  \n",
            "  inflating: data/negative/Bill_Simon_0015.jpg  \n",
            "  inflating: data/negative/Bill_Sizemore_0001.jpg  \n",
            "  inflating: data/negative/Bill_Sizemore_0002.jpg  \n",
            "  inflating: data/negative/Bill_Walton_0001.jpg  \n",
            "  inflating: data/negative/Billy_Andrade_0001.jpg  \n",
            "  inflating: data/negative/Billy_Beane_0001.jpg  \n",
            "  inflating: data/negative/Billy_Bob_Thornton_0001.jpg  \n",
            "  inflating: data/negative/Billy_Boyd_0001.jpg  \n",
            "  inflating: data/negative/Billy_Crawford_0001.jpg  \n",
            "  inflating: data/negative/Billy_Crystal_0001.jpg  \n",
            "  inflating: data/negative/Billy_Crystal_0002.jpg  \n",
            "  inflating: data/negative/Billy_Crystal_0003.jpg  \n",
            "  inflating: data/negative/Billy_Crystal_0004.jpg  \n",
            "  inflating: data/negative/Billy_Crystal_0005.jpg  \n",
            "  inflating: data/negative/Billy_Crystal_0006.jpg  \n",
            "  inflating: data/negative/Billy_Donovan_0001.jpg  \n",
            "  inflating: data/negative/Billy_Edelin_0001.jpg  \n",
            "  inflating: data/negative/Billy_Gilman_0001.jpg  \n",
            "  inflating: data/negative/Billy_Graham_0001.jpg  \n",
            "  inflating: data/negative/Billy_Graham_0002.jpg  \n",
            "  inflating: data/negative/Billy_Joel_0001.jpg  \n",
            "  inflating: data/negative/Billy_Rork_0001.jpg  \n",
            "  inflating: data/negative/Billy_Sollie_0001.jpg  \n",
            "  inflating: data/negative/Billy_Sollie_0002.jpg  \n",
            "  inflating: data/negative/Billy_Tibbets_0001.jpg  \n",
            "  inflating: data/negative/Bing_Crosby_0001.jpg  \n",
            "  inflating: data/negative/Binyamin_Ben-Eliezer_0001.jpg  \n",
            "  inflating: data/negative/Binyamin_Ben-Eliezer_0002.jpg  \n",
            "  inflating: data/negative/Binyamin_Ben-Eliezer_0003.jpg  \n",
            "  inflating: data/negative/Binyamin_Ben-Eliezer_0004.jpg  \n",
            "  inflating: data/negative/Binyamin_Ben-Eliezer_0005.jpg  \n",
            "  inflating: data/negative/Binyamin_Ben-Eliezer_0006.jpg  \n",
            "  inflating: data/negative/Binyamin_Ben-Eliezer_0007.jpg  \n",
            "  inflating: data/negative/Bison_Dele_0001.jpg  \n",
            "  inflating: data/negative/Bixente_LIzarazu_0001.jpg  \n",
            "  inflating: data/negative/BJ_Habibie_0001.jpg  \n",
            "  inflating: data/negative/Blas_Ople_0001.jpg  \n",
            "  inflating: data/negative/Blythe_Danner_0001.jpg  \n",
            "  inflating: data/negative/Blythe_Danner_0002.jpg  \n",
            "  inflating: data/negative/Blythe_Hartley_0001.jpg  \n",
            "  inflating: data/negative/Blythe_Hartley_0002.jpg  \n",
            "  inflating: data/negative/Bo_Pelini_0001.jpg  \n",
            "  inflating: data/negative/Bo_Pelini_0002.jpg  \n",
            "  inflating: data/negative/Bo_Ryan_0001.jpg  \n",
            "  inflating: data/negative/Bo_Ryan_0002.jpg  \n",
            "  inflating: data/negative/Bob_Alper_0001.jpg  \n",
            "  inflating: data/negative/Bob_Beauprez_0001.jpg  \n",
            "  inflating: data/negative/Bob_Beauprez_0002.jpg  \n",
            "  inflating: data/negative/Bob_Bowlsby_0001.jpg  \n",
            "  inflating: data/negative/Bob_Cantrell_0001.jpg  \n",
            "  inflating: data/negative/Bob_Colvin_0001.jpg  \n",
            "  inflating: data/negative/Bob_Colvin_0002.jpg  \n",
            "  inflating: data/negative/Bob_Crippen_0001.jpg  \n",
            "  inflating: data/negative/Bob_Curtis_0001.jpg  \n",
            "  inflating: data/negative/Bob_Dole_0001.jpg  \n",
            "  inflating: data/negative/Bob_Dole_0002.jpg  \n",
            "  inflating: data/negative/Bob_Dole_0003.jpg  \n",
            "  inflating: data/negative/Bob_Eskridge_0001.jpg  \n",
            "  inflating: data/negative/Bob_Ferguson_0001.jpg  \n",
            "  inflating: data/negative/Bob_Geldof_0001.jpg  \n",
            "  inflating: data/negative/Bob_Geldof_0002.jpg  \n",
            "  inflating: data/negative/Bob_Goldman_0001.jpg  \n",
            "  inflating: data/negative/Bob_Graham_0003.jpg  \n",
            "  inflating: data/negative/Bob_Graham_0004.jpg  \n",
            "  inflating: data/negative/Bob_Graham_0005.jpg  \n",
            "  inflating: data/negative/Bob_Graham_0006.jpg  \n",
            "  inflating: data/negative/Bob_Huggins_0001.jpg  \n",
            "  inflating: data/negative/Bob_Huggins_0002.jpg  \n",
            "  inflating: data/negative/Bob_Huggins_0003.jpg  \n",
            "  inflating: data/negative/Bob_Huggins_0004.jpg  \n",
            "  inflating: data/negative/Bob_Iger_0001.jpg  \n",
            "  inflating: data/negative/Bob_Menendez_0001.jpg  \n",
            "  inflating: data/negative/Bob_Newhart_0001.jpg  \n",
            "  inflating: data/negative/Bob_Petrino_0001.jpg  \n",
            "  inflating: data/negative/Bob_Riley_0001.jpg  \n",
            "  inflating: data/negative/Bob_Stoops_0001.jpg  \n",
            "  inflating: data/negative/Bob_Stoops_0002.jpg  \n",
            "  inflating: data/negative/Bob_Stoops_0003.jpg  \n",
            "  inflating: data/negative/Bob_Stoops_0004.jpg  \n",
            "  inflating: data/negative/Bob_Stoops_0005.jpg  \n",
            "  inflating: data/negative/Bob_Stoops_0006.jpg  \n",
            "  inflating: data/negative/Bob_Stoops_0007.jpg  \n",
            "  inflating: data/negative/Bob_Sulkin_0001.jpg  \n",
            "  inflating: data/negative/Bob_Taft_0001.jpg  \n",
            "  inflating: data/negative/Bob_Wright_0001.jpg  \n",
            "  inflating: data/negative/Bobby_Bowden_0001.jpg  \n",
            "  inflating: data/negative/Bobby_Goldwater_0001.jpg  \n",
            "  inflating: data/negative/Bobby_Goldwater_0002.jpg  \n",
            "  inflating: data/negative/Bobby_Jackson_0001.jpg  \n",
            "  inflating: data/negative/Bobby_Kielty_0001.jpg  \n",
            "  inflating: data/negative/Bobby_Robson_0001.jpg  \n",
            "  inflating: data/negative/Bobby_Robson_0002.jpg  \n",
            "  inflating: data/negative/Bobo_Balde_0001.jpg  \n",
            "  inflating: data/negative/Bode_Miller_0001.jpg  \n",
            "  inflating: data/negative/Bode_Miller_0002.jpg  \n",
            "  inflating: data/negative/Bonnie_Fuller_0001.jpg  \n",
            "  inflating: data/negative/Bonnie_Hunt_0001.jpg  \n",
            "  inflating: data/negative/Bono_0001.jpg  \n",
            "  inflating: data/negative/Bono_0002.jpg  \n",
            "  inflating: data/negative/Bono_0003.jpg  \n",
            "  inflating: data/negative/Boris_Becker_0001.jpg  \n",
            "  inflating: data/negative/Boris_Becker_0002.jpg  \n",
            "  inflating: data/negative/Boris_Becker_0003.jpg  \n",
            "  inflating: data/negative/Boris_Becker_0004.jpg  \n",
            "  inflating: data/negative/Boris_Becker_0005.jpg  \n",
            "  inflating: data/negative/Boris_Becker_0006.jpg  \n",
            "  inflating: data/negative/Boris_Berezovsky_0001.jpg  \n",
            "  inflating: data/negative/Boris_Berezovsky_0002.jpg  \n",
            "  inflating: data/negative/Boris_Henry_0001.jpg  \n",
            "  inflating: data/negative/Boris_Jordan_0001.jpg  \n",
            "  inflating: data/negative/Boris_Trajkovski_0001.jpg  \n",
            "  inflating: data/negative/Boris_Yeltsin_0001.jpg  \n",
            "  inflating: data/negative/Boris_Yeltsin_0002.jpg  \n",
            "  inflating: data/negative/Boutros_Boutros_Ghali_0001.jpg  \n",
            "  inflating: data/negative/Brad_Alexander_Smith_0001.jpg  \n",
            "  inflating: data/negative/Brad_Banks_0001.jpg  \n",
            "  inflating: data/negative/Brad_Brownell_0001.jpg  \n",
            "  inflating: data/negative/Brad_Garrett_0001.jpg  \n",
            "  inflating: data/negative/Brad_Garrett_0002.jpg  \n",
            "  inflating: data/negative/Brad_Garrett_0003.jpg  \n",
            "  inflating: data/negative/Brad_Garrett_0004.jpg  \n",
            "  inflating: data/negative/Brad_Gushue_0001.jpg  \n",
            "  inflating: data/negative/Brad_Johnson_0001.jpg  \n",
            "  inflating: data/negative/Brad_Johnson_0002.jpg  \n",
            "  inflating: data/negative/Brad_Johnson_0003.jpg  \n",
            "  inflating: data/negative/Brad_Johnson_0004.jpg  \n",
            "  inflating: data/negative/Brad_Johnson_0005.jpg  \n",
            "  inflating: data/negative/Brad_Miller_0001.jpg  \n",
            "  inflating: data/negative/Brad_Pitt_0001.jpg  \n",
            "  inflating: data/negative/Brad_Wilk_0001.jpg  \n",
            "  inflating: data/negative/Brady_Rodgers_0001.jpg  \n",
            "  inflating: data/negative/Brajesh_Mishra_0001.jpg  \n",
            "  inflating: data/negative/Brandon_Boyd_0001.jpg  \n",
            "  inflating: data/negative/Brandon_Fails_0001.jpg  \n",
            "  inflating: data/negative/Brandon_Hammond_0001.jpg  \n",
            "  inflating: data/negative/Brandon_Inge_0001.jpg  \n",
            "  inflating: data/negative/Brandon_Jones_0001.jpg  \n",
            "  inflating: data/negative/Brandon_Knight_0001.jpg  \n",
            "  inflating: data/negative/Brandon_Robinson_0001.jpg  \n",
            "  inflating: data/negative/Brandon_Spann_0001.jpg  \n",
            "  inflating: data/negative/Brandon_Webb_0001.jpg  \n",
            "  inflating: data/negative/Branko_Crvenkovski_0001.jpg  \n",
            "  inflating: data/negative/Branko_Crvenkovski_0002.jpg  \n",
            "  inflating: data/negative/Branko_Crvenkovski_0003.jpg  \n",
            "  inflating: data/negative/Brawley_King_0001.jpg  \n",
            "  inflating: data/negative/Brenda_Magana_0001.jpg  \n",
            "  inflating: data/negative/Brenda_van_Dam_0001.jpg  \n",
            "  inflating: data/negative/Brenda_Wilson_0001.jpg  \n",
            "  inflating: data/negative/Brendan_Fraser_0001.jpg  \n",
            "  inflating: data/negative/Brendan_Gaughan_0001.jpg  \n",
            "  inflating: data/negative/Brendan_Hansen_0001.jpg  \n",
            "  inflating: data/negative/Brendan_Hansen_0002.jpg  \n",
            "  inflating: data/negative/Brendan_Stai_0001.jpg  \n",
            "  inflating: data/negative/Brennon_Leighton_0001.jpg  \n",
            "  inflating: data/negative/Brent_Coles_0001.jpg  \n",
            "  inflating: data/negative/Brett_Boone_0001.jpg  \n",
            "  inflating: data/negative/Brett_Hawke_0001.jpg  \n",
            "  inflating: data/negative/Brett_Hull_0001.jpg  \n",
            "  inflating: data/negative/Brett_Perry_0001.jpg  \n",
            "  inflating: data/negative/Brian_Billick_0001.jpg  \n",
            "  inflating: data/negative/Brian_Campbell_0001.jpg  \n",
            "  inflating: data/negative/Brian_Cashman_0001.jpg  \n",
            "  inflating: data/negative/Brian_Clemens_0001.jpg  \n",
            "  inflating: data/negative/Brian_Cook_0001.jpg  \n",
            "  inflating: data/negative/Brian_Cowen_0001.jpg  \n",
            "  inflating: data/negative/Brian_Cowen_0002.jpg  \n",
            "  inflating: data/negative/Brian_De_Palma_0001.jpg  \n",
            "  inflating: data/negative/Brian_Florence_0001.jpg  \n",
            "  inflating: data/negative/Brian_Grazier_0001.jpg  \n",
            "  inflating: data/negative/Brian_Gregory_0001.jpg  \n",
            "  inflating: data/negative/Brian_Henson_0001.jpg  \n",
            "  inflating: data/negative/Brian_Jordan_0001.jpg  \n",
            "  inflating: data/negative/Brian_Kerr_0001.jpg  \n",
            "  inflating: data/negative/Brian_Lara_0001.jpg  \n",
            "  inflating: data/negative/Brian_McIntyre_0001.jpg  \n",
            "  inflating: data/negative/Brian_Meadors_0001.jpg  \n",
            "  inflating: data/negative/Brian_Mulroney_0001.jpg  \n",
            "  inflating: data/negative/Brian_Mulroney_0002.jpg  \n",
            "  inflating: data/negative/Brian_Olson_0001.jpg  \n",
            "  inflating: data/negative/Brian_Pavlich_0001.jpg  \n",
            "  inflating: data/negative/Brian_Scalabrine_0001.jpg  \n",
            "  inflating: data/negative/Brian_Schneider_0001.jpg  \n",
            "  inflating: data/negative/Brian_StPierre_0001.jpg  \n",
            "  inflating: data/negative/Brian_Van_Dusen_0001.jpg  \n",
            "  inflating: data/negative/Brian_Weaver_0001.jpg  \n",
            "  inflating: data/negative/Brian_Wells_0001.jpg  \n",
            "  inflating: data/negative/Brian_Wells_0002.jpg  \n",
            "  inflating: data/negative/Brian_Williams_0001.jpg  \n",
            "  inflating: data/negative/Bridget_Fonda_0001.jpg  \n",
            "  inflating: data/negative/Bridget_Fonda_0002.jpg  \n",
            "  inflating: data/negative/Bridget_Fonda_0003.jpg  \n",
            "  inflating: data/negative/Bridgette_Wilson-Sampras_0001.jpg  \n",
            "  inflating: data/negative/Bridgette_Wilson-Sampras_0002.jpg  \n",
            "  inflating: data/negative/Bridgette_Wilson-Sampras_0003.jpg  \n",
            "  inflating: data/negative/Brigitte_Boisselier_0001.jpg  \n",
            "  inflating: data/negative/Brigitte_Boisselier_0002.jpg  \n",
            "  inflating: data/negative/Britney_Spears_0001.jpg  \n",
            "  inflating: data/negative/Britney_Spears_0002.jpg  \n",
            "  inflating: data/negative/Britney_Spears_0003.jpg  \n",
            "  inflating: data/negative/Britney_Spears_0004.jpg  \n",
            "  inflating: data/negative/Britney_Spears_0005.jpg  \n",
            "  inflating: data/negative/Britney_Spears_0006.jpg  \n",
            "  inflating: data/negative/Britney_Spears_0007.jpg  \n",
            "  inflating: data/negative/Britney_Spears_0008.jpg  \n",
            "  inflating: data/negative/Britney_Spears_0009.jpg  \n",
            "  inflating: data/negative/Britney_Spears_0010.jpg  \n",
            "  inflating: data/negative/Britney_Spears_0011.jpg  \n",
            "  inflating: data/negative/Britney_Spears_0012.jpg  \n",
            "  inflating: data/negative/Britney_Spears_0013.jpg  \n",
            "  inflating: data/negative/Britney_Spears_0014.jpg  \n",
            "  inflating: data/negative/Bronson_Arroyo_0001.jpg  \n",
            "  inflating: data/negative/Brook_Robinson_0001.jpg  \n",
            "  inflating: data/negative/Brooke_Adams_0001.jpg  \n",
            "  inflating: data/negative/Brooke_Gordon_0001.jpg  \n",
            "  inflating: data/negative/Brooke_Shields_0001.jpg  \n",
            "  inflating: data/negative/Brooke_Shields_0002.jpg  \n",
            "  inflating: data/negative/Bruce_Arena_0001.jpg  \n",
            "  inflating: data/negative/Bruce_Gebhardt_0001.jpg  \n",
            "  inflating: data/negative/Bruce_Lunsford_0001.jpg  \n",
            "  inflating: data/negative/Bryan_Cooley_0001.jpg  \n",
            "  inflating: data/negative/Bryan_Murray_0001.jpg  \n",
            "  inflating: data/negative/Bryan_Thomas_0001.jpg  \n",
            "  inflating: data/negative/Bryce_Carmine_0001.jpg  \n",
            "  inflating: data/negative/Buck_Rodgers_0001.jpg  \n",
            "  inflating: data/negative/Bud_Selig_0001.jpg  \n",
            "  inflating: data/negative/Bud_Selig_0002.jpg  \n",
            "  inflating: data/negative/Bud_Selig_0003.jpg  \n",
            "  inflating: data/negative/Bud_Selig_0004.jpg  \n",
            "  inflating: data/negative/Budd_Schulberg_0001.jpg  \n",
            "  inflating: data/negative/Buddy_Ryan_0001.jpg  \n",
            "  inflating: data/negative/Buford_Blount_0001.jpg  \n",
            "  inflating: data/negative/Bulent_Ecevit_0001.jpg  \n",
            "  inflating: data/negative/Bulent_Ecevit_0002.jpg  \n",
            "  inflating: data/negative/Bulent_Ecevit_0003.jpg  \n",
            "  inflating: data/negative/Bulent_Ecevit_0004.jpg  \n",
            "  inflating: data/negative/Bulent_Ecevit_0005.jpg  \n",
            "  inflating: data/negative/Bulent_Ecevit_0006.jpg  \n",
            "  inflating: data/negative/Bustam_A_Zedan_Aljanabi_0001.jpg  \n",
            "  inflating: data/negative/Butch_Davis_0001.jpg  \n",
            "  inflating: data/negative/Butch_Davis_0002.jpg  \n",
            "  inflating: data/negative/Buzz_Hargrove_0001.jpg  \n",
            "  inflating: data/negative/Byron_Scott_0001.jpg  \n",
            "  inflating: data/negative/Byron_Scott_0002.jpg  \n",
            "  inflating: data/negative/Cabas_0001.jpg  \n",
            "  inflating: data/negative/Caio_Blat_0001.jpg  \n",
            "  inflating: data/negative/Calbert_Cheaney_0001.jpg  \n",
            "  inflating: data/negative/Calista_Flockhart_0001.jpg  \n",
            "  inflating: data/negative/Calista_Flockhart_0002.jpg  \n",
            "  inflating: data/negative/Calista_Flockhart_0003.jpg  \n",
            "  inflating: data/negative/Calista_Flockhart_0004.jpg  \n",
            "  inflating: data/negative/Calista_Flockhart_0005.jpg  \n",
            "  inflating: data/negative/Calista_Flockhart_0006.jpg  \n",
            "  inflating: data/negative/Carla_Moreno_0001.jpg  \n",
            "  inflating: data/negative/Carla_Myers_0001.jpg  \n",
            "  inflating: data/negative/Carla_Myers_0002.jpg  \n",
            "  inflating: data/negative/Carla_Sullivan_0001.jpg  \n",
            "  inflating: data/negative/Carla_Tricoli_0001.jpg  \n",
            "  inflating: data/negative/Carlos_Arroyo_0001.jpg  \n",
            "  inflating: data/negative/Carlos_Barra_0001.jpg  \n",
            "  inflating: data/negative/Carlos_Fasciolo_0001.jpg  \n",
            "  inflating: data/negative/Carlos_Ghosn_0001.jpg  \n",
            "  inflating: data/negative/Carlos_Ghosn_0002.jpg  \n",
            "  inflating: data/negative/Carol_Burnett_0001.jpg  \n",
            "  inflating: data/negative/Carol_Burnett_0002.jpg  \n",
            "  inflating: data/negative/Carol_Carmody_0001.jpg  \n",
            "  inflating: data/negative/Carol_Moseley_Braun_0001.jpg  \n",
            "  inflating: data/negative/Carol_Moseley_Braun_0002.jpg  \n",
            "  inflating: data/negative/Carol_Niedermayer_0001.jpg  \n",
            "  inflating: data/negative/Carol_Williams_0001.jpg  \n",
            "  inflating: data/negative/Carolina_Moraes_0001.jpg  \n",
            "  inflating: data/negative/Carolina_Moraes_0002.jpg  \n",
            "  inflating: data/negative/Caroline_Dhavernas_0001.jpg  \n",
            "  inflating: data/negative/Caroline_Kennedy_0001.jpg  \n",
            "  inflating: data/negative/Caroline_Kennedy_0002.jpg  \n",
            "  inflating: data/negative/Caroline_Kennedy_0003.jpg  \n",
            "  inflating: data/negative/Caroline_Link_0001.jpg  \n",
            "  inflating: data/negative/Carolyn_Dawn_Johnson_0001.jpg  \n",
            "  inflating: data/negative/Carolyn_Dawn_Johnson_0002.jpg  \n",
            "  inflating: data/negative/Carolyn_Dawn_Johnson_0003.jpg  \n",
            "  inflating: data/negative/Carolyn_Kuhl_0001.jpg  \n",
            "  inflating: data/negative/Carrie-Anne_Moss_0001.jpg  \n",
            "  inflating: data/negative/Carrie-Anne_Moss_0002.jpg  \n",
            "  inflating: data/negative/Carrie-Anne_Moss_0003.jpg  \n",
            "  inflating: data/negative/Carrie-Anne_Moss_0004.jpg  \n",
            "  inflating: data/negative/Carrie-Anne_Moss_0005.jpg  \n",
            "  inflating: data/negative/Carroll_Weimer_0001.jpg  \n",
            "  inflating: data/negative/Carson_Daly_0001.jpg  \n",
            "  inflating: data/negative/Carson_Daly_0002.jpg  \n",
            "  inflating: data/negative/Carson_Palmer_0001.jpg  \n",
            "  inflating: data/negative/Carson_Palmer_0002.jpg  \n",
            "  inflating: data/negative/Carson_Palmer_0003.jpg  \n",
            "  inflating: data/negative/Carson_Palmer_0004.jpg  \n",
            "  inflating: data/negative/Casey_Crowder_0001.jpg  \n",
            "  inflating: data/negative/Casey_Mears_0001.jpg  \n",
            "  inflating: data/negative/Cass_Ballenger_0001.jpg  \n",
            "  inflating: data/negative/Cassandra_Heise_0001.jpg  \n",
            "  inflating: data/negative/Casy_Preslar_0001.jpg  \n",
            "  inflating: data/negative/Cate_Blanchett_0001.jpg  \n",
            "  inflating: data/negative/Cate_Blanchett_0002.jpg  \n",
            "  inflating: data/negative/Cate_Blanchett_0003.jpg  \n",
            "  inflating: data/negative/Cate_Blanchett_0004.jpg  \n",
            "  inflating: data/negative/Catherine_Bell_0001.jpg  \n",
            "  inflating: data/negative/Catherine_Deneuve_0001.jpg  \n",
            "  inflating: data/negative/Catherine_Deneuve_0002.jpg  \n",
            "  inflating: data/negative/Catherine_Deneuve_0003.jpg  \n",
            "  inflating: data/negative/Catherine_Deneuve_0004.jpg  \n",
            "  inflating: data/negative/Catherine_Deneuve_0005.jpg  \n",
            "  inflating: data/negative/Catherine_Donkers_0001.jpg  \n",
            "  inflating: data/negative/Catherine_Ndereba_0001.jpg  \n",
            "  inflating: data/negative/Catherine_Woodard_0001.jpg  \n",
            "  inflating: data/negative/Catherine_Zeta-Jones_0001.jpg  \n",
            "  inflating: data/negative/Catherine_Zeta-Jones_0002.jpg  \n",
            "  inflating: data/negative/Catherine_Zeta-Jones_0003.jpg  \n",
            "  inflating: data/negative/Catherine_Zeta-Jones_0004.jpg  \n",
            "  inflating: data/negative/Catherine_Zeta-Jones_0005.jpg  \n",
            "  inflating: data/negative/Catherine_Zeta-Jones_0006.jpg  \n",
            "  inflating: data/negative/Catherine_Zeta-Jones_0007.jpg  \n",
            "  inflating: data/negative/Catherine_Zeta-Jones_0008.jpg  \n",
            "  inflating: data/negative/Catherine_Zeta-Jones_0009.jpg  \n",
            "  inflating: data/negative/Catherine_Zeta-Jones_0010.jpg  \n",
            "  inflating: data/negative/Catherine_Zeta-Jones_0011.jpg  \n",
            "  inflating: data/negative/Cathryn_Crawford_0001.jpg  \n",
            "  inflating: data/negative/Cathy_Chisholm_0001.jpg  \n",
            "  inflating: data/negative/Cathy_Cunningham_0001.jpg  \n",
            "  inflating: data/negative/Cathy_Freeman_0001.jpg  \n",
            "  inflating: data/negative/Cathy_Freeman_0002.jpg  \n",
            "  inflating: data/negative/Catriona_Le_May_Doan_0001.jpg  \n",
            "  inflating: data/negative/Cecile_de_France_0001.jpg  \n",
            "  inflating: data/negative/Cecilia_Bolocco_0001.jpg  \n",
            "  inflating: data/negative/Cecilia_Bolocco_0002.jpg  \n",
            "  inflating: data/negative/Cecilia_Bolocco_0003.jpg  \n",
            "  inflating: data/negative/Cecilia_Chang_0001.jpg  \n",
            "  inflating: data/negative/Cecilia_Cheung_0001.jpg  \n",
            "  inflating: data/negative/Cedric_Benson_0001.jpg  \n",
            "  inflating: data/negative/Celia_Cruz_0001.jpg  \n",
            "  inflating: data/negative/Celine_Dion_0001.jpg  \n",
            "  inflating: data/negative/Celine_Dion_0002.jpg  \n",
            "  inflating: data/negative/Celine_Dion_0003.jpg  \n",
            "  inflating: data/negative/Celine_Dion_0004.jpg  \n",
            "  inflating: data/negative/Celine_Dion_0005.jpg  \n",
            "  inflating: data/negative/Celine_Dion_0006.jpg  \n",
            "  inflating: data/negative/Celine_Dion_0007.jpg  \n",
            "  inflating: data/negative/Celine_Dion_0008.jpg  \n",
            "  inflating: data/negative/Celso_Amorim_0001.jpg  \n",
            "  inflating: data/negative/Celso_Amorim_0002.jpg  \n",
            "  inflating: data/negative/Celso_Lafer_0001.jpg  \n",
            "  inflating: data/negative/Cemil_Cicek_0001.jpg  \n",
            "  inflating: data/negative/Cesar_Gaviria_0001.jpg  \n",
            "  inflating: data/negative/Cesar_Gaviria_0002.jpg  \n",
            "  inflating: data/negative/Cesar_Gaviria_0003.jpg  \n",
            "  inflating: data/negative/Cesar_Gaviria_0004.jpg  \n",
            "  inflating: data/negative/Cesar_Gaviria_0005.jpg  \n",
            "  inflating: data/negative/Cesar_Gaviria_0006.jpg  \n",
            "  inflating: data/negative/Cesar_Gaviria_0007.jpg  \n",
            "  inflating: data/negative/Cesar_Gaviria_0008.jpg  \n",
            "  inflating: data/negative/Cesar_Maia_0001.jpg  \n",
            "  inflating: data/negative/Cesar_Maia_0002.jpg  \n",
            "  inflating: data/negative/Cha_Yung-gu_0001.jpg  \n",
            "  inflating: data/negative/Chadha_Gurinder_0001.jpg  \n",
            "  inflating: data/negative/Chakib_Khelil_0001.jpg  \n",
            "  inflating: data/negative/Chakib_Khelil_0002.jpg  \n",
            "  inflating: data/negative/Chan_Choi_0001.jpg  \n",
            "  inflating: data/negative/Chan_Gailey_0001.jpg  \n",
            "  inflating: data/negative/Chan_Gailey_0002.jpg  \n",
            "  inflating: data/negative/Chan_Gailey_0003.jpg  \n",
            "  inflating: data/negative/Chan_Ho_Park_0001.jpg  \n",
            "  inflating: data/negative/Chance_Mock_0001.jpg  \n",
            "  inflating: data/negative/Chanda_Rubin_0001.jpg  \n",
            "  inflating: data/negative/Chanda_Rubin_0002.jpg  \n",
            "  inflating: data/negative/Chanda_Rubin_0003.jpg  \n",
            "  inflating: data/negative/Chanda_Rubin_0004.jpg  \n",
            "  inflating: data/negative/Chanda_Rubin_0005.jpg  \n",
            "  inflating: data/negative/Chandrika_Kumaratunga_0001.jpg  \n",
            "  inflating: data/negative/Chang_Dae-whan_0001.jpg  \n",
            "  inflating: data/negative/Chang_Dae-whan_0002.jpg  \n",
            "  inflating: data/negative/Chang_Jae_On_0001.jpg  \n",
            "  inflating: data/negative/Chang_Saio-yue_0001.jpg  \n",
            "  inflating: data/negative/Chang_Sang_0001.jpg  \n",
            "  inflating: data/negative/Chang_Tso_0001.jpg  \n",
            "  inflating: data/negative/Chante_Jawan_Mallard_0001.jpg  \n",
            "  inflating: data/negative/Charla_Moye_0001.jpg  \n",
            "  inflating: data/negative/Charlene_Barshefsky_0001.jpg  \n",
            "  inflating: data/negative/Charles_Bell_0001.jpg  \n",
            "  inflating: data/negative/Charles_Bronson_0001.jpg  \n",
            "  inflating: data/negative/Charles_Bronson_0002.jpg  \n",
            "  inflating: data/negative/Charles_Bronson_0003.jpg  \n",
            "  inflating: data/negative/Charles_Chandler_IV_0001.jpg  \n",
            "  inflating: data/negative/Charles_Cope_0001.jpg  \n",
            "  inflating: data/negative/Charles_Grassley_0001.jpg  \n",
            "  inflating: data/negative/Charles_Grassley_0002.jpg  \n",
            "  inflating: data/negative/Charles_Holzner_0001.jpg  \n",
            "  inflating: data/negative/Charles_Ingram_0001.jpg  \n",
            "  inflating: data/negative/Charles_Kartman_0001.jpg  \n",
            "  inflating: data/negative/Charles_Kartman_0002.jpg  \n",
            "  inflating: data/negative/Charles_Lebois_0001.jpg  \n",
            "  inflating: data/negative/Charles_Mathews_0001.jpg  \n",
            "  inflating: data/negative/Charles_Mathews_0002.jpg  \n",
            "  inflating: data/negative/Charles_Moose_0001.jpg  \n",
            "  inflating: data/negative/Charles_Moose_0002.jpg  \n",
            "  inflating: data/negative/Charles_Moose_0003.jpg  \n",
            "  inflating: data/negative/Charles_Moose_0004.jpg  \n",
            "  inflating: data/negative/Charles_Moose_0005.jpg  \n",
            "  inflating: data/negative/Charles_Moose_0006.jpg  \n",
            "  inflating: data/negative/Charles_Moose_0007.jpg  \n",
            "  inflating: data/negative/Charles_Moose_0008.jpg  \n",
            "  inflating: data/negative/Charles_Moose_0009.jpg  \n",
            "  inflating: data/negative/Charles_Moose_0010.jpg  \n",
            "  inflating: data/negative/Charles_Moose_0011.jpg  \n",
            "  inflating: data/negative/Charles_Moose_0012.jpg  \n",
            "  inflating: data/negative/Charles_Moose_0013.jpg  \n",
            "  inflating: data/negative/Charles_Pickering_0001.jpg  \n",
            "  inflating: data/negative/Charles_Pouty_0001.jpg  \n",
            "  inflating: data/negative/Charles_Richardson_0001.jpg  \n",
            "  inflating: data/negative/Charles_Rogers_0001.jpg  \n",
            "  inflating: data/negative/Charles_Schumer_0001.jpg  \n",
            "  inflating: data/negative/Charles_Schumer_0002.jpg  \n",
            "  inflating: data/negative/Charles_Tannok_0001.jpg  \n",
            "  inflating: data/negative/Charles_Taylor_0001.jpg  \n",
            "  inflating: data/negative/Charles_Taylor_0002.jpg  \n",
            "  inflating: data/negative/Charles_Taylor_0003.jpg  \n",
            "  inflating: data/negative/Charles_Taylor_0004.jpg  \n",
            "  inflating: data/negative/Charles_Taylor_0005.jpg  \n",
            "  inflating: data/negative/Charles_Taylor_0006.jpg  \n",
            "  inflating: data/negative/Charles_Taylor_0007.jpg  \n",
            "  inflating: data/negative/Charles_Taylor_0008.jpg  \n",
            "  inflating: data/negative/Charles_Taylor_0009.jpg  \n",
            "  inflating: data/negative/Charley_Armey_0001.jpg  \n",
            "  inflating: data/negative/Charlie_Coles_0001.jpg  \n",
            "  inflating: data/negative/Charlie_Deane_0001.jpg  \n",
            "  inflating: data/negative/Charlie_Garner_0001.jpg  \n",
            "  inflating: data/negative/Charlie_Hunnam_0001.jpg  \n",
            "  inflating: data/negative/Charlie_Sheen_0001.jpg  \n",
            "  inflating: data/negative/Charlie_Williams_0001.jpg  \n",
            "  inflating: data/negative/Charlie_Zaa_0001.jpg  \n",
            "  inflating: data/negative/Charlie_Zaa_0002.jpg  \n",
            "  inflating: data/negative/Charlize_Theron_0001.jpg  \n",
            "  inflating: data/negative/Charlotte_Casiraghi_0001.jpg  \n",
            "  inflating: data/negative/Charlotte_Chambers_0001.jpg  \n",
            "  inflating: data/negative/Charlotte_Church_0001.jpg  \n",
            "  inflating: data/negative/Charlotte_Rampling_0001.jpg  \n",
            "  inflating: data/negative/Charlotte_Rampling_0002.jpg  \n",
            "  inflating: data/negative/Charlton_Heston_0001.jpg  \n",
            "  inflating: data/negative/Charlton_Heston_0002.jpg  \n",
            "  inflating: data/negative/Charlton_Heston_0003.jpg  \n",
            "  inflating: data/negative/Charlton_Heston_0004.jpg  \n",
            "  inflating: data/negative/Charlton_Heston_0005.jpg  \n",
            "  inflating: data/negative/Charlton_Heston_0006.jpg  \n",
            "  inflating: data/negative/Charmaine_Crooks_0001.jpg  \n",
            "  inflating: data/negative/Chawki_Armali_0001.jpg  \n",
            "  inflating: data/negative/Chea_Sophara_0001.jpg  \n",
            "  inflating: data/negative/Chelsea_Clinton_0001.jpg  \n",
            "  inflating: data/negative/Chen_Kaige_0001.jpg  \n",
            "  inflating: data/negative/Chen_Liang_Yu_0001.jpg  \n",
            "  inflating: data/negative/Chen_Liang_Yu_0002.jpg  \n",
            "  inflating: data/negative/Chen_Shui-bian_0001.jpg  \n",
            "  inflating: data/negative/Chen_Shui-bian_0002.jpg  \n",
            "  inflating: data/negative/Chen_Shui-bian_0003.jpg  \n",
            "  inflating: data/negative/Chen_Shui-bian_0004.jpg  \n",
            "  inflating: data/negative/Chen_Shui-bian_0005.jpg  \n",
            "  inflating: data/negative/Chen_Tsai-chin_0001.jpg  \n",
            "  inflating: data/negative/Cherie_Blair_0001.jpg  \n",
            "  inflating: data/negative/Cherie_Blair_0002.jpg  \n",
            "  inflating: data/negative/Cherie_Blair_0003.jpg  \n",
            "  inflating: data/negative/Cherie_Blair_0004.jpg  \n",
            "  inflating: data/negative/Cherry_Jones_0001.jpg  \n",
            "  inflating: data/negative/Cheryl_Ford_0001.jpg  \n",
            "  inflating: data/negative/Cheryl_Hines_0001.jpg  \n",
            "  inflating: data/negative/Cheryl_James_0001.jpg  \n",
            "  inflating: data/negative/Cheryl_Little_0001.jpg  \n",
            "  inflating: data/negative/Cheryl_Tiegs_0001.jpg  \n",
            "  inflating: data/negative/Chhouk_Rin_0001.jpg  \n",
            "  inflating: data/negative/Chick_Hearn_0001.jpg  \n",
            "  inflating: data/negative/Chick_Hearn_0002.jpg  \n",
            "  inflating: data/negative/Chick_Hearn_0003.jpg  \n",
            "  inflating: data/negative/Chin-Feng_Chen_0001.jpg  \n",
            "  inflating: data/negative/Chin-Hui_Tsao_0001.jpg  \n",
            "  inflating: data/negative/Chip_Burrus_0001.jpg  \n",
            "  inflating: data/negative/Chip_Ganassi_0001.jpg  \n",
            "  inflating: data/negative/Chip_Knight_0001.jpg  \n",
            "  inflating: data/negative/Chistian_Stahl_0001.jpg  \n",
            "  inflating: data/negative/Chita_Rivera_0001.jpg  \n",
            "  inflating: data/negative/Chita_Rivera_0002.jpg  \n",
            "  inflating: data/negative/Chloe_Sevigny_0001.jpg  \n",
            "  inflating: data/negative/Cho_Myung-kyun_0001.jpg  \n",
            "  inflating: data/negative/Choi_Sung-hong_0001.jpg  \n",
            "  inflating: data/negative/Choi_Sung-hong_0002.jpg  \n",
            "  inflating: data/negative/Choi_Sung-hong_0003.jpg  \n",
            "  inflating: data/negative/Choi_Sung-hong_0004.jpg  \n",
            "  inflating: data/negative/Choi_Sung-hong_0005.jpg  \n",
            "  inflating: data/negative/Choi_Yun-yong_0001.jpg  \n",
            "  inflating: data/negative/Chok_Tong_Goh_0001.jpg  \n",
            "  inflating: data/negative/Chok_Tong_Goh_0002.jpg  \n",
            "  inflating: data/negative/Chris_Andrews_0001.jpg  \n",
            "  inflating: data/negative/Chris_Bell_0001.jpg  \n",
            "  inflating: data/negative/Chris_Bell_0002.jpg  \n",
            "  inflating: data/negative/Chris_Byrd_0001.jpg  \n",
            "  inflating: data/negative/Chris_Byrd_0002.jpg  \n",
            "  inflating: data/negative/Chris_Cirino_0001.jpg  \n",
            "  inflating: data/negative/Chris_Claiborne_0001.jpg  \n",
            "  inflating: data/negative/Chris_Columbus_0001.jpg  \n",
            "  inflating: data/negative/Chris_Cookson_0001.jpg  \n",
            "  inflating: data/negative/Chris_Cooper_0001.jpg  \n",
            "  inflating: data/negative/Chris_Cooper_0002.jpg  \n",
            "  inflating: data/negative/Chris_Cornell_0001.jpg  \n",
            "  inflating: data/negative/Chris_Crocker_0001.jpg  \n",
            "  inflating: data/negative/Chris_Dodd_0001.jpg  \n",
            "  inflating: data/negative/Chris_Forsyth_0001.jpg  \n",
            "  inflating: data/negative/Chris_Gratton_0001.jpg  \n",
            "  inflating: data/negative/Chris_Hernandez_0001.jpg  \n",
            "  inflating: data/negative/Chris_Klein_0001.jpg  \n",
            "  inflating: data/negative/Chris_Kolanas_0001.jpg  \n",
            "  inflating: data/negative/Chris_Matthews_0001.jpg  \n",
            "  inflating: data/negative/Chris_Moore_0001.jpg  \n",
            "  inflating: data/negative/Chris_Neil_0001.jpg  \n",
            "  inflating: data/negative/Chris_Noth_0001.jpg  \n",
            "  inflating: data/negative/Chris_Penn_0001.jpg  \n",
            "  inflating: data/negative/Chris_Pronger_0001.jpg  \n",
            "  inflating: data/negative/Chris_Reitsma_0001.jpg  \n",
            "  inflating: data/negative/Chris_Rock_0001.jpg  \n",
            "  inflating: data/negative/Chris_Rock_0002.jpg  \n",
            "  inflating: data/negative/Chris_Simon_0001.jpg  \n",
            "  inflating: data/negative/Chris_Swecker_0001.jpg  \n",
            "  inflating: data/negative/Chris_Terry_0001.jpg  \n",
            "  inflating: data/negative/Chris_Thomas_0001.jpg  \n",
            "  inflating: data/negative/Chris_Tucker_0001.jpg  \n",
            "  inflating: data/negative/Chris_Tucker_0002.jpg  \n",
            "  inflating: data/negative/Chris_Whitney_0001.jpg  \n",
            "  inflating: data/negative/Christian_Bale_0001.jpg  \n",
            "  inflating: data/negative/Christian_Fittipaldi_0001.jpg  \n",
            "  inflating: data/negative/Christian_Fittipaldi_0002.jpg  \n",
            "  inflating: data/negative/Christian_Gimenez_0001.jpg  \n",
            "  inflating: data/negative/Christian_Lacroix_0001.jpg  \n",
            "  inflating: data/negative/Christian_Lirette_0001.jpg  \n",
            "  inflating: data/negative/Christian_Longo_0001.jpg  \n",
            "  inflating: data/negative/Christian_Longo_0002.jpg  \n",
            "  inflating: data/negative/Christian_Longo_0003.jpg  \n",
            "  inflating: data/negative/Christian_Malcolm_0001.jpg  \n",
            "  inflating: data/negative/Christian_Olsson_0001.jpg  \n",
            "  inflating: data/negative/Christian_Patino_0001.jpg  \n",
            "  inflating: data/negative/Christian_Von_Wernich_0001.jpg  \n",
            "  inflating: data/negative/Christian_Wulff_0001.jpg  \n",
            "  inflating: data/negative/Christian_Wulff_0002.jpg  \n",
            "  inflating: data/negative/Christiane_Wulff_0001.jpg  \n",
            "  inflating: data/negative/Christina_Aguilera_0001.jpg  \n",
            "  inflating: data/negative/Christina_Aguilera_0002.jpg  \n",
            "  inflating: data/negative/Christina_Aguilera_0003.jpg  \n",
            "  inflating: data/negative/Christina_Aguilera_0004.jpg  \n",
            "  inflating: data/negative/Christina_Sawaya_0001.jpg  \n",
            "  inflating: data/negative/Christine_Arron_0001.jpg  \n",
            "  inflating: data/negative/Christine_Baumgartner_0001.jpg  \n",
            "  inflating: data/negative/Christine_Baumgartner_0002.jpg  \n",
            "  inflating: data/negative/Christine_Baumgartner_0003.jpg  \n",
            "  inflating: data/negative/Christine_Baumgartner_0004.jpg  \n",
            "  inflating: data/negative/Christine_Baumgartner_0005.jpg  \n",
            "  inflating: data/negative/Christine_Ebersole_0001.jpg  \n",
            "  inflating: data/negative/Christine_Ebersole_0002.jpg  \n",
            "  inflating: data/negative/Christine_Gregoire_0001.jpg  \n",
            "  inflating: data/negative/Christine_Gregoire_0002.jpg  \n",
            "  inflating: data/negative/Christine_Gregoire_0003.jpg  \n",
            "  inflating: data/negative/Christine_Gregoire_0004.jpg  \n",
            "  inflating: data/negative/Christine_Rau_0001.jpg  \n",
            "  inflating: data/negative/Christine_Todd_Whitman_0001.jpg  \n",
            "  inflating: data/negative/Christine_Todd_Whitman_0002.jpg  \n",
            "  inflating: data/negative/Christine_Todd_Whitman_0003.jpg  \n",
            "  inflating: data/negative/Christine_Todd_Whitman_0004.jpg  \n",
            "  inflating: data/negative/Christine_Todd_Whitman_0005.jpg  \n",
            "  inflating: data/negative/Christine_Todd_Whitman_0006.jpg  \n",
            "  inflating: data/negative/Christoph_Daum_0001.jpg  \n",
            "  inflating: data/negative/Christopher_Amolsch_0001.jpg  \n",
            "  inflating: data/negative/Christopher_Conyers_0001.jpg  \n",
            "  inflating: data/negative/Christopher_Matero_0001.jpg  \n",
            "  inflating: data/negative/Christopher_Patten_0001.jpg  \n",
            "  inflating: data/negative/Christopher_Patten_0002.jpg  \n",
            "  inflating: data/negative/Christopher_Reeve_0001.jpg  \n",
            "  inflating: data/negative/Christopher_Reeve_0002.jpg  \n",
            "  inflating: data/negative/Christopher_Reeve_0003.jpg  \n",
            "  inflating: data/negative/Christopher_Reeve_0004.jpg  \n",
            "  inflating: data/negative/Christopher_Russell_0001.jpg  \n",
            "  inflating: data/negative/Christopher_Speer_0001.jpg  \n",
            "  inflating: data/negative/Christopher_Walken_0001.jpg  \n",
            "  inflating: data/negative/Christopher_Walken_0002.jpg  \n",
            "  inflating: data/negative/Christopher_Walken_0003.jpg  \n",
            "  inflating: data/negative/Christopher_Walken_0004.jpg  \n",
            "  inflating: data/negative/Christopher_Whittle_0001.jpg  \n",
            "  inflating: data/negative/Christy_Ferer_0001.jpg  \n",
            "  inflating: data/negative/Christy_Turlington_0001.jpg  \n",
            "  inflating: data/negative/Chuanyun_Li_0001.jpg  \n",
            "  inflating: data/negative/Chuck_Amato_0001.jpg  \n",
            "  inflating: data/negative/Chuck_Amato_0002.jpg  \n",
            "  inflating: data/negative/Chuck_Bednarik_0001.jpg  \n",
            "  inflating: data/negative/Chuck_Eidson_0001.jpg  \n",
            "  inflating: data/negative/Chuck_Finley_0001.jpg  \n",
            "  inflating: data/negative/Chuck_Hagel_0001.jpg  \n",
            "  inflating: data/negative/Chuck_Woolery_0001.jpg  \n",
            "  inflating: data/negative/Chuck_Yeager_0001.jpg  \n",
            "  inflating: data/negative/Chuck_Yeager_0002.jpg  \n",
            "  inflating: data/negative/Chung_Mong-hun_0001.jpg  \n",
            "  inflating: data/negative/Chung_Mong-hun_0002.jpg  \n",
            "  inflating: data/negative/Chung_Mong-joon_0001.jpg  \n",
            "  inflating: data/negative/Chung_Mong-joon_0002.jpg  \n",
            "  inflating: data/negative/Chyung_Dai-chul_0001.jpg  \n",
            "  inflating: data/negative/Ciaran_Hinds_0001.jpg  \n",
            "  inflating: data/negative/Cindy_Crawford_0001.jpg  \n",
            "  inflating: data/negative/Cindy_Crawford_0002.jpg  \n",
            "  inflating: data/negative/Cindy_Crawford_0003.jpg  \n",
            "  inflating: data/negative/Cindy_Klassen_0001.jpg  \n",
            "  inflating: data/negative/Cindy_Margolis_0001.jpg  \n",
            "  inflating: data/negative/Cindy_Margolis_0002.jpg  \n",
            "  inflating: data/negative/Cindy_Moll_0001.jpg  \n",
            "  inflating: data/negative/Cindy_Taylor_0001.jpg  \n",
            "  inflating: data/negative/Cindy_Zagorski_0001.jpg  \n",
            "  inflating: data/negative/Ciro_Gomes_0001.jpg  \n",
            "  inflating: data/negative/Ciro_Gomes_0002.jpg  \n",
            "  inflating: data/negative/Ciro_Gomes_0003.jpg  \n",
            "  inflating: data/negative/Ciro_Gomes_0004.jpg  \n",
            "  inflating: data/negative/Ciro_Gomes_0005.jpg  \n",
            "  inflating: data/negative/Claire_Danes_0001.jpg  \n",
            "  inflating: data/negative/Claire_Danes_0002.jpg  \n",
            "  inflating: data/negative/Claire_Danes_0003.jpg  \n",
            "  inflating: data/negative/Claire_De_Gryse_0001.jpg  \n",
            "  inflating: data/negative/Claire_Hentzen_0001.jpg  \n",
            "  inflating: data/negative/Claire_Hentzen_0002.jpg  \n",
            "  inflating: data/negative/Claire_Leger_0001.jpg  \n",
            "  inflating: data/negative/Claire_Leger_0002.jpg  \n",
            "  inflating: data/negative/Claire_Tomalin_0001.jpg  \n",
            "  inflating: data/negative/Clara_Harris_0001.jpg  \n",
            "  inflating: data/negative/Clara_Harris_0002.jpg  \n",
            "  inflating: data/negative/Clara_Harris_0003.jpg  \n",
            "  inflating: data/negative/Clara_Harris_0004.jpg  \n",
            "  inflating: data/negative/Clara_Harris_0005.jpg  \n",
            "  inflating: data/negative/Clare_Latimer_0001.jpg  \n",
            "  inflating: data/negative/Clare_Short_0001.jpg  \n",
            "  inflating: data/negative/Clare_Short_0002.jpg  \n",
            "  inflating: data/negative/Clare_Short_0003.jpg  \n",
            "  inflating: data/negative/Clare_Short_0004.jpg  \n",
            "  inflating: data/negative/Clark_Randt_0001.jpg  \n",
            "  inflating: data/negative/Claude_Jorda_0001.jpg  \n",
            "  inflating: data/negative/Claudette_Robinson_0001.jpg  \n",
            "  inflating: data/negative/Claudia_Cardinale_0001.jpg  \n",
            "  inflating: data/negative/Claudia_Coslovich_0001.jpg  \n",
            "  inflating: data/negative/Claudia_Pechstein_0001.jpg  \n",
            "  inflating: data/negative/Claudia_Pechstein_0002.jpg  \n",
            "  inflating: data/negative/Claudia_Pechstein_0003.jpg  \n",
            "  inflating: data/negative/Claudia_Pechstein_0004.jpg  \n",
            "  inflating: data/negative/Claudia_Pechstein_0005.jpg  \n",
            "  inflating: data/negative/Claudia_Schiffer_0001.jpg  \n",
            "  inflating: data/negative/Claudia_Schiffer_0002.jpg  \n",
            "  inflating: data/negative/Claudia_Schiffer_0003.jpg  \n",
            "  inflating: data/negative/Claudine_Farrell_0001.jpg  \n",
            "  inflating: data/negative/Claudio_Abbado_0001.jpg  \n",
            "  inflating: data/negative/Claudio_Lopez_0001.jpg  \n",
            "  inflating: data/negative/Claudio_Ranieri_0001.jpg  \n",
            "  inflating: data/negative/Clay_Aiken_0001.jpg  \n",
            "  inflating: data/negative/Clay_Aiken_0002.jpg  \n",
            "  inflating: data/negative/Clay_Aiken_0003.jpg  \n",
            "  inflating: data/negative/Clay_Aiken_0004.jpg  \n",
            "  inflating: data/negative/Clay_Aiken_0005.jpg  \n",
            "  inflating: data/negative/Clay_Aiken_0006.jpg  \n",
            "  inflating: data/negative/Clay_Campbell_0001.jpg  \n",
            "  inflating: data/negative/Clemente_de_la_Vega_0001.jpg  \n",
            "  inflating: data/negative/Cliff_Ellis_0001.jpg  \n",
            "  inflating: data/negative/Clifford_Etienne_0001.jpg  \n",
            "  inflating: data/negative/Clifford_Robinson_0001.jpg  \n",
            "  inflating: data/negative/Clint_Eastwood_0001.jpg  \n",
            "  inflating: data/negative/Clint_Eastwood_0002.jpg  \n",
            "  inflating: data/negative/Clint_Eastwood_0003.jpg  \n",
            "  inflating: data/negative/Clint_Eastwood_0004.jpg  \n",
            "  inflating: data/negative/Clint_Eastwood_0005.jpg  \n",
            "  inflating: data/negative/Clint_Eastwood_0006.jpg  \n",
            "  inflating: data/negative/Clint_Howard_0001.jpg  \n",
            "  inflating: data/negative/Clint_Lamebear_0001.jpg  \n",
            "  inflating: data/negative/Clive_Lloyd_0001.jpg  \n",
            "  inflating: data/negative/Clive_Woodward_0001.jpg  \n",
            "  inflating: data/negative/Coco_dEste_0001.jpg  \n",
            "  inflating: data/negative/Cole_Chapman_0001.jpg  \n",
            "  inflating: data/negative/Coleen_Rowley_0001.jpg  \n",
            "  inflating: data/negative/Colin_Campbell_0001.jpg  \n",
            "  inflating: data/negative/Colin_Cowie_0001.jpg  \n",
            "  inflating: data/negative/Colin_Farrell_0001.jpg  \n",
            "  inflating: data/negative/Colin_Farrell_0002.jpg  \n",
            "  inflating: data/negative/Colin_Farrell_0003.jpg  \n",
            "  inflating: data/negative/Colin_Farrell_0004.jpg  \n",
            "  inflating: data/negative/Colin_Farrell_0005.jpg  \n",
            "  inflating: data/negative/Colin_Farrell_0006.jpg  \n",
            "  inflating: data/negative/Colin_Farrell_0007.jpg  \n",
            "  inflating: data/negative/Colin_Farrell_0008.jpg  \n",
            "  inflating: data/negative/Colin_Farrell_0009.jpg  \n",
            "  inflating: data/negative/Colin_Jackson_0001.jpg  \n",
            "  inflating: data/negative/Colin_Jackson_0002.jpg  \n",
            "  inflating: data/negative/Colin_Montgomerie_0001.jpg  \n",
            "  inflating: data/negative/Colin_Montgomerie_0002.jpg  \n",
            "  inflating: data/negative/Colin_Montgomerie_0003.jpg  \n",
            "  inflating: data/negative/Colin_Montgomerie_0004.jpg  \n",
            "  inflating: data/negative/Colin_Montgomerie_0005.jpg  \n",
            "  inflating: data/negative/Colin_Phillips_0001.jpg  \n",
            "   creating: data/positive/\n",
            "  inflating: data/positive/0026ee27-7a02-11ee-bf82-86fac50d5e49.jpg  \n",
            "  inflating: data/positive/002b9448-7a02-11ee-af5a-86fac50d5e49.jpg  \n",
            "  inflating: data/positive/00640007-7a02-11ee-8876-86fac50d5e49.jpg  \n",
            "  inflating: data/positive/0068d53a-7a02-11ee-9a38-86fac50d5e49.jpg  \n",
            "  inflating: data/positive/00754efe-7a02-11ee-a5f1-86fac50d5e49.jpg  \n",
            "  inflating: data/positive/00825acc-7a02-11ee-b920-86fac50d5e49.jpg  \n",
            "  inflating: data/positive/0091cf9a-7a02-11ee-9f96-86fac50d5e49.jpg  \n",
            "  inflating: data/positive/0098d3c5-7a02-11ee-a853-86fac50d5e49.jpg  \n",
            "  inflating: data/positive/00ef3610-7a02-11ee-a5e8-86fac50d5e49.jpg  \n",
            "  inflating: data/positive/00f3ff81-7a02-11ee-b490-86fac50d5e49.jpg  \n",
            "  inflating: data/positive/011e107c-7a02-11ee-a682-86fac50d5e49.jpg  \n",
            "  inflating: data/positive/01466a1c-7a02-11ee-998f-86fac50d5e49.jpg  \n",
            "  inflating: data/positive/0157d98d-7a02-11ee-be6f-86fac50d5e49.jpg  \n",
            "  inflating: data/positive/015eda43-7a02-11ee-9df7-86fac50d5e49.jpg  \n",
            "  inflating: data/positive/0164e0d0-7a02-11ee-bf05-86fac50d5e49.jpg  \n",
            "  inflating: data/positive/0170e263-7a02-11ee-b0e9-86fac50d5e49.jpg  \n",
            "  inflating: data/positive/0176c037-7a02-11ee-bd33-86fac50d5e49.jpg  \n",
            "  inflating: data/positive/01a008cb-7a02-11ee-8f8b-86fac50d5e49.jpg  \n",
            "  inflating: data/positive/01a52514-7a02-11ee-b1f4-86fac50d5e49.jpg  \n",
            "  inflating: data/positive/01dd1edc-7a02-11ee-95db-86fac50d5e49.jpg  \n",
            "  inflating: data/positive/01f44844-7a02-11ee-99ee-86fac50d5e49.jpg  \n",
            "  inflating: data/positive/020075b7-7a02-11ee-b4c2-86fac50d5e49.jpg  \n",
            "  inflating: data/positive/020343d6-7a02-11ee-9a0a-86fac50d5e49.jpg  \n",
            "  inflating: data/positive/020f8351-7a02-11ee-9920-86fac50d5e49.jpg  \n",
            "  inflating: data/positive/022dc8d4-7a02-11ee-ba21-86fac50d5e49.jpg  \n",
            "  inflating: data/positive/023536f5-7a02-11ee-b76d-86fac50d5e49.jpg  \n",
            "  inflating: data/positive/023c10bf-7a02-11ee-84dd-86fac50d5e49.jpg  \n",
            "  inflating: data/positive/027e4184-7a02-11ee-9d93-86fac50d5e49.jpg  \n",
            "  inflating: data/positive/0286b8c3-7a02-11ee-9d87-86fac50d5e49.jpg  \n",
            "  inflating: data/positive/02ceb4d6-7a02-11ee-a384-86fac50d5e49.jpg  \n",
            "  inflating: data/positive/02d164e2-7a02-11ee-bf76-86fac50d5e49.jpg  \n",
            "  inflating: data/positive/02d89336-7a02-11ee-81e9-86fac50d5e49.jpg  \n",
            "  inflating: data/positive/02e72ed1-7a02-11ee-845e-86fac50d5e49.jpg  \n",
            "  inflating: data/positive/02ebde84-7a02-11ee-8a45-86fac50d5e49.jpg  \n",
            "  inflating: data/positive/02f7ac2e-7a02-11ee-b6ad-86fac50d5e49.jpg  \n",
            "  inflating: data/positive/0300cd00-7a02-11ee-92d8-86fac50d5e49.jpg  \n",
            "  inflating: data/positive/030574e5-7a02-11ee-9fed-86fac50d5e49.jpg  \n",
            "  inflating: data/positive/031f38d8-7a02-11ee-9128-86fac50d5e49.jpg  \n",
            "  inflating: data/positive/0356973b-7a02-11ee-a2c7-86fac50d5e49.jpg  \n",
            "  inflating: data/positive/035c40b2-7a02-11ee-86de-86fac50d5e49.jpg  \n",
            "  inflating: data/positive/036131fd-7a02-11ee-ad8a-86fac50d5e49.jpg  \n",
            "  inflating: data/positive/037afbd2-7a02-11ee-89fd-86fac50d5e49.jpg  \n",
            "  inflating: data/positive/0381f053-7a02-11ee-8bd2-86fac50d5e49.jpg  \n",
            "  inflating: data/positive/03b7fb63-7a02-11ee-afce-86fac50d5e49.jpg  \n",
            "  inflating: data/positive/03be016c-7a02-11ee-83d5-86fac50d5e49.jpg  \n",
            "  inflating: data/positive/040ea055-7a02-11ee-9f56-86fac50d5e49.jpg  \n",
            "  inflating: data/positive/0412f485-7a02-11ee-b254-86fac50d5e49.jpg  \n",
            "  inflating: data/positive/04178f23-7a02-11ee-8c15-86fac50d5e49.jpg  \n",
            "  inflating: data/positive/041eaebe-7a02-11ee-89a0-86fac50d5e49.jpg  \n",
            "  inflating: data/positive/07802e91-7a02-11ee-a3c5-86fac50d5e49.jpg  \n",
            "  inflating: data/positive/0816aad8-7a02-11ee-bb04-86fac50d5e49.jpg  \n",
            "  inflating: data/positive/084f119e-7a02-11ee-b3fb-86fac50d5e49.jpg  \n",
            "  inflating: data/positive/0855ec39-7a02-11ee-889e-86fac50d5e49.jpg  \n",
            "  inflating: data/positive/085aec63-7a02-11ee-8d71-86fac50d5e49.jpg  \n",
            "  inflating: data/positive/0862eb15-7a02-11ee-a5f4-86fac50d5e49.jpg  \n",
            "  inflating: data/positive/086db4bf-7a02-11ee-9710-86fac50d5e49.jpg  \n",
            "  inflating: data/positive/08a405c7-7a02-11ee-95af-86fac50d5e49.jpg  \n",
            "  inflating: data/positive/08b6c219-7a02-11ee-8cee-86fac50d5e49.jpg  \n",
            "  inflating: data/positive/08bc1a19-7a02-11ee-b31c-86fac50d5e49.jpg  \n",
            "  inflating: data/positive/08e7974a-7a02-11ee-9ed1-86fac50d5e49.jpg  \n",
            "  inflating: data/positive/08f4faa2-7a02-11ee-a8ea-86fac50d5e49.jpg  \n",
            "  inflating: data/positive/08f9dea2-7a02-11ee-9a37-86fac50d5e49.jpg  \n",
            "  inflating: data/positive/091570ed-7a02-11ee-a3a7-86fac50d5e49.jpg  \n",
            "  inflating: data/positive/0936488d-7a02-11ee-ba15-86fac50d5e49.jpg  \n",
            "  inflating: data/positive/093fa88f-7a02-11ee-b45e-86fac50d5e49.jpg  \n",
            "  inflating: data/positive/0944ae45-7a02-11ee-bcd2-86fac50d5e49.jpg  \n",
            "  inflating: data/positive/0963b9a2-7a02-11ee-9f27-86fac50d5e49.jpg  \n",
            "  inflating: data/positive/09757052-7a02-11ee-98c2-86fac50d5e49.jpg  \n",
            "  inflating: data/positive/098285e2-7a02-11ee-9c1d-86fac50d5e49.jpg  \n",
            "  inflating: data/positive/0989bb4e-7a02-11ee-bcda-86fac50d5e49.jpg  \n",
            "  inflating: data/positive/09ec7559-7a02-11ee-80ed-86fac50d5e49.jpg  \n",
            "  inflating: data/positive/09f35fd7-7a02-11ee-8aca-86fac50d5e49.jpg  \n",
            "  inflating: data/positive/0a21e573-7a02-11ee-b49c-86fac50d5e49.jpg  \n",
            "  inflating: data/positive/0a3ebe6b-7a02-11ee-8073-86fac50d5e49.jpg  \n",
            "  inflating: data/positive/0a558726-7a02-11ee-bb57-86fac50d5e49.jpg  \n",
            "  inflating: data/positive/0a651e74-7a02-11ee-b5a2-86fac50d5e49.jpg  \n",
            "  inflating: data/positive/0a6d343f-7a02-11ee-9f08-86fac50d5e49.jpg  \n",
            "  inflating: data/positive/0a91c1e9-7a02-11ee-b959-86fac50d5e49.jpg  \n",
            "  inflating: data/positive/0ac48805-7a02-11ee-8200-86fac50d5e49.jpg  \n",
            "  inflating: data/positive/0ad148ba-7a02-11ee-9fe1-86fac50d5e49.jpg  \n",
            "  inflating: data/positive/0adc2344-7a02-11ee-be1b-86fac50d5e49.jpg  \n",
            "  inflating: data/positive/0ae2fd65-7a02-11ee-ab1f-86fac50d5e49.jpg  \n",
            "  inflating: data/positive/0aea4da8-7a02-11ee-9284-86fac50d5e49.jpg  \n",
            "  inflating: data/positive/0b252822-7a02-11ee-b85a-86fac50d5e49.jpg  \n",
            "  inflating: data/positive/0b3564dc-7a02-11ee-8721-86fac50d5e49.jpg  \n",
            "  inflating: data/positive/0b82e121-7a02-11ee-be9a-86fac50d5e49.jpg  \n",
            "  inflating: data/positive/0b886daa-7a02-11ee-a980-86fac50d5e49.jpg  \n",
            "  inflating: data/positive/0ba10b1a-7a02-11ee-bb20-86fac50d5e49.jpg  \n",
            "  inflating: data/positive/0bb6f9d2-7a02-11ee-9499-86fac50d5e49.jpg  \n",
            "  inflating: data/positive/0bbdca87-7a02-11ee-a912-86fac50d5e49.jpg  \n",
            "  inflating: data/positive/0bc3b7d7-7a02-11ee-a1b5-86fac50d5e49.jpg  \n",
            "  inflating: data/positive/0bcb58a5-7a02-11ee-a829-86fac50d5e49.jpg  \n",
            "  inflating: data/positive/0bd32507-7a02-11ee-9238-86fac50d5e49.jpg  \n",
            "  inflating: data/positive/0bd7f6d9-7a02-11ee-9b23-86fac50d5e49.jpg  \n",
            "  inflating: data/positive/0bdc9d06-7a02-11ee-a718-86fac50d5e49.jpg  \n",
            "  inflating: data/positive/0beb9cd5-7a02-11ee-92b3-86fac50d5e49.jpg  \n",
            "  inflating: data/positive/0bef69ca-7a02-11ee-891f-86fac50d5e49.jpg  \n",
            "  inflating: data/positive/0bf6cd49-7a02-11ee-a188-86fac50d5e49.jpg  \n",
            "  inflating: data/positive/0c161f33-7a02-11ee-9948-86fac50d5e49.jpg  \n",
            "  inflating: data/positive/0c23f9b1-7a02-11ee-9850-86fac50d5e49.jpg  \n",
            "  inflating: data/positive/0c28b864-7a02-11ee-8570-86fac50d5e49.jpg  \n",
            "  inflating: data/positive/0c4d557b-7a02-11ee-bab1-86fac50d5e49.jpg  \n",
            "  inflating: data/positive/0c543dd3-7a02-11ee-ba57-86fac50d5e49.jpg  \n",
            "  inflating: data/positive/0c5c41df-7a02-11ee-8f42-86fac50d5e49.jpg  \n",
            "  inflating: data/positive/0c7af1f2-7a02-11ee-9271-86fac50d5e49.jpg  \n",
            "  inflating: data/positive/0c81f661-7a02-11ee-bc72-86fac50d5e49.jpg  \n",
            "  inflating: data/positive/0c868f21-7a02-11ee-b7a3-86fac50d5e49.jpg  \n",
            "  inflating: data/positive/0cb258d3-7a02-11ee-a715-86fac50d5e49.jpg  \n",
            "  inflating: data/positive/0cba37e7-7a02-11ee-ba74-86fac50d5e49.jpg  \n",
            "  inflating: data/positive/0ce27cd3-7a02-11ee-822f-86fac50d5e49.jpg  \n",
            "  inflating: data/positive/0ce8ae45-7a02-11ee-8ac4-86fac50d5e49.jpg  \n",
            "  inflating: data/positive/0cf89692-7a02-11ee-9a3a-86fac50d5e49.jpg  \n",
            "  inflating: data/positive/0cffb925-7a02-11ee-89b7-86fac50d5e49.jpg  \n",
            "  inflating: data/positive/0d0690c8-7a02-11ee-9b8b-86fac50d5e49.jpg  \n",
            "  inflating: data/positive/0d0b48ce-7a02-11ee-8500-86fac50d5e49.jpg  \n",
            "  inflating: data/positive/0d0fe42a-7a02-11ee-bf9b-86fac50d5e49.jpg  \n",
            "  inflating: data/positive/0d4213e4-7a02-11ee-aa54-86fac50d5e49.jpg  \n",
            "  inflating: data/positive/d97183d7-7a01-11ee-9439-86fac50d5e49.jpg  \n",
            "  inflating: data/positive/d98798c3-7a01-11ee-91e7-86fac50d5e49.jpg  \n",
            "  inflating: data/positive/d99873ab-7a01-11ee-97f7-86fac50d5e49.jpg  \n",
            "  inflating: data/positive/d9a79b4e-7a01-11ee-b03d-86fac50d5e49.jpg  \n",
            "  inflating: data/positive/d9ae6b43-7a01-11ee-b9f0-86fac50d5e49.jpg  \n",
            "  inflating: data/positive/d9b5aed4-7a01-11ee-8bae-86fac50d5e49.jpg  \n",
            "  inflating: data/positive/d9bd3dcf-7a01-11ee-8cba-86fac50d5e49.jpg  \n",
            "  inflating: data/positive/d9c4230b-7a01-11ee-bfeb-86fac50d5e49.jpg  \n",
            "  inflating: data/positive/d9d33bdd-7a01-11ee-807e-86fac50d5e49.jpg  \n",
            "  inflating: data/positive/d9f4f02c-7a01-11ee-aff9-86fac50d5e49.jpg  \n",
            "  inflating: data/positive/d9f99ca2-7a01-11ee-a3a6-86fac50d5e49.jpg  \n",
            "  inflating: data/positive/da129656-7a01-11ee-9bc2-86fac50d5e49.jpg  \n",
            "  inflating: data/positive/da176f40-7a01-11ee-b7f3-86fac50d5e49.jpg  \n",
            "  inflating: data/positive/da1d28a3-7a01-11ee-b140-86fac50d5e49.jpg  \n",
            "  inflating: data/positive/da4b4d7e-7a01-11ee-8ad7-86fac50d5e49.jpg  \n",
            "  inflating: data/positive/da527160-7a01-11ee-ab81-86fac50d5e49.jpg  \n",
            "  inflating: data/positive/da5a3495-7a01-11ee-9585-86fac50d5e49.jpg  \n",
            "  inflating: data/positive/da6af55b-7a01-11ee-a294-86fac50d5e49.jpg  \n",
            "  inflating: data/positive/da7241f8-7a01-11ee-8395-86fac50d5e49.jpg  \n",
            "  inflating: data/positive/da8cebd1-7a01-11ee-a06c-86fac50d5e49.jpg  \n",
            "  inflating: data/positive/da917aea-7a01-11ee-be57-86fac50d5e49.jpg  \n",
            "  inflating: data/positive/da977f95-7a01-11ee-a58c-86fac50d5e49.jpg  \n",
            "  inflating: data/positive/dae3b935-7a01-11ee-b308-86fac50d5e49.jpg  \n",
            "  inflating: data/positive/db1f0bf3-7a01-11ee-9918-86fac50d5e49.jpg  \n",
            "  inflating: data/positive/db2390ed-7a01-11ee-8f57-86fac50d5e49.jpg  \n",
            "  inflating: data/positive/db47d7ec-7a01-11ee-ad8f-86fac50d5e49.jpg  \n",
            "  inflating: data/positive/db509d69-7a01-11ee-94a4-86fac50d5e49.jpg  \n",
            "  inflating: data/positive/db886af4-7a01-11ee-8a6b-86fac50d5e49.jpg  \n",
            "  inflating: data/positive/dbac7278-7a01-11ee-8a23-86fac50d5e49.jpg  \n",
            "  inflating: data/positive/dc2d5908-7a01-11ee-880f-86fac50d5e49.jpg  \n",
            "  inflating: data/positive/dc358fbc-7a01-11ee-a554-86fac50d5e49.jpg  \n",
            "  inflating: data/positive/dc3ca7e2-7a01-11ee-b7da-86fac50d5e49.jpg  \n",
            "  inflating: data/positive/dc4756a9-7a01-11ee-8cac-86fac50d5e49.jpg  \n",
            "  inflating: data/positive/dc5d3ce7-7a01-11ee-ae79-86fac50d5e49.jpg  \n",
            "  inflating: data/positive/dc7a2c2f-7a01-11ee-89cd-86fac50d5e49.jpg  \n",
            "  inflating: data/positive/dca784cf-7a01-11ee-b38f-86fac50d5e49.jpg  \n",
            "  inflating: data/positive/dcad9597-7a01-11ee-8191-86fac50d5e49.jpg  \n",
            "  inflating: data/positive/dcbecd8b-7a01-11ee-916f-86fac50d5e49.jpg  \n",
            "  inflating: data/positive/dcc381d3-7a01-11ee-a51e-86fac50d5e49.jpg  \n",
            "  inflating: data/positive/dccbf6ec-7a01-11ee-88ed-86fac50d5e49.jpg  \n",
            "  inflating: data/positive/dd18a02f-7a01-11ee-8406-86fac50d5e49.jpg  \n",
            "  inflating: data/positive/dd278fc8-7a01-11ee-8e34-86fac50d5e49.jpg  \n",
            "  inflating: data/positive/dd2e904d-7a01-11ee-b64a-86fac50d5e49.jpg  \n",
            "  inflating: data/positive/dd336a0c-7a01-11ee-ac5f-86fac50d5e49.jpg  \n",
            "  inflating: data/positive/dd39e717-7a01-11ee-b947-86fac50d5e49.jpg  \n",
            "  inflating: data/positive/dd4fadb7-7a01-11ee-9aaf-86fac50d5e49.jpg  \n",
            "  inflating: data/positive/dd5685cf-7a01-11ee-9c5a-86fac50d5e49.jpg  \n",
            "  inflating: data/positive/dd7656cb-7a01-11ee-826b-86fac50d5e49.jpg  \n",
            "  inflating: data/positive/dd8589f1-7a01-11ee-a89b-86fac50d5e49.jpg  \n",
            "  inflating: data/positive/dda66443-7a01-11ee-bd55-86fac50d5e49.jpg  \n",
            "  inflating: data/positive/ddc3bda7-7a01-11ee-9b19-86fac50d5e49.jpg  \n",
            "  inflating: data/positive/ddcad598-7a01-11ee-b093-86fac50d5e49.jpg  \n",
            "  inflating: data/positive/de06190a-7a01-11ee-8986-86fac50d5e49.jpg  \n",
            "  inflating: data/positive/de10f402-7a01-11ee-bf42-86fac50d5e49.jpg  \n",
            "  inflating: data/positive/de25ef8f-7a01-11ee-b71f-86fac50d5e49.jpg  \n",
            "  inflating: data/positive/de40436b-7a01-11ee-9691-86fac50d5e49.jpg  \n",
            "  inflating: data/positive/de58a013-7a01-11ee-b666-86fac50d5e49.jpg  \n",
            "  inflating: data/positive/de867156-7a01-11ee-8249-86fac50d5e49.jpg  \n",
            "  inflating: data/positive/de8fb15a-7a01-11ee-817d-86fac50d5e49.jpg  \n",
            "  inflating: data/positive/de9f24a3-7a01-11ee-871b-86fac50d5e49.jpg  \n",
            "  inflating: data/positive/dea52036-7a01-11ee-bdf6-86fac50d5e49.jpg  \n",
            "  inflating: data/positive/deac40a3-7a01-11ee-b74a-86fac50d5e49.jpg  \n",
            "  inflating: data/positive/deb3686c-7a01-11ee-b590-86fac50d5e49.jpg  \n",
            "  inflating: data/positive/dec3cbbb-7a01-11ee-8497-86fac50d5e49.jpg  \n",
            "  inflating: data/positive/decaacc4-7a01-11ee-9698-86fac50d5e49.jpg  \n",
            "  inflating: data/positive/ded2a46d-7a01-11ee-9768-86fac50d5e49.jpg  \n",
            "  inflating: data/positive/ded9c941-7a01-11ee-863f-86fac50d5e49.jpg  \n",
            "  inflating: data/positive/dede4398-7a01-11ee-9374-86fac50d5e49.jpg  \n",
            "  inflating: data/positive/df006a2f-7a01-11ee-aeae-86fac50d5e49.jpg  \n",
            "  inflating: data/positive/df5091f8-7a01-11ee-9113-86fac50d5e49.jpg  \n",
            "  inflating: data/positive/df57b4bd-7a01-11ee-8912-86fac50d5e49.jpg  \n",
            "  inflating: data/positive/df92e92f-7a01-11ee-b642-86fac50d5e49.jpg  \n",
            "  inflating: data/positive/df99ef0e-7a01-11ee-862a-86fac50d5e49.jpg  \n",
            "  inflating: data/positive/dfba205d-7a01-11ee-a77d-86fac50d5e49.jpg  \n",
            "  inflating: data/positive/dfc150c2-7a01-11ee-a54f-86fac50d5e49.jpg  \n",
            "  inflating: data/positive/e022832d-7a01-11ee-848f-86fac50d5e49.jpg  \n",
            "  inflating: data/positive/e0275696-7a01-11ee-b4f9-86fac50d5e49.jpg  \n",
            "  inflating: data/positive/e0917f67-7a01-11ee-bbb1-86fac50d5e49.jpg  \n",
            "  inflating: data/positive/e09640e3-7a01-11ee-9f40-86fac50d5e49.jpg  \n",
            "  inflating: data/positive/e0abd057-7a01-11ee-9c0a-86fac50d5e49.jpg  \n",
            "  inflating: data/positive/e0b2bd4a-7a01-11ee-9131-86fac50d5e49.jpg  \n",
            "  inflating: data/positive/e0bb07bc-7a01-11ee-9f24-86fac50d5e49.jpg  \n",
            "  inflating: data/positive/e10760eb-7a01-11ee-aa8c-86fac50d5e49.jpg  \n",
            "  inflating: data/positive/e11c2ff0-7a01-11ee-af6a-86fac50d5e49.jpg  \n",
            "  inflating: data/positive/e12202c3-7a01-11ee-997b-86fac50d5e49.jpg  \n",
            "  inflating: data/positive/e141043e-7a01-11ee-a6bf-86fac50d5e49.jpg  \n",
            "  inflating: data/positive/e146ccd8-7a01-11ee-8fbb-86fac50d5e49.jpg  \n",
            "  inflating: data/positive/e174ffbb-7a01-11ee-ab69-86fac50d5e49.jpg  \n",
            "  inflating: data/positive/e192f630-7a01-11ee-920c-86fac50d5e49.jpg  \n",
            "  inflating: data/positive/e1be6a0a-7a01-11ee-9838-86fac50d5e49.jpg  \n",
            "  inflating: data/positive/e1c3075d-7a01-11ee-b03f-86fac50d5e49.jpg  \n",
            "  inflating: data/positive/e1d0095a-7a01-11ee-9820-86fac50d5e49.jpg  \n",
            "  inflating: data/positive/e21ae874-7a01-11ee-8d1f-86fac50d5e49.jpg  \n",
            "  inflating: data/positive/e24bb84d-7a01-11ee-bff0-86fac50d5e49.jpg  \n",
            "  inflating: data/positive/e251a42a-7a01-11ee-ac8c-86fac50d5e49.jpg  \n",
            "  inflating: data/positive/e257077b-7a01-11ee-87e5-86fac50d5e49.jpg  \n",
            "  inflating: data/positive/e275c064-7a01-11ee-b487-86fac50d5e49.jpg  \n",
            "  inflating: data/positive/e284f7ad-7a01-11ee-be79-86fac50d5e49.jpg  \n",
            "  inflating: data/positive/e292a1c3-7a01-11ee-884f-86fac50d5e49.jpg  \n",
            "  inflating: data/positive/e29d73cd-7a01-11ee-8c78-86fac50d5e49.jpg  \n",
            "  inflating: data/positive/e2a332c8-7a01-11ee-8371-86fac50d5e49.jpg  \n",
            "  inflating: data/positive/e2aa398f-7a01-11ee-8728-86fac50d5e49.jpg  \n",
            "  inflating: data/positive/e31d90c1-7a01-11ee-8a3c-86fac50d5e49.jpg  \n",
            "  inflating: data/positive/e32454f8-7a01-11ee-9818-86fac50d5e49.jpg  \n",
            "  inflating: data/positive/ec8b64cf-7a01-11ee-89c0-86fac50d5e49.jpg  \n",
            "  inflating: data/positive/ed510889-7a01-11ee-a272-86fac50d5e49.jpg  \n",
            "  inflating: data/positive/ed62a980-7a01-11ee-98ed-86fac50d5e49.jpg  \n",
            "  inflating: data/positive/ed6f3aeb-7a01-11ee-92f3-86fac50d5e49.jpg  \n",
            "  inflating: data/positive/ed7c4823-7a01-11ee-be76-86fac50d5e49.jpg  \n",
            "  inflating: data/positive/ed8decce-7a01-11ee-b107-86fac50d5e49.jpg  \n",
            "  inflating: data/positive/edbdf397-7a01-11ee-a32c-86fac50d5e49.jpg  \n",
            "  inflating: data/positive/ee5b4bef-7a01-11ee-8e94-86fac50d5e49.jpg  \n",
            "  inflating: data/positive/ee61144e-7a01-11ee-9ee1-86fac50d5e49.jpg  \n",
            "  inflating: data/positive/ee684baf-7a01-11ee-8866-86fac50d5e49.jpg  \n",
            "  inflating: data/positive/ee708b19-7a01-11ee-89af-86fac50d5e49.jpg  \n",
            "  inflating: data/positive/ee77aecb-7a01-11ee-a18a-86fac50d5e49.jpg  \n",
            "  inflating: data/positive/ee8ee5f7-7a01-11ee-bbb8-86fac50d5e49.jpg  \n",
            "  inflating: data/positive/eead7b64-7a01-11ee-b6ef-86fac50d5e49.jpg  \n",
            "  inflating: data/positive/eeb536d8-7a01-11ee-b3c6-86fac50d5e49.jpg  \n",
            "  inflating: data/positive/eecfdbce-7a01-11ee-9921-86fac50d5e49.jpg  \n",
            "  inflating: data/positive/eedc7265-7a01-11ee-a2f7-86fac50d5e49.jpg  \n",
            "  inflating: data/positive/eee81b64-7a01-11ee-883a-86fac50d5e49.jpg  \n",
            "  inflating: data/positive/ef09226d-7a01-11ee-8854-86fac50d5e49.jpg  \n",
            "  inflating: data/positive/ef1003c5-7a01-11ee-8647-86fac50d5e49.jpg  \n",
            "  inflating: data/positive/ef42f956-7a01-11ee-bc8f-86fac50d5e49.jpg  \n",
            "  inflating: data/positive/ef48a4e3-7a01-11ee-9ed3-86fac50d5e49.jpg  \n",
            "  inflating: data/positive/efd1707b-7a01-11ee-b3f8-86fac50d5e49.jpg  \n",
            "  inflating: data/positive/efd8b49c-7a01-11ee-a8ce-86fac50d5e49.jpg  \n",
            "  inflating: data/positive/efeddc4b-7a01-11ee-92ea-86fac50d5e49.jpg  \n",
            "  inflating: data/positive/f01e22fe-7a01-11ee-a372-86fac50d5e49.jpg  \n",
            "  inflating: data/positive/f0251f51-7a01-11ee-9cff-86fac50d5e49.jpg  \n",
            "  inflating: data/positive/f02d3f19-7a01-11ee-97f5-86fac50d5e49.jpg  \n",
            "  inflating: data/positive/f03a4b91-7a01-11ee-b4e7-86fac50d5e49.jpg  \n",
            "  inflating: data/positive/f041953a-7a01-11ee-b204-86fac50d5e49.jpg  \n",
            "  inflating: data/positive/f0493f86-7a01-11ee-8fc1-86fac50d5e49.jpg  \n",
            "  inflating: data/positive/f077267b-7a01-11ee-9d13-86fac50d5e49.jpg  \n",
            "  inflating: data/positive/f07e0623-7a01-11ee-9132-86fac50d5e49.jpg  \n",
            "  inflating: data/positive/f086736a-7a01-11ee-8243-86fac50d5e49.jpg  \n",
            "  inflating: data/positive/f0d3057b-7a01-11ee-b605-86fac50d5e49.jpg  \n",
            "  inflating: data/positive/f0da0b23-7a01-11ee-9dd9-86fac50d5e49.jpg  \n",
            "  inflating: data/positive/f1270ab9-7a01-11ee-895b-86fac50d5e49.jpg  \n",
            "  inflating: data/positive/f14f4374-7a01-11ee-ac99-86fac50d5e49.jpg  \n",
            "  inflating: data/positive/f158c4f0-7a01-11ee-9a6b-86fac50d5e49.jpg  \n",
            "  inflating: data/positive/f15f16b3-7a01-11ee-be0c-86fac50d5e49.jpg  \n",
            "  inflating: data/positive/f168bf72-7a01-11ee-a0e7-86fac50d5e49.jpg  \n",
            "  inflating: data/positive/f18c8de6-7a01-11ee-b7f3-86fac50d5e49.jpg  \n",
            "  inflating: data/positive/f1939cf5-7a01-11ee-a6f9-86fac50d5e49.jpg  \n",
            "  inflating: data/positive/f1994072-7a01-11ee-9ae3-86fac50d5e49.jpg  \n",
            "  inflating: data/positive/f1d13ba6-7a01-11ee-8803-86fac50d5e49.jpg  \n",
            "  inflating: data/positive/f1d63830-7a01-11ee-badb-86fac50d5e49.jpg  \n",
            "  inflating: data/positive/f1ea69d9-7a01-11ee-b9f0-86fac50d5e49.jpg  \n",
            "  inflating: data/positive/f1eeeab5-7a01-11ee-9d06-86fac50d5e49.jpg  \n",
            "  inflating: data/positive/f1f4e217-7a01-11ee-b296-86fac50d5e49.jpg  \n",
            "  inflating: data/positive/f22c113c-7a01-11ee-b8c7-86fac50d5e49.jpg  \n",
            "  inflating: data/positive/f24319e8-7a01-11ee-b4cc-86fac50d5e49.jpg  \n",
            "  inflating: data/positive/f249c870-7a01-11ee-a925-86fac50d5e49.jpg  \n",
            "  inflating: data/positive/f24d5c64-7a01-11ee-a395-86fac50d5e49.jpg  \n",
            "  inflating: data/positive/f254b6d2-7a01-11ee-a03a-86fac50d5e49.jpg  \n",
            "  inflating: data/positive/f286b8a8-7a01-11ee-9544-86fac50d5e49.jpg  \n",
            "  inflating: data/positive/f3051529-7a01-11ee-bff2-86fac50d5e49.jpg  \n",
            "  inflating: data/positive/f30be4ae-7a01-11ee-844c-86fac50d5e49.jpg  \n",
            "  inflating: data/positive/f311f412-7a01-11ee-b6a7-86fac50d5e49.jpg  \n",
            "  inflating: data/positive/f322e830-7a01-11ee-895a-86fac50d5e49.jpg  \n",
            "  inflating: data/positive/f3278398-7a01-11ee-9590-86fac50d5e49.jpg  \n",
            "  inflating: data/positive/f346da86-7a01-11ee-aaad-86fac50d5e49.jpg  \n",
            "  inflating: data/positive/f356002c-7a01-11ee-8987-86fac50d5e49.jpg  \n",
            "  inflating: data/positive/f367a2d0-7a01-11ee-8c4f-86fac50d5e49.jpg  \n",
            "  inflating: data/positive/f3747e35-7a01-11ee-9f94-86fac50d5e49.jpg  \n",
            "  inflating: data/positive/f37bf998-7a01-11ee-ab38-86fac50d5e49.jpg  \n",
            "  inflating: data/positive/f39ad918-7a01-11ee-b443-86fac50d5e49.jpg  \n",
            "  inflating: data/positive/f3be7de2-7a01-11ee-abdd-86fac50d5e49.jpg  \n",
            "  inflating: data/positive/f3c3482f-7a01-11ee-9850-86fac50d5e49.jpg  \n",
            "  inflating: data/positive/f3c9f588-7a01-11ee-962e-86fac50d5e49.jpg  \n",
            "  inflating: data/positive/f3d25386-7a01-11ee-a0d5-86fac50d5e49.jpg  \n",
            "  inflating: data/positive/f40ad301-7a01-11ee-a09a-86fac50d5e49.jpg  \n",
            "  inflating: data/positive/f4388db9-7a01-11ee-8576-86fac50d5e49.jpg  \n",
            "  inflating: data/positive/f443355e-7a01-11ee-8424-86fac50d5e49.jpg  \n",
            "  inflating: data/positive/f44a8a4c-7a01-11ee-9d9c-86fac50d5e49.jpg  \n",
            "  inflating: data/positive/f45bc091-7a01-11ee-b921-86fac50d5e49.jpg  \n",
            "  inflating: data/positive/f4991a88-7a01-11ee-8230-86fac50d5e49.jpg  \n",
            "  inflating: data/positive/f4a0011a-7a01-11ee-afd4-86fac50d5e49.jpg  \n",
            "  inflating: data/positive/f4b18c92-7a01-11ee-9510-86fac50d5e49.jpg  \n",
            "  inflating: data/positive/f4b91347-7a01-11ee-8f9b-86fac50d5e49.jpg  \n",
            "  inflating: data/positive/f4ce5c40-7a01-11ee-985b-86fac50d5e49.jpg  \n",
            "  inflating: data/positive/fcd33b9c-7a01-11ee-b3d0-86fac50d5e49.jpg  \n",
            "  inflating: data/positive/fceb3212-7a01-11ee-9a10-86fac50d5e49.jpg  \n",
            "  inflating: data/positive/fd24fd16-7a01-11ee-9304-86fac50d5e49.jpg  \n",
            "  inflating: data/positive/fd2c8c10-7a01-11ee-ac01-86fac50d5e49.jpg  \n",
            "  inflating: data/positive/fd6b404f-7a01-11ee-8b2a-86fac50d5e49.jpg  \n",
            "  inflating: data/positive/fd77ea03-7a01-11ee-8029-86fac50d5e49.jpg  \n",
            "  inflating: data/positive/fd7c6b9a-7a01-11ee-a235-86fac50d5e49.jpg  \n",
            "  inflating: data/positive/fd83f289-7a01-11ee-b125-86fac50d5e49.jpg  \n",
            "  inflating: data/positive/fd93c7df-7a01-11ee-8062-86fac50d5e49.jpg  \n",
            "  inflating: data/positive/fe1afa8c-7a01-11ee-94f6-86fac50d5e49.jpg  \n",
            "  inflating: data/positive/fe21530e-7a01-11ee-82a0-86fac50d5e49.jpg  \n",
            "  inflating: data/positive/fe6fe2d5-7a01-11ee-95a9-86fac50d5e49.jpg  \n",
            "  inflating: data/positive/fea853fa-7a01-11ee-a777-86fac50d5e49.jpg  \n",
            "  inflating: data/positive/fead13a8-7a01-11ee-b470-86fac50d5e49.jpg  \n",
            "  inflating: data/positive/ff09ef0c-7a01-11ee-be82-86fac50d5e49.jpg  \n",
            "  inflating: data/positive/ff350f30-7a01-11ee-bd8a-86fac50d5e49.jpg  \n",
            "  inflating: data/positive/ff3c16eb-7a01-11ee-9fcc-86fac50d5e49.jpg  \n",
            "  inflating: data/positive/ff442bea-7a01-11ee-86e8-86fac50d5e49.jpg  \n",
            "  inflating: data/positive/ff6d5d4a-7a01-11ee-a99e-86fac50d5e49.jpg  \n",
            "  inflating: data/positive/ff7476f9-7a01-11ee-a225-86fac50d5e49.jpg  \n",
            "  inflating: data/positive/ff7c71ed-7a01-11ee-a07d-86fac50d5e49.jpg  \n",
            "  inflating: data/positive/ffa3bd8a-7a01-11ee-bbf9-86fac50d5e49.jpg  \n",
            "  inflating: data/positive/ffaa902d-7a01-11ee-a048-86fac50d5e49.jpg  \n",
            "  inflating: data/positive/ffb18a41-7a01-11ee-8b6c-86fac50d5e49.jpg  \n",
            "  inflating: data/positive/ffd72f4c-7a01-11ee-a465-86fac50d5e49.jpg  \n",
            "  inflating: data/positive/ffe767f3-7a01-11ee-81b0-86fac50d5e49.jpg  \n"
          ]
        }
      ]
    },
    {
      "cell_type": "markdown",
      "source": [
        "## Preprocessing & Creating A Training Pipeline\n"
      ],
      "metadata": {
        "id": "hPL7WOaLt0-d"
      }
    },
    {
      "cell_type": "code",
      "source": [
        "#actually creates a pipeline of PATHS using a data generator for all of the different files in a directory.\n",
        "#takes the path of the images in that directory as parameters\n",
        "anchor = tf.data.Dataset.list_files(anc_path+'/*.jpg').take(300)\n",
        "positive = tf.data.Dataset.list_files(pos_path+'/*.jpg').take(300)\n",
        "negative = tf.data.Dataset.list_files(neg_path+'/*.jpg').take(300)"
      ],
      "metadata": {
        "id": "mW3Bm62ktuOV"
      },
      "execution_count": null,
      "outputs": []
    },
    {
      "cell_type": "code",
      "source": [
        "eg = anchor.as_numpy_iterator()"
      ],
      "metadata": {
        "id": "L2rSAM_Qt3n1"
      },
      "execution_count": null,
      "outputs": []
    },
    {
      "cell_type": "code",
      "source": [
        "eg.next()"
      ],
      "metadata": {
        "colab": {
          "base_uri": "https://localhost:8080/"
        },
        "id": "HQzZccsUucpX",
        "outputId": "41ce5cae-9bf7-486d-f1cc-a680b7dcaac8"
      },
      "execution_count": null,
      "outputs": [
        {
          "output_type": "execute_result",
          "data": {
            "text/plain": [
              "b'data/anchor/ca95f3d0-7a01-11ee-8665-86fac50d5e49.jpg'"
            ]
          },
          "metadata": {},
          "execution_count": 9
        }
      ]
    },
    {
      "cell_type": "code",
      "source": [
        "def preprocess(file_path):\n",
        "    byte_img = tf.io.read_file(file_path) #read in the image from file path image as a byte string\n",
        "    img = tf.io.decode_jpeg(byte_img) # interprets the byte string as a JPEG-encoded image and converts it into a tensor.\n",
        "\n",
        "    img = tf.image.resize(img,(100,100))\n",
        "    img = img / 255.\n",
        "    return img"
      ],
      "metadata": {
        "id": "DbxLpI1xudq9"
      },
      "execution_count": null,
      "outputs": []
    },
    {
      "cell_type": "markdown",
      "source": [
        "## Creating the DataSet"
      ],
      "metadata": {
        "id": "7S8wDo7vugIl"
      }
    },
    {
      "cell_type": "code",
      "source": [
        "positives = tf.data.Dataset.zip((anchor,positive,tf.data.Dataset.from_tensor_slices(tf.ones(len(anchor)))))\n",
        "negatives = tf.data.Dataset.zip((anchor,negative,tf.data.Dataset.from_tensor_slices(tf.zeros(len(anchor)))))\n",
        "data = positives.concatenate(negatives)\n",
        "\n",
        "#dataset looks basically like : anchor,positive,array of 1s"
      ],
      "metadata": {
        "id": "nyd28iP9ueuE"
      },
      "execution_count": null,
      "outputs": []
    },
    {
      "cell_type": "code",
      "source": [
        "anchor"
      ],
      "metadata": {
        "colab": {
          "base_uri": "https://localhost:8080/"
        },
        "id": "0RraTS_euhuU",
        "outputId": "c1ca510a-66dd-4447-d225-242bcc863513"
      },
      "execution_count": null,
      "outputs": [
        {
          "output_type": "execute_result",
          "data": {
            "text/plain": [
              "<_TakeDataset element_spec=TensorSpec(shape=(), dtype=tf.string, name=None)>"
            ]
          },
          "metadata": {},
          "execution_count": 12
        }
      ]
    },
    {
      "cell_type": "code",
      "source": [
        "sample = data.as_numpy_iterator()"
      ],
      "metadata": {
        "id": "heKgY9u1ujGI"
      },
      "execution_count": null,
      "outputs": []
    },
    {
      "cell_type": "code",
      "source": [
        "example = sample.next()\n",
        "example"
      ],
      "metadata": {
        "colab": {
          "base_uri": "https://localhost:8080/"
        },
        "id": "lXxT2CRjukKM",
        "outputId": "171ababc-b2ee-4ab7-88bb-1eb18d8003a9"
      },
      "execution_count": null,
      "outputs": [
        {
          "output_type": "execute_result",
          "data": {
            "text/plain": [
              "(b'data/anchor/b75a266a-7a01-11ee-8b1e-86fac50d5e49.jpg',\n",
              " b'data/positive/ff3c16eb-7a01-11ee-9fcc-86fac50d5e49.jpg',\n",
              " 1.0)"
            ]
          },
          "metadata": {},
          "execution_count": 14
        }
      ]
    },
    {
      "cell_type": "markdown",
      "source": [
        "## Build Train & Test Partition"
      ],
      "metadata": {
        "id": "3ofcn9yrutJK"
      }
    },
    {
      "cell_type": "code",
      "source": [
        "def preprocess_twin(input_img,validation_img,label):\n",
        "    return(preprocess(input_img),preprocess(validation_img),label)"
      ],
      "metadata": {
        "id": "a02KLEtUunvN"
      },
      "execution_count": null,
      "outputs": []
    },
    {
      "cell_type": "code",
      "source": [
        "res = preprocess_twin(*example)"
      ],
      "metadata": {
        "id": "U5iqQiU_uu4i"
      },
      "execution_count": null,
      "outputs": []
    },
    {
      "cell_type": "code",
      "source": [
        "res"
      ],
      "metadata": {
        "colab": {
          "base_uri": "https://localhost:8080/"
        },
        "id": "TX23T11ZuwDi",
        "outputId": "0e662507-cd9f-4c3b-d183-314474a7b3c0"
      },
      "execution_count": null,
      "outputs": [
        {
          "output_type": "execute_result",
          "data": {
            "text/plain": [
              "(<tf.Tensor: shape=(100, 100, 3), dtype=float32, numpy=\n",
              " array([[[0.50490195, 0.44215685, 0.38333333],\n",
              "         [0.5022059 , 0.43946078, 0.38063726],\n",
              "         [0.5       , 0.44313726, 0.39019608],\n",
              "         ...,\n",
              "         [0.5205882 , 0.52843136, 0.51029414],\n",
              "         [0.5235294 , 0.52916664, 0.50514704],\n",
              "         [0.5245098 , 0.52843136, 0.4970588 ]],\n",
              " \n",
              "        [[0.49411765, 0.4343137 , 0.37058824],\n",
              "         [0.4970588 , 0.44607842, 0.38039216],\n",
              "         [0.49411765, 0.43995097, 0.3882353 ],\n",
              "         ...,\n",
              "         [0.5323529 , 0.5352941 , 0.50392157],\n",
              "         [0.5352941 , 0.5382353 , 0.50490195],\n",
              "         [0.54044116, 0.54044116, 0.5012255 ]],\n",
              " \n",
              "        [[0.49117646, 0.44313726, 0.38112745],\n",
              "         [0.49117646, 0.44142157, 0.38602942],\n",
              "         [0.5       , 0.44509804, 0.40588236],\n",
              "         ...,\n",
              "         [0.5620098 , 0.564951  , 0.5330882 ],\n",
              "         [0.5656863 , 0.5708333 , 0.53088236],\n",
              "         [0.5737745 , 0.57965684, 0.5375    ]],\n",
              " \n",
              "        ...,\n",
              " \n",
              "        [[0.5352941 , 0.5       , 0.4745098 ],\n",
              "         [0.5397059 , 0.50441176, 0.48039216],\n",
              "         [0.5411765 , 0.5058824 , 0.4862745 ],\n",
              "         ...,\n",
              "         [0.48333332, 0.5029412 , 0.4872549 ],\n",
              "         [0.49093136, 0.51053923, 0.49485293],\n",
              "         [0.49803922, 0.5176471 , 0.49607843]],\n",
              " \n",
              "        [[0.5419118 , 0.5036765 , 0.49289215],\n",
              "         [0.54509807, 0.50980395, 0.49019608],\n",
              "         [0.54093134, 0.5056372 , 0.48602942],\n",
              "         ...,\n",
              "         [0.48921567, 0.5058824 , 0.4990196 ],\n",
              "         [0.4990196 , 0.5156863 , 0.5088235 ],\n",
              "         [0.49926472, 0.51593137, 0.5090686 ]],\n",
              " \n",
              "        [[0.5372549 , 0.49803922, 0.49019608],\n",
              "         [0.5382353 , 0.4990196 , 0.49117646],\n",
              "         [0.54583335, 0.5095588 , 0.49289215],\n",
              "         ...,\n",
              "         [0.4990196 , 0.5147059 , 0.5107843 ],\n",
              "         [0.50980395, 0.5254902 , 0.52156866],\n",
              "         [0.5058824 , 0.52156866, 0.5176471 ]]], dtype=float32)>,\n",
              " <tf.Tensor: shape=(100, 100, 3), dtype=float32, numpy=\n",
              " array([[[0.48235294, 0.42352942, 0.39607844],\n",
              "         [0.4872549 , 0.42843136, 0.40098038],\n",
              "         [0.4882353 , 0.43529412, 0.4019608 ],\n",
              "         ...,\n",
              "         [0.5127451 , 0.51862746, 0.47843137],\n",
              "         [0.5205882 , 0.5205882 , 0.48921567],\n",
              "         [0.5252451 , 0.5252451 , 0.49387255]],\n",
              " \n",
              "        [[0.48259804, 0.42769608, 0.39240196],\n",
              "         [0.48137254, 0.4252451 , 0.39509803],\n",
              "         [0.48063725, 0.42965686, 0.39436275],\n",
              "         ...,\n",
              "         [0.5245098 , 0.52843136, 0.5004902 ],\n",
              "         [0.52843136, 0.5323529 , 0.5095588 ],\n",
              "         [0.5362745 , 0.53431374, 0.5147059 ]],\n",
              " \n",
              "        [[0.4735294 , 0.4245098 , 0.38039216],\n",
              "         [0.4752451 , 0.42352942, 0.3882353 ],\n",
              "         [0.4745098 , 0.42647058, 0.38235295],\n",
              "         ...,\n",
              "         [0.55490196, 0.5632353 , 0.5330882 ],\n",
              "         [0.54901963, 0.5529412 , 0.5301471 ],\n",
              "         [0.5566176 , 0.5605392 , 0.5379902 ]],\n",
              " \n",
              "        ...,\n",
              " \n",
              "        [[0.5294118 , 0.49411765, 0.46862745],\n",
              "         [0.5301471 , 0.4968137 , 0.47034314],\n",
              "         [0.53455883, 0.5012255 , 0.47916666],\n",
              "         ...,\n",
              "         [0.4735294 , 0.49215686, 0.47941175],\n",
              "         [0.48455882, 0.50392157, 0.48897058],\n",
              "         [0.48235294, 0.5019608 , 0.4862745 ]],\n",
              " \n",
              "        [[0.5257353 , 0.49632353, 0.47377452],\n",
              "         [0.5323529 , 0.50490195, 0.48137254],\n",
              "         [0.5262255 , 0.4987745 , 0.4752451 ],\n",
              "         ...,\n",
              "         [0.47696078, 0.4970588 , 0.49093136],\n",
              "         [0.47843137, 0.4970588 , 0.48431373],\n",
              "         [0.48602942, 0.5056372 , 0.48995098]],\n",
              " \n",
              "        [[0.5301471 , 0.5026961 , 0.47132352],\n",
              "         [0.5276961 , 0.5002451 , 0.47671568],\n",
              "         [0.53112745, 0.5036765 , 0.48014706],\n",
              "         ...,\n",
              "         [0.48063725, 0.5022059 , 0.49534315],\n",
              "         [0.49044117, 0.5090686 , 0.49632353],\n",
              "         [0.49019608, 0.50980395, 0.49411765]]], dtype=float32)>,\n",
              " 1.0)"
            ]
          },
          "metadata": {},
          "execution_count": 17
        }
      ]
    },
    {
      "cell_type": "code",
      "source": [
        "#apply this to the entire data\n",
        "data = data.map(preprocess_twin)\n",
        "data = data.cache()\n",
        "data = data.shuffle(buffer_size=1024) #shuffles positive+ancho and neg+anchor"
      ],
      "metadata": {
        "id": "QDiq8y9UuwwX"
      },
      "execution_count": null,
      "outputs": []
    },
    {
      "cell_type": "code",
      "source": [
        "samplee = data.as_numpy_iterator()\n"
      ],
      "metadata": {
        "id": "GYW5lpRBuy1J"
      },
      "execution_count": null,
      "outputs": []
    },
    {
      "cell_type": "code",
      "source": [
        "eg1 = samplee.next()"
      ],
      "metadata": {
        "id": "zjAd-lnmuy3X"
      },
      "execution_count": null,
      "outputs": []
    },
    {
      "cell_type": "code",
      "source": [
        "plt.imshow(eg1[0])"
      ],
      "metadata": {
        "colab": {
          "base_uri": "https://localhost:8080/",
          "height": 450
        },
        "id": "XxRNHgRYuy5R",
        "outputId": "d5ab2b3f-3541-4b99-8356-3d7812134885"
      },
      "execution_count": null,
      "outputs": [
        {
          "output_type": "execute_result",
          "data": {
            "text/plain": [
              "<matplotlib.image.AxesImage at 0x789970d0f610>"
            ]
          },
          "metadata": {},
          "execution_count": 21
        },
        {
          "output_type": "display_data",
          "data": {
            "text/plain": [
              "<Figure size 640x480 with 1 Axes>"
            ],
            "image/png": "[encoded data removed]"
          },
          "metadata": {}
        }
      ]
    },
    {
      "cell_type": "code",
      "source": [
        "plt.imshow(eg1[1])"
      ],
      "metadata": {
        "colab": {
          "base_uri": "https://localhost:8080/",
          "height": 450
        },
        "id": "yhUa0B55u01d",
        "outputId": "f891a37a-84c2-498f-860d-79bf2ab786f0"
      },
      "execution_count": null,
      "outputs": [
        {
          "output_type": "execute_result",
          "data": {
            "text/plain": [
              "<matplotlib.image.AxesImage at 0x789970c1b250>"
            ]
          },
          "metadata": {},
          "execution_count": 22
        },
        {
          "output_type": "display_data",
          "data": {
            "text/plain": [
              "<Figure size 640x480 with 1 Axes>"
            ],
            "image/png": "[encoded data removed]"
          },
          "metadata": {}
        }
      ]
    },
    {
      "cell_type": "code",
      "source": [
        "eg1[2]"
      ],
      "metadata": {
        "colab": {
          "base_uri": "https://localhost:8080/"
        },
        "id": "q7hsAiGbu035",
        "outputId": "dff57cec-1a73-4eeb-d24f-deaba2c29a22"
      },
      "execution_count": null,
      "outputs": [
        {
          "output_type": "execute_result",
          "data": {
            "text/plain": [
              "1.0"
            ]
          },
          "metadata": {},
          "execution_count": 23
        }
      ]
    },
    {
      "cell_type": "markdown",
      "source": [
        "## PARTITION"
      ],
      "metadata": {
        "id": "PEXy-bBeu8PT"
      }
    },
    {
      "cell_type": "code",
      "source": [
        "len(data) #positive and negative"
      ],
      "metadata": {
        "colab": {
          "base_uri": "https://localhost:8080/"
        },
        "id": "YXYXvYgau06G",
        "outputId": "22f18962-eb9c-444c-ecb1-3220babd0ec7"
      },
      "execution_count": null,
      "outputs": [
        {
          "output_type": "execute_result",
          "data": {
            "text/plain": [
              "600"
            ]
          },
          "metadata": {},
          "execution_count": 24
        }
      ]
    },
    {
      "cell_type": "code",
      "source": [
        "#Training Partition\n",
        "train_data = data.take(round(len(data)*.7))\n",
        "train_data = train_data.batch(16)"
      ],
      "metadata": {
        "id": "fzyfrBpiu08Z"
      },
      "execution_count": null,
      "outputs": []
    },
    {
      "cell_type": "code",
      "source": [
        "train_samples = train_data.as_numpy_iterator()"
      ],
      "metadata": {
        "id": "y5I5yE5evIyI"
      },
      "execution_count": null,
      "outputs": []
    },
    {
      "cell_type": "code",
      "source": [
        "train_sample = train_samples.next()  #tuple with batched anc, pos/neg img as numpy, and labels as numpy"
      ],
      "metadata": {
        "id": "jkjCFD8ovI1I"
      },
      "execution_count": null,
      "outputs": []
    },
    {
      "cell_type": "code",
      "source": [
        "train_sample[-1]"
      ],
      "metadata": {
        "colab": {
          "base_uri": "https://localhost:8080/"
        },
        "id": "JQABovltvI5q",
        "outputId": "21c7d93c-5c78-4c61-d20c-e8a220c81146"
      },
      "execution_count": null,
      "outputs": [
        {
          "output_type": "execute_result",
          "data": {
            "text/plain": [
              "array([0., 1., 0., 1., 0., 0., 0., 1., 1., 0., 1., 0., 0., 1., 0., 1.],\n",
              "      dtype=float32)"
            ]
          },
          "metadata": {},
          "execution_count": 28
        }
      ]
    },
    {
      "cell_type": "code",
      "source": [
        "#Testing Partition\n",
        "test_data = data.skip(round(len(data)*.7))\n",
        "test_data = test_data.take(round(len(data)*.3))\n",
        "test_data = test_data.batch(16)\n"
      ],
      "metadata": {
        "id": "W8WBgJ1JvI72"
      },
      "execution_count": null,
      "outputs": []
    },
    {
      "cell_type": "code",
      "source": [
        "type(test_data)"
      ],
      "metadata": {
        "colab": {
          "base_uri": "https://localhost:8080/"
        },
        "id": "u-RDuWvC9mb4",
        "outputId": "09d0a408-e3fc-415c-8cd8-6dcf74b11bdb"
      },
      "execution_count": null,
      "outputs": [
        {
          "output_type": "execute_result",
          "data": {
            "text/plain": [
              "tensorflow.python.data.ops.batch_op._BatchDataset"
            ]
          },
          "metadata": {},
          "execution_count": 78
        }
      ]
    },
    {
      "cell_type": "code",
      "source": [
        "len(train_data)"
      ],
      "metadata": {
        "colab": {
          "base_uri": "https://localhost:8080/"
        },
        "id": "lRh4uvQK7irU",
        "outputId": "b959fd07-f4d6-4c84-9166-dc2ea092191b"
      },
      "execution_count": null,
      "outputs": [
        {
          "output_type": "execute_result",
          "data": {
            "text/plain": [
              "27"
            ]
          },
          "metadata": {},
          "execution_count": 68
        }
      ]
    },
    {
      "cell_type": "markdown",
      "source": [
        "# Building The Model"
      ],
      "metadata": {
        "id": "4m20Z-i7ve6U"
      }
    },
    {
      "cell_type": "markdown",
      "source": [
        "### Make The Embedding Layer"
      ],
      "metadata": {
        "id": "DX2UZ5W4vgbR"
      }
    },
    {
      "cell_type": "code",
      "source": [
        "def make_embedding():\n",
        "    inp = Input(shape=(100,100,3))\n",
        "    c1 = Conv2D(64, (10,10),activation='relu')(inp)\n",
        "    m1 = MaxPooling2D(64,(2,2),padding='same')(c1)\n",
        "\n",
        "    c2 = Conv2D(128,(7,7),activation='relu')(m1)\n",
        "    m2 = MaxPooling2D(64,(2,2),padding='same')(c2)\n",
        "\n",
        "    c3 = Conv2D(128,(4,4),activation='relu')(m2)\n",
        "    m3 = MaxPooling2D(256,(4,4),padding='same')(c3)\n",
        "\n",
        "    #Final Block\n",
        "    c4 = Conv2D(256,(4,4),activation='relu')(m3)\n",
        "    f1 = Flatten()(c4)\n",
        "\n",
        "    d1 = Dense(4096,activation='sigmoid')(f1)\n",
        "\n",
        "    return Model(inputs=[inp] ,outputs=[d1], name= 'embedding')"
      ],
      "metadata": {
        "id": "PaZyM_vUvI9u"
      },
      "execution_count": null,
      "outputs": []
    },
    {
      "cell_type": "code",
      "source": [
        "embedding = make_embedding()"
      ],
      "metadata": {
        "id": "H9KNCNSVvJAK"
      },
      "execution_count": null,
      "outputs": []
    },
    {
      "cell_type": "code",
      "source": [
        "embedding.summary()"
      ],
      "metadata": {
        "colab": {
          "base_uri": "https://localhost:8080/"
        },
        "id": "qJP8qbhCvJB-",
        "outputId": "0b01cc53-da7a-4d9d-cedf-e515910668d5"
      },
      "execution_count": null,
      "outputs": [
        {
          "output_type": "stream",
          "name": "stdout",
          "text": [
            "Model: \"embedding\"\n",
            "_________________________________________________________________\n",
            " Layer (type)                Output Shape              Param #   \n",
            "=================================================================\n",
            " input_1 (InputLayer)        [(None, 100, 100, 3)]     0         \n",
            "                                                                 \n",
            " conv2d (Conv2D)             (None, 91, 91, 64)        19264     \n",
            "                                                                 \n",
            " max_pooling2d (MaxPooling2  (None, 46, 46, 64)        0         \n",
            " D)                                                              \n",
            "                                                                 \n",
            " conv2d_1 (Conv2D)           (None, 40, 40, 128)       401536    \n",
            "                                                                 \n",
            " max_pooling2d_1 (MaxPoolin  (None, 20, 20, 128)       0         \n",
            " g2D)                                                            \n",
            "                                                                 \n",
            " conv2d_2 (Conv2D)           (None, 17, 17, 128)       262272    \n",
            "                                                                 \n",
            " max_pooling2d_2 (MaxPoolin  (None, 5, 5, 128)         0         \n",
            " g2D)                                                            \n",
            "                                                                 \n",
            " conv2d_3 (Conv2D)           (None, 2, 2, 256)         524544    \n",
            "                                                                 \n",
            " flatten (Flatten)           (None, 1024)              0         \n",
            "                                                                 \n",
            " dense (Dense)               (None, 4096)              4198400   \n",
            "                                                                 \n",
            "=================================================================\n",
            "Total params: 5406016 (20.62 MB)\n",
            "Trainable params: 5406016 (20.62 MB)\n",
            "Non-trainable params: 0 (0.00 Byte)\n",
            "_________________________________________________________________\n"
          ]
        }
      ]
    },
    {
      "cell_type": "markdown",
      "source": [
        "### Build Distance Layer\n"
      ],
      "metadata": {
        "id": "TA7MaPqYvmVY"
      }
    },
    {
      "cell_type": "code",
      "source": [
        "class L1Dist(Layer):\n",
        "    def __init__(self,**kwargs):\n",
        "        super().__init__()\n",
        "\n",
        "    def call(self,input_embedding,validation_embedding):\n",
        "        return tf.math.abs(input_embedding - validation_embedding)"
      ],
      "metadata": {
        "id": "A8b8mlf3vjsO"
      },
      "execution_count": null,
      "outputs": []
    },
    {
      "cell_type": "markdown",
      "source": [
        "### Make Siamese Model"
      ],
      "metadata": {
        "id": "yDl9fvlNvowM"
      }
    },
    {
      "cell_type": "code",
      "source": [
        "def make_siamese_model():\n",
        "\n",
        "    #anchor image input in the network\n",
        "    input_image = Input(name='input_img',shape=(100,100,3))\n",
        "\n",
        "    #validation image input in the network\n",
        "    validation_image = Input(name='validation_img',shape=(100,100,3))\n",
        "\n",
        "    #combine siamese distance components\n",
        "    siamese_layer = L1Dist()\n",
        "    siamese_layer._name = 'distance'\n",
        "    distances = siamese_layer(embedding(input_image),embedding(validation_image))\n",
        "\n",
        "    #classification\n",
        "    classifier = Dense(1,activation = 'sigmoid')(distances)\n",
        "\n",
        "    return Model(inputs = [input_image, validation_image],outputs = classifier)"
      ],
      "metadata": {
        "id": "xNrN-1TFvkDi"
      },
      "execution_count": null,
      "outputs": []
    },
    {
      "cell_type": "code",
      "source": [
        "siamese_model = make_siamese_model()\n",
        "siamese_model.summary()"
      ],
      "metadata": {
        "colab": {
          "base_uri": "https://localhost:8080/"
        },
        "id": "DjiSS_2PvkI9",
        "outputId": "77fed975-749c-494d-bc91-20757726005f"
      },
      "execution_count": null,
      "outputs": [
        {
          "output_type": "stream",
          "name": "stdout",
          "text": [
            "Model: \"model\"\n",
            "__________________________________________________________________________________________________\n",
            " Layer (type)                Output Shape                 Param #   Connected to                  \n",
            "==================================================================================================\n",
            " input_img (InputLayer)      [(None, 100, 100, 3)]        0         []                            \n",
            "                                                                                                  \n",
            " validation_img (InputLayer  [(None, 100, 100, 3)]        0         []                            \n",
            " )                                                                                                \n",
            "                                                                                                  \n",
            " embedding (Functional)      (None, 4096)                 5406016   ['input_img[0][0]',           \n",
            "                                                                     'validation_img[0][0]']      \n",
            "                                                                                                  \n",
            " distance (L1Dist)           (None, 4096)                 0         ['embedding[0][0]',           \n",
            "                                                                     'embedding[1][0]']           \n",
            "                                                                                                  \n",
            " dense_1 (Dense)             (None, 1)                    4097      ['distance[0][0]']            \n",
            "                                                                                                  \n",
            "==================================================================================================\n",
            "Total params: 5410113 (20.64 MB)\n",
            "Trainable params: 5410113 (20.64 MB)\n",
            "Non-trainable params: 0 (0.00 Byte)\n",
            "__________________________________________________________________________________________________\n"
          ]
        }
      ]
    },
    {
      "cell_type": "markdown",
      "source": [
        "# Training The Model"
      ],
      "metadata": {
        "id": "NiG43QE5vv9c"
      }
    },
    {
      "cell_type": "markdown",
      "source": [
        "### LOSS FUNCTION"
      ],
      "metadata": {
        "id": "b79keBbfvyK0"
      }
    },
    {
      "cell_type": "markdown",
      "source": [
        "keep in mind that the goal of a siamese network isn’t to classify a set of image pairs but instead to differentiate between them. Essentially, contrastive loss is evaluating how good a job the siamese network is distinguishing between the image pairs. The difference is subtle but incredibly important."
      ],
      "metadata": {
        "id": "ADqiu8Myv1qm"
      }
    },
    {
      "cell_type": "code",
      "source": [
        " # Contrastive loss = mean( (1-true_value) * square(prediction) + true_value * square( max(margin-prediction, 0) ))"
      ],
      "metadata": {
        "id": "fADBwIRgvkNZ"
      },
      "execution_count": null,
      "outputs": []
    },
    {
      "cell_type": "code",
      "source": [
        "opt = tf.keras.optimizers.experimental.RMSprop(\n",
        "    learning_rate=0.001)"
      ],
      "metadata": {
        "id": "EgQC6CYzwpc7"
      },
      "execution_count": null,
      "outputs": []
    },
    {
      "cell_type": "code",
      "source": [
        "checkpoint_dir = './training_checkpoints'\n",
        "checkpoint_prefix = os.path.join(checkpoint_dir,'ckpt')\n",
        "checkpoint = tf.train.Checkpoint(opt = opt, siamese_model = siamese_model) #checkpoint object made\n"
      ],
      "metadata": {
        "id": "ZU0J7faRvkPb"
      },
      "execution_count": null,
      "outputs": []
    },
    {
      "cell_type": "code",
      "source": [
        "import tensorflow as tf\n",
        "\n",
        "class CustomContrastiveLoss(tf.keras.losses.Loss):\n",
        "    def __init__(self, margin=1, **kwargs):\n",
        "        super(CustomContrastiveLoss, self).__init__(**kwargs)\n",
        "        self.margin = margin\n",
        "\n",
        "    def call(self, y_true, y_pred):\n",
        "        square_pred = tf.math.square(y_pred)\n",
        "        margin_square = tf.math.square(tf.math.maximum(self.margin - y_pred, 0))\n",
        "        loss = tf.math.reduce_mean((1 - y_true) * square_pred + y_true * margin_square)\n",
        "        return loss\n",
        "\n",
        "margin = 1\n",
        "custom_loss = CustomContrastiveLoss(margin=margin)"
      ],
      "metadata": {
        "id": "vlCf8gEP3Txw"
      },
      "execution_count": null,
      "outputs": []
    },
    {
      "cell_type": "code",
      "source": [
        "@tf.function  #compiles a function into a callable tensorflow graph\n",
        "def train_step(batch):\n",
        "    with tf.GradientTape() as tape: #records operations or automatic differentiation\n",
        "\n",
        "        X = batch[:2] #get anchor and pos/neg image\n",
        "        y = batch[2] #get label\n",
        "\n",
        "\n",
        "        #forward pass\n",
        "        y_hat = siamese_model(X,training=True)\n",
        "        #calc loss\n",
        "        loss = custom_loss(y,y_hat)\n",
        "        #optimizer\n",
        "    grad = tape.gradient(loss,siamese_model.trainable_variables)\n",
        "\n",
        "    opt.apply_gradients(zip(grad,siamese_model.trainable_variables))\n",
        "    return loss"
      ],
      "metadata": {
        "id": "j96vBpZIvkWs"
      },
      "execution_count": null,
      "outputs": []
    },
    {
      "cell_type": "markdown",
      "source": [
        "## Training Loop\n"
      ],
      "metadata": {
        "id": "ZfrZ_4kSxVDS"
      }
    },
    {
      "cell_type": "code",
      "source": [
        "from tqdm import tqdm\n",
        "\n",
        "log_freq = 10\n",
        "\n",
        "def train(data, EPOCHS, siamese_model, opt, checkpoint, checkpoint_prefix):\n",
        "    for epoch in range(1, EPOCHS + 1):\n",
        "        print(f'\\nEpoch {epoch}/{EPOCHS}')\n",
        "        progbar = tqdm(total=len(data), desc=f'Epoch {epoch}/{EPOCHS}', position=0, leave=True)\n",
        "\n",
        "        total_loss = 0\n",
        "        correct_predictions = 0\n",
        "        total_samples = 0\n",
        "\n",
        "        for idx, batch in enumerate(data):\n",
        "            loss, y, y_hat = train_step(batch, siamese_model, opt)\n",
        "            total_loss += loss\n",
        "            predicted_labels = tf.argmax(y_hat, axis=1)\n",
        "            correct_predictions += tf.reduce_sum(tf.cast(tf.equal(y, predicted_labels), tf.float32))\n",
        "            total_samples += y.shape[0]\n",
        "            progbar.set_postfix(loss=loss.numpy(), accuracy=(correct_predictions / total_samples).numpy())\n",
        "            progbar.update(1)\n",
        "\n",
        "        progbar.close()\n",
        "\n",
        "        if epoch % log_freq == 0:\n",
        "            checkpoint.save(file_prefix=checkpoint_prefix)\n",
        "\n",
        "        avg_loss = total_loss / (idx + 1)\n",
        "        accuracy = correct_predictions / total_samples\n",
        "        print(f\"\\nEpoch {epoch}/{EPOCHS} - Loss: {avg_loss:.4f} - Accuracy: {accuracy:.4f}\")\n",
        "\n",
        "    print(\"Training complete.\")\n"
      ],
      "metadata": {
        "id": "KjR0ADS2zaj-"
      },
      "execution_count": null,
      "outputs": []
    },
    {
      "cell_type": "code",
      "source": [
        "from tqdm import tqdm\n",
        "\n",
        "def train(data, EPOCHS):\n",
        "    # Initialize the tqdm progress bar\n",
        "    progress_bar = tqdm(total=len(data) * EPOCHS, desc='Training', position=0, leave=True)\n",
        "\n",
        "    # Loop through the epochs\n",
        "    for epoch in range(1, EPOCHS + 1):\n",
        "        print('\\nEpoch {}/{}'.format(epoch, EPOCHS))\n",
        "\n",
        "        # Loop through each batch in the dataset\n",
        "        for idx, batch in enumerate(data):\n",
        "            # Perform a training step on the current batch\n",
        "            train_step(batch)\n",
        "\n",
        "            # Update the progress bar\n",
        "            progress_bar.update(1)\n",
        "\n",
        "        # Save checkpoints every 10 epochs\n",
        "        if epoch % 10 == 0:\n",
        "            checkpoint.save(file_prefix=checkpoint_prefix)\n",
        "\n",
        "    # Close the progress bar after training completion\n",
        "    progress_bar.close()\n"
      ],
      "metadata": {
        "id": "EG_mrpRz4R66"
      },
      "execution_count": null,
      "outputs": []
    },
    {
      "cell_type": "code",
      "source": [
        "train(train_data,50)"
      ],
      "metadata": {
        "colab": {
          "base_uri": "https://localhost:8080/"
        },
        "id": "Dv7t9BIf4ena",
        "outputId": "f9d5c4e0-8158-4c7f-829e-2035c0de072d"
      },
      "execution_count": null,
      "outputs": [
        {
          "output_type": "stream",
          "name": "stderr",
          "text": [
            "\rTraining:   0%|          | 0/1350 [00:00<?, ?it/s]"
          ]
        },
        {
          "output_type": "stream",
          "name": "stdout",
          "text": [
            "\n",
            "Epoch 1/50\n"
          ]
        },
        {
          "output_type": "stream",
          "name": "stderr",
          "text": [
            "Training:   2%|▏         | 29/1350 [00:05<05:21,  4.11it/s]"
          ]
        },
        {
          "output_type": "stream",
          "name": "stdout",
          "text": [
            "\n",
            "Epoch 2/50\n"
          ]
        },
        {
          "output_type": "stream",
          "name": "stderr",
          "text": [
            "Training:   4%|▍         | 54/1350 [00:10<03:54,  5.52it/s]"
          ]
        },
        {
          "output_type": "stream",
          "name": "stdout",
          "text": [
            "\n",
            "Epoch 3/50\n"
          ]
        },
        {
          "output_type": "stream",
          "name": "stderr",
          "text": [
            "Training:   6%|▌         | 81/1350 [00:15<03:51,  5.47it/s]"
          ]
        },
        {
          "output_type": "stream",
          "name": "stdout",
          "text": [
            "\n",
            "Epoch 4/50\n"
          ]
        },
        {
          "output_type": "stream",
          "name": "stderr",
          "text": [
            "Training:   8%|▊         | 108/1350 [00:20<03:45,  5.51it/s]"
          ]
        },
        {
          "output_type": "stream",
          "name": "stdout",
          "text": [
            "\n",
            "Epoch 5/50\n"
          ]
        },
        {
          "output_type": "stream",
          "name": "stderr",
          "text": [
            "Training:  10%|█         | 135/1350 [00:24<03:42,  5.45it/s]"
          ]
        },
        {
          "output_type": "stream",
          "name": "stdout",
          "text": [
            "\n",
            "Epoch 6/50\n"
          ]
        },
        {
          "output_type": "stream",
          "name": "stderr",
          "text": [
            "Training:  12%|█▏        | 162/1350 [00:29<03:37,  5.47it/s]"
          ]
        },
        {
          "output_type": "stream",
          "name": "stdout",
          "text": [
            "\n",
            "Epoch 7/50\n"
          ]
        },
        {
          "output_type": "stream",
          "name": "stderr",
          "text": [
            "Training:  14%|█▍        | 189/1350 [00:34<03:33,  5.43it/s]"
          ]
        },
        {
          "output_type": "stream",
          "name": "stdout",
          "text": [
            "\n",
            "Epoch 8/50\n"
          ]
        },
        {
          "output_type": "stream",
          "name": "stderr",
          "text": [
            "Training:  16%|█▌        | 216/1350 [00:39<03:24,  5.55it/s]"
          ]
        },
        {
          "output_type": "stream",
          "name": "stdout",
          "text": [
            "\n",
            "Epoch 9/50\n"
          ]
        },
        {
          "output_type": "stream",
          "name": "stderr",
          "text": [
            "Training:  18%|█▊        | 243/1350 [00:43<03:15,  5.68it/s]"
          ]
        },
        {
          "output_type": "stream",
          "name": "stdout",
          "text": [
            "\n",
            "Epoch 10/50\n"
          ]
        },
        {
          "output_type": "stream",
          "name": "stderr",
          "text": [
            "Training:  20%|██        | 272/1350 [00:48<03:23,  5.29it/s]"
          ]
        },
        {
          "output_type": "stream",
          "name": "stdout",
          "text": [
            "\n",
            "Epoch 11/50\n"
          ]
        },
        {
          "output_type": "stream",
          "name": "stderr",
          "text": [
            "Training:  22%|██▏       | 297/1350 [00:53<02:59,  5.86it/s]"
          ]
        },
        {
          "output_type": "stream",
          "name": "stdout",
          "text": [
            "\n",
            "Epoch 12/50\n"
          ]
        },
        {
          "output_type": "stream",
          "name": "stderr",
          "text": [
            "Training:  24%|██▍       | 324/1350 [00:57<02:55,  5.86it/s]"
          ]
        },
        {
          "output_type": "stream",
          "name": "stdout",
          "text": [
            "\n",
            "Epoch 13/50\n"
          ]
        },
        {
          "output_type": "stream",
          "name": "stderr",
          "text": [
            "Training:  26%|██▌       | 351/1350 [01:02<02:47,  5.98it/s]"
          ]
        },
        {
          "output_type": "stream",
          "name": "stdout",
          "text": [
            "\n",
            "Epoch 14/50\n"
          ]
        },
        {
          "output_type": "stream",
          "name": "stderr",
          "text": [
            "Training:  28%|██▊       | 378/1350 [01:06<02:41,  6.00it/s]"
          ]
        },
        {
          "output_type": "stream",
          "name": "stdout",
          "text": [
            "\n",
            "Epoch 15/50\n"
          ]
        },
        {
          "output_type": "stream",
          "name": "stderr",
          "text": [
            "Training:  30%|███       | 405/1350 [01:11<02:37,  5.98it/s]"
          ]
        },
        {
          "output_type": "stream",
          "name": "stdout",
          "text": [
            "\n",
            "Epoch 16/50\n"
          ]
        },
        {
          "output_type": "stream",
          "name": "stderr",
          "text": [
            "Training:  32%|███▏      | 432/1350 [01:15<02:35,  5.91it/s]"
          ]
        },
        {
          "output_type": "stream",
          "name": "stdout",
          "text": [
            "\n",
            "Epoch 17/50\n"
          ]
        },
        {
          "output_type": "stream",
          "name": "stderr",
          "text": [
            "Training:  34%|███▍      | 459/1350 [01:19<02:30,  5.91it/s]"
          ]
        },
        {
          "output_type": "stream",
          "name": "stdout",
          "text": [
            "\n",
            "Epoch 18/50\n"
          ]
        },
        {
          "output_type": "stream",
          "name": "stderr",
          "text": [
            "Training:  36%|███▌      | 486/1350 [01:24<02:23,  6.03it/s]"
          ]
        },
        {
          "output_type": "stream",
          "name": "stdout",
          "text": [
            "\n",
            "Epoch 19/50\n"
          ]
        },
        {
          "output_type": "stream",
          "name": "stderr",
          "text": [
            "Training:  38%|███▊      | 513/1350 [01:28<02:18,  6.05it/s]"
          ]
        },
        {
          "output_type": "stream",
          "name": "stdout",
          "text": [
            "\n",
            "Epoch 20/50\n"
          ]
        },
        {
          "output_type": "stream",
          "name": "stderr",
          "text": [
            "Training:  40%|████      | 542/1350 [01:33<02:17,  5.90it/s]"
          ]
        },
        {
          "output_type": "stream",
          "name": "stdout",
          "text": [
            "\n",
            "Epoch 21/50\n"
          ]
        },
        {
          "output_type": "stream",
          "name": "stderr",
          "text": [
            "Training:  42%|████▏     | 567/1350 [01:37<02:10,  6.01it/s]"
          ]
        },
        {
          "output_type": "stream",
          "name": "stdout",
          "text": [
            "\n",
            "Epoch 22/50\n"
          ]
        },
        {
          "output_type": "stream",
          "name": "stderr",
          "text": [
            "Training:  44%|████▍     | 594/1350 [01:41<02:04,  6.06it/s]"
          ]
        },
        {
          "output_type": "stream",
          "name": "stdout",
          "text": [
            "\n",
            "Epoch 23/50\n"
          ]
        },
        {
          "output_type": "stream",
          "name": "stderr",
          "text": [
            "Training:  46%|████▌     | 621/1350 [01:46<02:00,  6.06it/s]"
          ]
        },
        {
          "output_type": "stream",
          "name": "stdout",
          "text": [
            "\n",
            "Epoch 24/50\n"
          ]
        },
        {
          "output_type": "stream",
          "name": "stderr",
          "text": [
            "Training:  48%|████▊     | 648/1350 [01:50<01:54,  6.14it/s]"
          ]
        },
        {
          "output_type": "stream",
          "name": "stdout",
          "text": [
            "\n",
            "Epoch 25/50\n"
          ]
        },
        {
          "output_type": "stream",
          "name": "stderr",
          "text": [
            "Training:  50%|█████     | 675/1350 [01:54<01:51,  6.04it/s]"
          ]
        },
        {
          "output_type": "stream",
          "name": "stdout",
          "text": [
            "\n",
            "Epoch 26/50\n"
          ]
        },
        {
          "output_type": "stream",
          "name": "stderr",
          "text": [
            "Training:  52%|█████▏    | 702/1350 [01:59<01:47,  6.01it/s]"
          ]
        },
        {
          "output_type": "stream",
          "name": "stdout",
          "text": [
            "\n",
            "Epoch 27/50\n"
          ]
        },
        {
          "output_type": "stream",
          "name": "stderr",
          "text": [
            "Training:  54%|█████▍    | 729/1350 [02:03<01:43,  6.02it/s]"
          ]
        },
        {
          "output_type": "stream",
          "name": "stdout",
          "text": [
            "\n",
            "Epoch 28/50\n"
          ]
        },
        {
          "output_type": "stream",
          "name": "stderr",
          "text": [
            "Training:  56%|█████▌    | 756/1350 [02:07<01:39,  5.99it/s]"
          ]
        },
        {
          "output_type": "stream",
          "name": "stdout",
          "text": [
            "\n",
            "Epoch 29/50\n"
          ]
        },
        {
          "output_type": "stream",
          "name": "stderr",
          "text": [
            "Training:  58%|█████▊    | 783/1350 [02:12<01:32,  6.13it/s]"
          ]
        },
        {
          "output_type": "stream",
          "name": "stdout",
          "text": [
            "\n",
            "Epoch 30/50\n"
          ]
        },
        {
          "output_type": "stream",
          "name": "stderr",
          "text": [
            "Training:  60%|██████    | 812/1350 [02:17<03:06,  2.89it/s]"
          ]
        },
        {
          "output_type": "stream",
          "name": "stdout",
          "text": [
            "\n",
            "Epoch 31/50\n"
          ]
        },
        {
          "output_type": "stream",
          "name": "stderr",
          "text": [
            "Training:  62%|██████▏   | 839/1350 [02:22<02:47,  3.05it/s]"
          ]
        },
        {
          "output_type": "stream",
          "name": "stdout",
          "text": [
            "\n",
            "Epoch 32/50\n"
          ]
        },
        {
          "output_type": "stream",
          "name": "stderr",
          "text": [
            "Training:  64%|██████▍   | 866/1350 [02:26<01:04,  7.55it/s]"
          ]
        },
        {
          "output_type": "stream",
          "name": "stdout",
          "text": [
            "\n",
            "Epoch 33/50\n"
          ]
        },
        {
          "output_type": "stream",
          "name": "stderr",
          "text": [
            "Training:  66%|██████▌   | 893/1350 [02:31<01:00,  7.58it/s]"
          ]
        },
        {
          "output_type": "stream",
          "name": "stdout",
          "text": [
            "\n",
            "Epoch 34/50\n"
          ]
        },
        {
          "output_type": "stream",
          "name": "stderr",
          "text": [
            "Training:  68%|██████▊   | 920/1350 [02:35<00:56,  7.63it/s]"
          ]
        },
        {
          "output_type": "stream",
          "name": "stdout",
          "text": [
            "\n",
            "Epoch 35/50\n"
          ]
        },
        {
          "output_type": "stream",
          "name": "stderr",
          "text": [
            "Training:  70%|███████   | 947/1350 [02:39<00:52,  7.66it/s]"
          ]
        },
        {
          "output_type": "stream",
          "name": "stdout",
          "text": [
            "\n",
            "Epoch 36/50\n"
          ]
        },
        {
          "output_type": "stream",
          "name": "stderr",
          "text": [
            "Training:  72%|███████▏  | 974/1350 [02:43<00:49,  7.64it/s]"
          ]
        },
        {
          "output_type": "stream",
          "name": "stdout",
          "text": [
            "\n",
            "Epoch 37/50\n"
          ]
        },
        {
          "output_type": "stream",
          "name": "stderr",
          "text": [
            "Training:  74%|███████▍  | 999/1350 [02:47<00:54,  6.40it/s]"
          ]
        },
        {
          "output_type": "stream",
          "name": "stdout",
          "text": [
            "\n",
            "Epoch 38/50\n"
          ]
        },
        {
          "output_type": "stream",
          "name": "stderr",
          "text": [
            "Training:  76%|███████▌  | 1028/1350 [02:51<00:42,  7.50it/s]"
          ]
        },
        {
          "output_type": "stream",
          "name": "stdout",
          "text": [
            "\n",
            "Epoch 39/50\n"
          ]
        },
        {
          "output_type": "stream",
          "name": "stderr",
          "text": [
            "Training:  78%|███████▊  | 1055/1350 [02:56<01:35,  3.10it/s]"
          ]
        },
        {
          "output_type": "stream",
          "name": "stdout",
          "text": [
            "\n",
            "Epoch 40/50\n"
          ]
        },
        {
          "output_type": "stream",
          "name": "stderr",
          "text": [
            "Training:  80%|████████  | 1082/1350 [03:01<00:44,  5.96it/s]"
          ]
        },
        {
          "output_type": "stream",
          "name": "stdout",
          "text": [
            "\n",
            "Epoch 41/50\n"
          ]
        },
        {
          "output_type": "stream",
          "name": "stderr",
          "text": [
            "Training:  82%|████████▏ | 1107/1350 [03:05<00:39,  6.22it/s]"
          ]
        },
        {
          "output_type": "stream",
          "name": "stdout",
          "text": [
            "\n",
            "Epoch 42/50\n"
          ]
        },
        {
          "output_type": "stream",
          "name": "stderr",
          "text": [
            "Training:  84%|████████▍ | 1134/1350 [03:09<00:34,  6.30it/s]"
          ]
        },
        {
          "output_type": "stream",
          "name": "stdout",
          "text": [
            "\n",
            "Epoch 43/50\n"
          ]
        },
        {
          "output_type": "stream",
          "name": "stderr",
          "text": [
            "Training:  86%|████████▌ | 1161/1350 [03:13<00:30,  6.20it/s]"
          ]
        },
        {
          "output_type": "stream",
          "name": "stdout",
          "text": [
            "\n",
            "Epoch 44/50\n"
          ]
        },
        {
          "output_type": "stream",
          "name": "stderr",
          "text": [
            "Training:  88%|████████▊ | 1188/1350 [03:17<00:26,  6.20it/s]"
          ]
        },
        {
          "output_type": "stream",
          "name": "stdout",
          "text": [
            "\n",
            "Epoch 45/50\n"
          ]
        },
        {
          "output_type": "stream",
          "name": "stderr",
          "text": [
            "Training:  90%|█████████ | 1215/1350 [03:21<00:21,  6.20it/s]"
          ]
        },
        {
          "output_type": "stream",
          "name": "stdout",
          "text": [
            "\n",
            "Epoch 46/50\n"
          ]
        },
        {
          "output_type": "stream",
          "name": "stderr",
          "text": [
            "Training:  92%|█████████▏| 1242/1350 [03:26<00:17,  6.23it/s]"
          ]
        },
        {
          "output_type": "stream",
          "name": "stdout",
          "text": [
            "\n",
            "Epoch 47/50\n"
          ]
        },
        {
          "output_type": "stream",
          "name": "stderr",
          "text": [
            "Training:  94%|█████████▍| 1269/1350 [03:30<00:13,  6.20it/s]"
          ]
        },
        {
          "output_type": "stream",
          "name": "stdout",
          "text": [
            "\n",
            "Epoch 48/50\n"
          ]
        },
        {
          "output_type": "stream",
          "name": "stderr",
          "text": [
            "Training:  96%|█████████▌| 1296/1350 [03:34<00:08,  6.26it/s]"
          ]
        },
        {
          "output_type": "stream",
          "name": "stdout",
          "text": [
            "\n",
            "Epoch 49/50\n"
          ]
        },
        {
          "output_type": "stream",
          "name": "stderr",
          "text": [
            "Training:  98%|█████████▊| 1325/1350 [03:39<00:03,  7.47it/s]"
          ]
        },
        {
          "output_type": "stream",
          "name": "stdout",
          "text": [
            "\n",
            "Epoch 50/50\n"
          ]
        },
        {
          "output_type": "stream",
          "name": "stderr",
          "text": [
            "Training: 100%|██████████| 1350/1350 [03:43<00:00,  6.05it/s]\n"
          ]
        }
      ]
    },
    {
      "cell_type": "markdown",
      "source": [
        "# Evaluate Model"
      ],
      "metadata": {
        "id": "VzamTBob5Obo"
      }
    },
    {
      "cell_type": "code",
      "source": [
        "from tensorflow.keras.metrics import Precision, Recall\n",
        "#get a batch of test data\n",
        "test_input, test_val, y_true = test_data.as_numpy_iterator().next()\n",
        "test_input.shape"
      ],
      "metadata": {
        "colab": {
          "base_uri": "https://localhost:8080/"
        },
        "id": "BFsDzbtt4hGu",
        "outputId": "23f41109-f015-49bc-9c87-cf6aedbba311"
      },
      "execution_count": null,
      "outputs": [
        {
          "output_type": "execute_result",
          "data": {
            "text/plain": [
              "(16, 100, 100, 3)"
            ]
          },
          "metadata": {},
          "execution_count": 54
        }
      ]
    },
    {
      "cell_type": "code",
      "source": [
        "y_hat = siamese_model.predict([test_input,test_val])"
      ],
      "metadata": {
        "colab": {
          "base_uri": "https://localhost:8080/"
        },
        "id": "4JaopZbO5TnL",
        "outputId": "9d0fcb3b-b234-4906-fb1d-1867ab8a2223"
      },
      "execution_count": null,
      "outputs": [
        {
          "output_type": "stream",
          "name": "stdout",
          "text": [
            "1/1 [==============================] - 0s 147ms/step\n"
          ]
        }
      ]
    },
    {
      "cell_type": "code",
      "source": [
        "y_hat"
      ],
      "metadata": {
        "colab": {
          "base_uri": "https://localhost:8080/"
        },
        "id": "4pZ0-3aH51Z5",
        "outputId": "ca3a0a19-96c5-477c-9a39-0e4d4ffdb1f6"
      },
      "execution_count": null,
      "outputs": [
        {
          "output_type": "execute_result",
          "data": {
            "text/plain": [
              "array([[0.5041649 ],\n",
              "       [0.5048766 ],\n",
              "       [0.505119  ],\n",
              "       [0.5047144 ],\n",
              "       [0.49729273],\n",
              "       [0.5050067 ],\n",
              "       [0.50502557],\n",
              "       [0.49338758],\n",
              "       [0.49453995],\n",
              "       [0.50508785],\n",
              "       [0.4959504 ],\n",
              "       [0.4918121 ],\n",
              "       [0.5051329 ],\n",
              "       [0.5050346 ],\n",
              "       [0.49388367],\n",
              "       [0.50498927]], dtype=float32)"
            ]
          },
          "metadata": {},
          "execution_count": 56
        }
      ]
    },
    {
      "cell_type": "code",
      "source": [
        "y_hat = (y_hat >= 0.5).astype(np.float32)"
      ],
      "metadata": {
        "id": "m7Qp9nhc6WdS"
      },
      "execution_count": null,
      "outputs": []
    },
    {
      "cell_type": "code",
      "source": [
        "y_hat"
      ],
      "metadata": {
        "colab": {
          "base_uri": "https://localhost:8080/"
        },
        "id": "LoTGx6eS6rwx",
        "outputId": "c75226e5-1d61-4b42-d6d6-85448d47d2b3"
      },
      "execution_count": null,
      "outputs": [
        {
          "output_type": "execute_result",
          "data": {
            "text/plain": [
              "array([[1.],\n",
              "       [1.],\n",
              "       [1.],\n",
              "       [1.],\n",
              "       [0.],\n",
              "       [1.],\n",
              "       [1.],\n",
              "       [0.],\n",
              "       [0.],\n",
              "       [1.],\n",
              "       [0.],\n",
              "       [0.],\n",
              "       [1.],\n",
              "       [1.],\n",
              "       [0.],\n",
              "       [1.]], dtype=float32)"
            ]
          },
          "metadata": {},
          "execution_count": 70
        }
      ]
    },
    {
      "cell_type": "code",
      "source": [
        "y_true"
      ],
      "metadata": {
        "colab": {
          "base_uri": "https://localhost:8080/"
        },
        "id": "EuAcdswp58GD",
        "outputId": "a48dbd08-060b-4088-cbf2-7a373827e5a7"
      },
      "execution_count": null,
      "outputs": [
        {
          "output_type": "execute_result",
          "data": {
            "text/plain": [
              "array([1., 1., 1., 1., 0., 1., 1., 0., 0., 1., 0., 0., 1., 1., 0., 1.],\n",
              "      dtype=float32)"
            ]
          },
          "metadata": {},
          "execution_count": 58
        }
      ]
    },
    {
      "cell_type": "markdown",
      "source": [
        "###NOW ON THE ENTIRE TEST BATCH"
      ],
      "metadata": {
        "id": "voBSw5LZ790L"
      }
    },
    {
      "cell_type": "code",
      "source": [
        "import numpy as np\n",
        "\n",
        "y_hat = []\n",
        "y_true = []\n",
        "\n",
        "\n",
        "for test_batch in test_data:\n",
        "    #unpacking the ininputs\n",
        "    test_input, test_val, y_true1 = test_batch\n",
        "\n",
        "\n",
        "    y_hat1 = siamese_model.predict([test_input, test_val])\n",
        "    y_hat.append(y_hat1)\n",
        "    y_true.append(y_true1)\n",
        "\n",
        "\n",
        "y_hat = np.concatenate(y_hat, axis=0)\n",
        "y_true = np.concatenate(y_true, axis=0)\n",
        "\n",
        "#shapez of the final arrays\n",
        "print( y_hat.shape)\n",
        "print( y_true.shape)\n"
      ],
      "metadata": {
        "colab": {
          "base_uri": "https://localhost:8080/"
        },
        "id": "nYEG3Esi983S",
        "outputId": "b75b03c2-0e43-450d-8ce9-2ab389d3651e"
      },
      "execution_count": null,
      "outputs": [
        {
          "output_type": "stream",
          "name": "stdout",
          "text": [
            "1/1 [==============================] - 0s 20ms/step\n",
            "1/1 [==============================] - 0s 33ms/step\n",
            "1/1 [==============================] - 0s 31ms/step\n",
            "1/1 [==============================] - 0s 32ms/step\n",
            "1/1 [==============================] - 0s 32ms/step\n",
            "1/1 [==============================] - 0s 32ms/step\n",
            "1/1 [==============================] - 0s 31ms/step\n",
            "1/1 [==============================] - 0s 31ms/step\n",
            "1/1 [==============================] - 0s 29ms/step\n",
            "1/1 [==============================] - 0s 28ms/step\n",
            "1/1 [==============================] - 0s 30ms/step\n",
            "1/1 [==============================] - 0s 28ms/step\n",
            "(180, 1)\n",
            "(180,)\n"
          ]
        }
      ]
    },
    {
      "cell_type": "code",
      "source": [
        "y_hat[:10]"
      ],
      "metadata": {
        "colab": {
          "base_uri": "https://localhost:8080/"
        },
        "id": "JkMrtiHV79AN",
        "outputId": "cabd3bb2-e76e-4ed2-f63a-0f1210dd9d06"
      },
      "execution_count": null,
      "outputs": [
        {
          "output_type": "execute_result",
          "data": {
            "text/plain": [
              "array([[0.5049456 ],\n",
              "       [0.48844504],\n",
              "       [0.49137336],\n",
              "       [0.49336174],\n",
              "       [0.5041558 ],\n",
              "       [0.504996  ],\n",
              "       [0.504945  ],\n",
              "       [0.50486666],\n",
              "       [0.5050915 ],\n",
              "       [0.5049885 ]], dtype=float32)"
            ]
          },
          "metadata": {},
          "execution_count": 85
        }
      ]
    },
    {
      "cell_type": "code",
      "source": [
        "y_hat = (y_hat >= 0.5).astype(np.float32)"
      ],
      "metadata": {
        "id": "w4PKuUod79D8"
      },
      "execution_count": null,
      "outputs": []
    },
    {
      "cell_type": "code",
      "source": [
        "y_hat.shape"
      ],
      "metadata": {
        "colab": {
          "base_uri": "https://localhost:8080/"
        },
        "id": "cTeWaXwP79GI",
        "outputId": "cbd6a27f-2e73-45e5-9fbf-7c679c005076"
      },
      "execution_count": null,
      "outputs": [
        {
          "output_type": "execute_result",
          "data": {
            "text/plain": [
              "(180, 1)"
            ]
          },
          "metadata": {},
          "execution_count": 87
        }
      ]
    },
    {
      "cell_type": "code",
      "source": [
        "import seaborn as sns\n",
        "import tensorflow as tf\n",
        "cm = tf.math.confusion_matrix(labels=y_true,predictions=y_hat)\n",
        "plt.figure(figsize=(10,7))\n",
        "sns.heatmap(cm,annot=True,fmt='d')\n",
        "plt.xlabel('Predicted')\n",
        "plt.ylabel('Ground Truth')"
      ],
      "metadata": {
        "colab": {
          "base_uri": "https://localhost:8080/",
          "height": 531
        },
        "id": "iCQfvQVy6w0T",
        "outputId": "f3bb2556-cd07-45c8-f3e5-886031b1a5f0"
      },
      "execution_count": null,
      "outputs": [
        {
          "output_type": "execute_result",
          "data": {
            "text/plain": [
              "Text(95.72222222222221, 0.5, 'Ground Truth')"
            ]
          },
          "metadata": {},
          "execution_count": 90
        },
        {
          "output_type": "display_data",
          "data": {
            "text/plain": [
              "<Figure size 1000x700 with 2 Axes>"
            ],
            "image/png": "[encoded data removed]"
          },
          "metadata": {}
        }
      ]
    },
    {
      "cell_type": "code",
      "source": [
        "from sklearn.metrics import precision_score, recall_score, f1_score\n",
        "threshold = 0.5\n",
        "y_pred_binary = (y_hat > threshold).astype(int)\n",
        "\n",
        "# Calculate precision, recall, and F1-score\n",
        "precision = precision_score(y_true, y_pred_binary)\n",
        "recall = recall_score(y_true, y_pred_binary)\n",
        "f1 = f1_score(y_true, y_pred_binary)\n",
        "\n",
        "# Print the calculated metrics\n",
        "print(\"Precision:\", precision)\n",
        "print(\"Recall:\", recall)\n",
        "print(\"F1-score:\", f1)"
      ],
      "metadata": {
        "colab": {
          "base_uri": "https://localhost:8080/"
        },
        "id": "bio39C-27Mud",
        "outputId": "dd5e5331-30a8-40fa-a67f-b5b584af7a74"
      },
      "execution_count": null,
      "outputs": [
        {
          "output_type": "stream",
          "name": "stdout",
          "text": [
            "Precision: 0.9591836734693877\n",
            "Recall: 1.0\n",
            "F1-score: 0.9791666666666666\n"
          ]
        }
      ]
    },
    {
      "cell_type": "markdown",
      "source": [
        "# Visualize the Results"
      ],
      "metadata": {
        "id": "KA-LRYi8_5hK"
      }
    },
    {
      "cell_type": "code",
      "source": [
        "plt.figure(figsize=(18,8))\n",
        "plt.subplot(1,2,1)\n",
        "plt.imshow(test_input[1])\n",
        "plt.subplot(1,2,2)\n",
        "plt.imshow(test_val[1])\n",
        "plt.show()"
      ],
      "metadata": {
        "colab": {
          "base_uri": "https://localhost:8080/",
          "height": 315
        },
        "id": "bnzsQaDA_7dn",
        "outputId": "93226111-8e2f-46cb-a463-34e2abcbc325"
      },
      "execution_count": null,
      "outputs": [
        {
          "output_type": "display_data",
          "data": {
            "text/plain": [
              "<Figure size 1800x800 with 2 Axes>"
            ],
            "image/png": "[encoded data removed]"
          },
          "metadata": {}
        }
      ]
    },
    {
      "cell_type": "markdown",
      "source": [
        "# Save Model"
      ],
      "metadata": {
        "id": "wcI2Ies0AA_f"
      }
    },
    {
      "cell_type": "code",
      "source": [
        "siamese_model.save('siamesemodels.h5')"
      ],
      "metadata": {
        "colab": {
          "base_uri": "https://localhost:8080/"
        },
        "id": "X5M_gR7cABT2",
        "outputId": "167ee284-3f98-4227-d0ce-54afa63d34eb"
      },
      "execution_count": null,
      "outputs": [
        {
          "output_type": "stream",
          "name": "stderr",
          "text": [
            "/usr/local/lib/python3.10/dist-packages/keras/src/engine/training.py:3079: UserWarning: You are saving your model as an HDF5 file via `model.save()`. This file format is considered legacy. We recommend using instead the native Keras format, e.g. `model.save('my_model.keras')`.\n",
            "  saving_api.save_model(\n",
            "WARNING:tensorflow:Compiled the loaded model, but the compiled metrics have yet to be built. `model.compile_metrics` will be empty until you train or evaluate the model.\n"
          ]
        }
      ]
    },
    {
      "cell_type": "code",
      "source": [],
      "metadata": {
        "id": "vwRMLtoXADUX"
      },
      "execution_count": null,
      "outputs": []
    }
  ]
}