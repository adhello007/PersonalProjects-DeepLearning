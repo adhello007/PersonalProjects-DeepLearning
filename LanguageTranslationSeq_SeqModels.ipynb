{
  "nbformat": 4,
  "nbformat_minor": 0,
  "metadata": {
    "colab": {
      "provenance": [],
      "gpuType": "T4",
      "authorship_tag": "ABX9TyOXEl7sy/ebfJRidbBvxS79",
      "include_colab_link": true
    },
    "kernelspec": {
      "name": "python3",
      "display_name": "Python 3"
    },
    "language_info": {
      "name": "python"
    },
    "accelerator": "GPU"
  },
  "cells": [
    {
      "cell_type": "markdown",
      "metadata": {
        "id": "view-in-github",
        "colab_type": "text"
      },
      "source": [
        "<a href=\"https://colab.research.google.com/github/adhello007/PersonalProjects-DeepLearning/blob/main/LanguageTranslationSeq_SeqModels.ipynb\" target=\"_parent\"><img src=\"https://colab.research.google.com/assets/colab-badge.svg\" alt=\"Open In Colab\"/></a>"
      ]
    },
    {
      "cell_type": "code",
      "execution_count": null,
      "metadata": {
        "colab": {
          "base_uri": "https://localhost:8080/"
        },
        "id": "v-KMIQWVlZBr",
        "outputId": "d64e8a00-f80b-430a-f301-ce4209c46726"
      },
      "outputs": [
        {
          "output_type": "stream",
          "name": "stdout",
          "text": [
            "Mounted at /content/drive\n"
          ]
        }
      ],
      "source": [
        "from google.colab import drive\n",
        "drive.mount('/content/drive')"
      ]
    },
    {
      "cell_type": "code",
      "source": [
        "import os\n",
        "os.chdir('/content/drive/MyDrive')"
      ],
      "metadata": {
        "id": "1y3zjXqDlxh9"
      },
      "execution_count": null,
      "outputs": []
    },
    {
      "cell_type": "code",
      "source": [
        "!unzip fra-eng.zip"
      ],
      "metadata": {
        "colab": {
          "base_uri": "https://localhost:8080/"
        },
        "id": "DFEViPTLmByX",
        "outputId": "37f71649-2466-4a99-db5a-63766e9898a8"
      },
      "execution_count": null,
      "outputs": [
        {
          "output_type": "stream",
          "name": "stdout",
          "text": [
            "Archive:  fra-eng.zip\n",
            "  inflating: _about.txt              \n",
            "  inflating: fra.txt                 \n"
          ]
        }
      ]
    },
    {
      "cell_type": "code",
      "source": [
        "os.chdir('/content/drive/MyDrive/LanguageTranslation')"
      ],
      "metadata": {
        "id": "Fok8BEyspHph"
      },
      "execution_count": null,
      "outputs": []
    },
    {
      "cell_type": "code",
      "source": [
        "\n",
        "#We're doing Character by Character translation\n"
      ],
      "metadata": {
        "id": "0InsCkhZpxgC"
      },
      "execution_count": null,
      "outputs": []
    },
    {
      "cell_type": "markdown",
      "source": [
        "Lets Clean the Data"
      ],
      "metadata": {
        "id": "cM7hyPPJsZ5p"
      }
    },
    {
      "cell_type": "code",
      "source": [
        "input_texts = []\n",
        "target_texts = []\n",
        "input_characters = set()\n",
        "target_characters = set()\n",
        "\n",
        "with open('fra.txt', 'r',encoding='utf-8') as f:\n",
        "  lines = f.read().split('\\n')\n",
        "for line in lines[: min(10000, len(lines)-1)]: #selecting the first 10000 lines -1\n",
        "  input_text,target_text, _ = line.split('\\t')\n",
        "  target_text = '\\t' + target_text + '\\n'\n",
        "  input_texts.append(input_text)\n",
        "  target_texts.append(target_text)\n",
        "  for char in input_text:\n",
        "    if char not in input_characters:\n",
        "      input_characters.add(char)\n",
        "  for char in target_text:\n",
        "    if char not in target_characters:\n",
        "      target_characters.add(char)\n"
      ],
      "metadata": {
        "id": "Ij-v7ZeXsbhu"
      },
      "execution_count": null,
      "outputs": []
    },
    {
      "cell_type": "code",
      "source": [
        "input_texts[:2], target_texts[:2], list(input_characters)[:2], list(target_characters)[:2]"
      ],
      "metadata": {
        "colab": {
          "base_uri": "https://localhost:8080/"
        },
        "id": "0jPo9IkPSEPd",
        "outputId": "d03e1ddd-9cd9-4452-ab53-120ee35497d8"
      },
      "execution_count": null,
      "outputs": [
        {
          "output_type": "execute_result",
          "data": {
            "text/plain": [
              "(['Go.', 'Go.'], ['\\tVa !\\n', '\\tMarche.\\n'], ['g', 'o'], ['B', '\\xa0'])"
            ]
          },
          "metadata": {},
          "execution_count": 6
        }
      ]
    },
    {
      "cell_type": "code",
      "source": [
        "\n",
        "input_texts[200]"
      ],
      "metadata": {
        "colab": {
          "base_uri": "https://localhost:8080/",
          "height": 36
        },
        "id": "POlpFClkFLui",
        "outputId": "67078c71-ce9d-4f9f-8cc0-63f2d216ee0f"
      },
      "execution_count": null,
      "outputs": [
        {
          "output_type": "execute_result",
          "data": {
            "text/plain": [
              "'Beat it.'"
            ],
            "application/vnd.google.colaboratory.intrinsic+json": {
              "type": "string"
            }
          },
          "metadata": {},
          "execution_count": 7
        }
      ]
    },
    {
      "cell_type": "code",
      "source": [
        "input_characters = sorted(list(input_characters))\n",
        "target_characters = sorted(list(target_characters))\n",
        "num_encoder_tokens = len(input_characters) #number of unique english chars\n",
        "num_decoder_tokens = len(target_characters) #number of unique french chars\n",
        "max_encoder_seq_length = max([len(txt) for txt in input_texts]) #longest sent in english\n",
        "max_decoder_seq_length = max([len(txt) for txt in target_texts]) #longest sent in french"
      ],
      "metadata": {
        "id": "pazkRS9tXRnM"
      },
      "execution_count": null,
      "outputs": []
    },
    {
      "cell_type": "code",
      "source": [
        "num_encoder_tokens"
      ],
      "metadata": {
        "colab": {
          "base_uri": "https://localhost:8080/"
        },
        "id": "gBQoG9oWY_zB",
        "outputId": "e0c1e335-0335-4c49-cc2e-00b1b9cb1db7"
      },
      "execution_count": null,
      "outputs": [
        {
          "output_type": "execute_result",
          "data": {
            "text/plain": [
              "70"
            ]
          },
          "metadata": {},
          "execution_count": 9
        }
      ]
    },
    {
      "cell_type": "code",
      "source": [
        "print('number of samples for training: ',len(input_texts))\n",
        "print('number of unique english tokens: ', num_encoder_tokens)\n",
        "print('number of unique french tokens: ', num_decoder_tokens)\n",
        "print('longest english encoded length: ', max_encoder_seq_length)\n",
        "print('longest deveoder frencgh length: ',max_decoder_seq_length)\n"
      ],
      "metadata": {
        "colab": {
          "base_uri": "https://localhost:8080/"
        },
        "id": "gkmk8kfNYxkK",
        "outputId": "3aefaa7a-5287-4d84-e8ad-966148401375"
      },
      "execution_count": null,
      "outputs": [
        {
          "output_type": "stream",
          "name": "stdout",
          "text": [
            "number of samples for training:  10000\n",
            "number of unique english tokens:  70\n",
            "number of unique french tokens:  93\n",
            "longest english encoded length:  14\n",
            "longest deveoder frencgh length:  59\n"
          ]
        }
      ]
    },
    {
      "cell_type": "code",
      "source": [
        "#assiging each and every token an index\n",
        "input_token_index = dict(\n",
        "    [(char,i) for i, char in enumerate(input_characters)]\n",
        ")\n",
        "\n",
        "target_token_index = dict(\n",
        "    [(char, i) for i, char in enumerate(target_characters)]\n",
        ")"
      ],
      "metadata": {
        "id": "LdAl8MGcY8w6"
      },
      "execution_count": null,
      "outputs": []
    },
    {
      "cell_type": "code",
      "source": [
        "input_token_index"
      ],
      "metadata": {
        "colab": {
          "base_uri": "https://localhost:8080/"
        },
        "id": "5JTtQmZnbRFg",
        "outputId": "fefa7294-6ae8-4900-bb55-2b431cbf56c2"
      },
      "execution_count": null,
      "outputs": [
        {
          "output_type": "execute_result",
          "data": {
            "text/plain": [
              "{' ': 0,\n",
              " '!': 1,\n",
              " '\"': 2,\n",
              " '$': 3,\n",
              " '%': 4,\n",
              " '&': 5,\n",
              " \"'\": 6,\n",
              " ',': 7,\n",
              " '-': 8,\n",
              " '.': 9,\n",
              " '0': 10,\n",
              " '1': 11,\n",
              " '2': 12,\n",
              " '3': 13,\n",
              " '5': 14,\n",
              " '7': 15,\n",
              " '8': 16,\n",
              " '9': 17,\n",
              " ':': 18,\n",
              " '?': 19,\n",
              " 'A': 20,\n",
              " 'B': 21,\n",
              " 'C': 22,\n",
              " 'D': 23,\n",
              " 'E': 24,\n",
              " 'F': 25,\n",
              " 'G': 26,\n",
              " 'H': 27,\n",
              " 'I': 28,\n",
              " 'J': 29,\n",
              " 'K': 30,\n",
              " 'L': 31,\n",
              " 'M': 32,\n",
              " 'N': 33,\n",
              " 'O': 34,\n",
              " 'P': 35,\n",
              " 'Q': 36,\n",
              " 'R': 37,\n",
              " 'S': 38,\n",
              " 'T': 39,\n",
              " 'U': 40,\n",
              " 'V': 41,\n",
              " 'W': 42,\n",
              " 'Y': 43,\n",
              " 'a': 44,\n",
              " 'b': 45,\n",
              " 'c': 46,\n",
              " 'd': 47,\n",
              " 'e': 48,\n",
              " 'f': 49,\n",
              " 'g': 50,\n",
              " 'h': 51,\n",
              " 'i': 52,\n",
              " 'j': 53,\n",
              " 'k': 54,\n",
              " 'l': 55,\n",
              " 'm': 56,\n",
              " 'n': 57,\n",
              " 'o': 58,\n",
              " 'p': 59,\n",
              " 'q': 60,\n",
              " 'r': 61,\n",
              " 's': 62,\n",
              " 't': 63,\n",
              " 'u': 64,\n",
              " 'v': 65,\n",
              " 'w': 66,\n",
              " 'x': 67,\n",
              " 'y': 68,\n",
              " 'z': 69}"
            ]
          },
          "metadata": {},
          "execution_count": 12
        }
      ]
    },
    {
      "cell_type": "code",
      "source": [
        "#now, one hot representation\n",
        "import numpy as np"
      ],
      "metadata": {
        "id": "RwrhDMJubVNY"
      },
      "execution_count": null,
      "outputs": []
    },
    {
      "cell_type": "code",
      "source": [
        "#initially we're putting all values as 0\n",
        "encoder_input_data = np.zeros(\n",
        "    (len(input_texts), max_encoder_seq_length, num_encoder_tokens), dtype='float32')\n",
        "\n",
        "decoder_input_data = np.zeros(\n",
        "    (len(input_texts),max_decoder_seq_length,num_decoder_tokens)\n",
        ") #using french instead of english\n",
        "\n",
        "decoder_target_data = np.zeros(\n",
        "    (len(input_texts),max_decoder_seq_length,num_decoder_tokens),dtype='float32'\n",
        ")"
      ],
      "metadata": {
        "id": "1BO-NNP_bjr-"
      },
      "execution_count": null,
      "outputs": []
    },
    {
      "cell_type": "code",
      "source": [
        "sample_encoder_input_data = np.zeros(\n",
        "    (1, max_encoder_seq_length, num_encoder_tokens), dtype='float32')\n",
        "\n",
        "sample_decoder_input_data = np.zeros(\n",
        "    (1,max_decoder_seq_length,num_decoder_tokens)\n",
        ")\n",
        "\n",
        "sample_decoder_target_data = np.zeros(\n",
        "    (1,max_decoder_seq_length,num_decoder_tokens),dtype='float32'\n",
        ")"
      ],
      "metadata": {
        "id": "Iuu7xNXjFi8f"
      },
      "execution_count": null,
      "outputs": []
    },
    {
      "cell_type": "code",
      "source": [
        "encoder_input_data.shape"
      ],
      "metadata": {
        "colab": {
          "base_uri": "https://localhost:8080/"
        },
        "id": "IhEeCw9Mrwjh",
        "outputId": "b8b119ba-5a9b-44fb-e443-29bef02310ef"
      },
      "execution_count": null,
      "outputs": [
        {
          "output_type": "execute_result",
          "data": {
            "text/plain": [
              "(10000, 14, 70)"
            ]
          },
          "metadata": {},
          "execution_count": 16
        }
      ]
    },
    {
      "cell_type": "code",
      "source": [
        "#now lets fill the above values\n",
        "\n",
        "for i, (input_text,target_text) in enumerate(zip(input_texts,target_texts)): #i is the index for input and target text\n",
        "  for t, char in enumerate(input_text): # t is the index for char in input_text\n",
        "    encoder_input_data[i,t,input_token_index[char]] = 1 #since encodrer input data is already created, we're putting one where the char is present, rest its all 0s\n",
        "  encoder_input_data[i, t+1:, input_token_index[' ']] = 1 #terminates the input_text properly\n",
        "  for t, char in enumerate(target_text): #same done for target texat\n",
        "    decoder_input_data[i, t, target_token_index[char]] = 1\n",
        "    if t > 0:\n",
        "      #decoder target data wil be ahead by one timestep\n",
        "      # and will not include the start cahracter\n",
        "      decoder_target_data[i, t-1, target_token_index[char]] =1\n",
        "  decoder_input_data[i, t+1:, target_token_index[' ']] = 1\n",
        "  decoder_target_data[i,t:, target_token_index[' ']] = 1\n",
        "\n"
      ],
      "metadata": {
        "id": "SaUld4amsJ7e"
      },
      "execution_count": null,
      "outputs": []
    },
    {
      "cell_type": "code",
      "source": [
        "input_text = \"I am happy.\"\n",
        "for t, char in enumerate(input_text): # t is the index for char in input_text\n",
        "  sample_encoder_input_data[0,t,input_token_index[char]] = 1 #since encodrer input data is already created, we're putting one where the char is present, rest its all 0s\n",
        "sample_encoder_input_data[0, t+1:, input_token_index[' ']] = 1 #terminates the input_text properly\n"
      ],
      "metadata": {
        "id": "GIzRt7PvLhXc"
      },
      "execution_count": null,
      "outputs": []
    },
    {
      "cell_type": "code",
      "source": [
        "sample_encoder_input_data[0]"
      ],
      "metadata": {
        "colab": {
          "base_uri": "https://localhost:8080/"
        },
        "id": "KUkqKYeTup_N",
        "outputId": "1061fa74-05f7-40c2-f81a-271254be3dfc"
      },
      "execution_count": null,
      "outputs": [
        {
          "output_type": "execute_result",
          "data": {
            "text/plain": [
              "array([[0., 0., 0., 0., 0., 0., 0., 0., 0., 0., 0., 0., 0., 0., 0., 0.,\n",
              "        0., 0., 0., 0., 0., 0., 0., 0., 0., 0., 0., 0., 1., 0., 0., 0.,\n",
              "        0., 0., 0., 0., 0., 0., 0., 0., 0., 0., 0., 0., 0., 0., 0., 0.,\n",
              "        0., 0., 0., 0., 0., 0., 0., 0., 0., 0., 0., 0., 0., 0., 0., 0.,\n",
              "        0., 0., 0., 0., 0., 0.],\n",
              "       [1., 0., 0., 0., 0., 0., 0., 0., 0., 0., 0., 0., 0., 0., 0., 0.,\n",
              "        0., 0., 0., 0., 0., 0., 0., 0., 0., 0., 0., 0., 0., 0., 0., 0.,\n",
              "        0., 0., 0., 0., 0., 0., 0., 0., 0., 0., 0., 0., 0., 0., 0., 0.,\n",
              "        0., 0., 0., 0., 0., 0., 0., 0., 0., 0., 0., 0., 0., 0., 0., 0.,\n",
              "        0., 0., 0., 0., 0., 0.],\n",
              "       [0., 0., 0., 0., 0., 0., 0., 0., 0., 0., 0., 0., 0., 0., 0., 0.,\n",
              "        0., 0., 0., 0., 0., 0., 0., 0., 0., 0., 0., 0., 0., 0., 0., 0.,\n",
              "        0., 0., 0., 0., 0., 0., 0., 0., 0., 0., 0., 0., 1., 0., 0., 0.,\n",
              "        0., 0., 0., 0., 0., 0., 0., 0., 0., 0., 0., 0., 0., 0., 0., 0.,\n",
              "        0., 0., 0., 0., 0., 0.],\n",
              "       [0., 0., 0., 0., 0., 0., 0., 0., 0., 0., 0., 0., 0., 0., 0., 0.,\n",
              "        0., 0., 0., 0., 0., 0., 0., 0., 0., 0., 0., 0., 0., 0., 0., 0.,\n",
              "        0., 0., 0., 0., 0., 0., 0., 0., 0., 0., 0., 0., 0., 0., 0., 0.,\n",
              "        0., 0., 0., 0., 0., 0., 0., 0., 1., 0., 0., 0., 0., 0., 0., 0.,\n",
              "        0., 0., 0., 0., 0., 0.],\n",
              "       [1., 0., 0., 0., 0., 0., 0., 0., 0., 0., 0., 0., 0., 0., 0., 0.,\n",
              "        0., 0., 0., 0., 0., 0., 0., 0., 0., 0., 0., 0., 0., 0., 0., 0.,\n",
              "        0., 0., 0., 0., 0., 0., 0., 0., 0., 0., 0., 0., 0., 0., 0., 0.,\n",
              "        0., 0., 0., 0., 0., 0., 0., 0., 0., 0., 0., 0., 0., 0., 0., 0.,\n",
              "        0., 0., 0., 0., 0., 0.],\n",
              "       [0., 0., 0., 0., 0., 0., 0., 0., 0., 0., 0., 0., 0., 0., 0., 0.,\n",
              "        0., 0., 0., 0., 0., 0., 0., 0., 0., 0., 0., 0., 0., 0., 0., 0.,\n",
              "        0., 0., 0., 0., 0., 0., 0., 0., 0., 0., 0., 0., 0., 0., 0., 0.,\n",
              "        0., 0., 0., 1., 0., 0., 0., 0., 0., 0., 0., 0., 0., 0., 0., 0.,\n",
              "        0., 0., 0., 0., 0., 0.],\n",
              "       [0., 0., 0., 0., 0., 0., 0., 0., 0., 0., 0., 0., 0., 0., 0., 0.,\n",
              "        0., 0., 0., 0., 0., 0., 0., 0., 0., 0., 0., 0., 0., 0., 0., 0.,\n",
              "        0., 0., 0., 0., 0., 0., 0., 0., 0., 0., 0., 0., 1., 0., 0., 0.,\n",
              "        0., 0., 0., 0., 0., 0., 0., 0., 0., 0., 0., 0., 0., 0., 0., 0.,\n",
              "        0., 0., 0., 0., 0., 0.],\n",
              "       [0., 0., 0., 0., 0., 0., 0., 0., 0., 0., 0., 0., 0., 0., 0., 0.,\n",
              "        0., 0., 0., 0., 0., 0., 0., 0., 0., 0., 0., 0., 0., 0., 0., 0.,\n",
              "        0., 0., 0., 0., 0., 0., 0., 0., 0., 0., 0., 0., 0., 0., 0., 0.,\n",
              "        0., 0., 0., 0., 0., 0., 0., 0., 0., 0., 0., 1., 0., 0., 0., 0.,\n",
              "        0., 0., 0., 0., 0., 0.],\n",
              "       [0., 0., 0., 0., 0., 0., 0., 0., 0., 0., 0., 0., 0., 0., 0., 0.,\n",
              "        0., 0., 0., 0., 0., 0., 0., 0., 0., 0., 0., 0., 0., 0., 0., 0.,\n",
              "        0., 0., 0., 0., 0., 0., 0., 0., 0., 0., 0., 0., 0., 0., 0., 0.,\n",
              "        0., 0., 0., 0., 0., 0., 0., 0., 0., 0., 0., 1., 0., 0., 0., 0.,\n",
              "        0., 0., 0., 0., 0., 0.],\n",
              "       [0., 0., 0., 0., 0., 0., 0., 0., 0., 0., 0., 0., 0., 0., 0., 0.,\n",
              "        0., 0., 0., 0., 0., 0., 0., 0., 0., 0., 0., 0., 0., 0., 0., 0.,\n",
              "        0., 0., 0., 0., 0., 0., 0., 0., 0., 0., 0., 0., 0., 0., 0., 0.,\n",
              "        0., 0., 0., 0., 0., 0., 0., 0., 0., 0., 0., 0., 0., 0., 0., 0.,\n",
              "        0., 0., 0., 0., 1., 0.],\n",
              "       [0., 0., 0., 0., 0., 0., 0., 0., 0., 1., 0., 0., 0., 0., 0., 0.,\n",
              "        0., 0., 0., 0., 0., 0., 0., 0., 0., 0., 0., 0., 0., 0., 0., 0.,\n",
              "        0., 0., 0., 0., 0., 0., 0., 0., 0., 0., 0., 0., 0., 0., 0., 0.,\n",
              "        0., 0., 0., 0., 0., 0., 0., 0., 0., 0., 0., 0., 0., 0., 0., 0.,\n",
              "        0., 0., 0., 0., 0., 0.],\n",
              "       [1., 0., 0., 0., 0., 0., 0., 0., 0., 0., 0., 0., 0., 0., 0., 0.,\n",
              "        0., 0., 0., 0., 0., 0., 0., 0., 0., 0., 0., 0., 0., 0., 0., 0.,\n",
              "        0., 0., 0., 0., 0., 0., 0., 0., 0., 0., 0., 0., 0., 0., 0., 0.,\n",
              "        0., 0., 0., 0., 0., 0., 0., 0., 0., 0., 0., 0., 0., 0., 0., 0.,\n",
              "        0., 0., 0., 0., 0., 0.],\n",
              "       [1., 0., 0., 0., 0., 0., 0., 0., 0., 0., 0., 0., 0., 0., 0., 0.,\n",
              "        0., 0., 0., 0., 0., 0., 0., 0., 0., 0., 0., 0., 0., 0., 0., 0.,\n",
              "        0., 0., 0., 0., 0., 0., 0., 0., 0., 0., 0., 0., 0., 0., 0., 0.,\n",
              "        0., 0., 0., 0., 0., 0., 0., 0., 0., 0., 0., 0., 0., 0., 0., 0.,\n",
              "        0., 0., 0., 0., 0., 0.],\n",
              "       [1., 0., 0., 0., 0., 0., 0., 0., 0., 0., 0., 0., 0., 0., 0., 0.,\n",
              "        0., 0., 0., 0., 0., 0., 0., 0., 0., 0., 0., 0., 0., 0., 0., 0.,\n",
              "        0., 0., 0., 0., 0., 0., 0., 0., 0., 0., 0., 0., 0., 0., 0., 0.,\n",
              "        0., 0., 0., 0., 0., 0., 0., 0., 0., 0., 0., 0., 0., 0., 0., 0.,\n",
              "        0., 0., 0., 0., 0., 0.]], dtype=float32)"
            ]
          },
          "metadata": {},
          "execution_count": 19
        }
      ]
    },
    {
      "cell_type": "markdown",
      "source": [
        "Create the LSTM Model"
      ],
      "metadata": {
        "id": "2XhKAKjawEJl"
      }
    },
    {
      "cell_type": "code",
      "source": [
        "\n",
        "from keras.models import Model\n",
        "from keras.layers import Input, LSTM, Dense\n",
        "batch_size = 64\n",
        "epochs = 100\n",
        "latent_dim = 256 #dimensionalituy of the encoding space"
      ],
      "metadata": {
        "id": "M_QS0G1FwwtW"
      },
      "execution_count": null,
      "outputs": []
    },
    {
      "cell_type": "code",
      "source": [
        "#Define an input sequence and process it\n",
        "encoder_inputs = Input(shape=(None,num_encoder_tokens)) # creating an input layer of the encoder None because input can have any length\n",
        "encoder = LSTM(latent_dim, return_state=True)\n",
        "encoder_outputs, state_h, state_c = encoder(encoder_inputs)\n",
        "#WE discard 'encoder_outputs' and only keep the states as we dont want it acc\n",
        "#to the architecture\n",
        "encoder_states = [state_h,state_c]"
      ],
      "metadata": {
        "id": "7vnXRzdVxGBH"
      },
      "execution_count": null,
      "outputs": []
    },
    {
      "cell_type": "code",
      "source": [
        "#Set up the decdoer, using 'encoder_states' as initial state\n",
        "\n",
        "decoder_inputs = Input(shape=(None,num_decoder_tokens))\n",
        "#we set up our decoder to return full output sequences,\n",
        "#and to return internal states as well.\n",
        "#we dont use the return states in the training model, but we will use them\n",
        "#in inference.\n",
        "\n",
        "decoder_lstm = LSTM(latent_dim, return_sequences=True, return_state=True)\n",
        "decoder_outputs, _,_ = decoder_lstm(decoder_inputs,initial_state=encoder_states)\n",
        "decoder_dense = Dense(num_decoder_tokens, activation='softmax')\n",
        "decoder_outputs= decoder_dense(decoder_outputs)\n",
        "\n"
      ],
      "metadata": {
        "id": "KIQ5Ph5ZzgNa"
      },
      "execution_count": null,
      "outputs": []
    },
    {
      "cell_type": "code",
      "source": [
        "#Define the model that will turn 'encoder input data' and 'decoder_input_data' into 'decoder_target_data'\n",
        "model = Model([encoder_inputs, decoder_inputs], decoder_outputs)\n",
        "\n",
        "#Run training\n",
        "model.compile(optimizer='rmsprop', loss='categorical_crossentropy',metrics =['accuracy'])\n",
        "model.fit([encoder_input_data,decoder_input_data], decoder_target_data,batch_size=batch_size,epochs=epochs, validation_split=0.2)\n"
      ],
      "metadata": {
        "colab": {
          "base_uri": "https://localhost:8080/"
        },
        "id": "IHoWPS850WMZ",
        "outputId": "b9f7ad51-ddd7-49cf-a60e-f1fb92f55d50"
      },
      "execution_count": null,
      "outputs": [
        {
          "output_type": "stream",
          "name": "stdout",
          "text": [
            "Epoch 1/100\n",
            "125/125 [==============================] - 11s 29ms/step - loss: 1.2127 - accuracy: 0.7327 - val_loss: 1.0695 - val_accuracy: 0.7133\n",
            "Epoch 2/100\n",
            "125/125 [==============================] - 1s 12ms/step - loss: 0.9373 - accuracy: 0.7484 - val_loss: 0.9617 - val_accuracy: 0.7335\n",
            "Epoch 3/100\n",
            "125/125 [==============================] - 1s 12ms/step - loss: 0.8413 - accuracy: 0.7676 - val_loss: 0.8664 - val_accuracy: 0.7606\n",
            "Epoch 4/100\n",
            "125/125 [==============================] - 1s 11ms/step - loss: 0.7453 - accuracy: 0.7919 - val_loss: 0.7753 - val_accuracy: 0.7766\n",
            "Epoch 5/100\n",
            "125/125 [==============================] - 1s 12ms/step - loss: 0.6693 - accuracy: 0.8081 - val_loss: 0.7309 - val_accuracy: 0.7861\n",
            "Epoch 6/100\n",
            "125/125 [==============================] - 2s 12ms/step - loss: 0.6276 - accuracy: 0.8181 - val_loss: 0.7033 - val_accuracy: 0.7940\n",
            "Epoch 7/100\n",
            "125/125 [==============================] - 1s 12ms/step - loss: 0.5982 - accuracy: 0.8250 - val_loss: 0.6488 - val_accuracy: 0.8086\n",
            "Epoch 8/100\n",
            "125/125 [==============================] - 1s 12ms/step - loss: 0.5750 - accuracy: 0.8313 - val_loss: 0.6319 - val_accuracy: 0.8170\n",
            "Epoch 9/100\n",
            "125/125 [==============================] - 2s 14ms/step - loss: 0.5553 - accuracy: 0.8368 - val_loss: 0.6147 - val_accuracy: 0.8206\n",
            "Epoch 10/100\n",
            "125/125 [==============================] - 2s 16ms/step - loss: 0.5367 - accuracy: 0.8421 - val_loss: 0.5923 - val_accuracy: 0.8297\n",
            "Epoch 11/100\n",
            "125/125 [==============================] - 1s 12ms/step - loss: 0.5211 - accuracy: 0.8468 - val_loss: 0.5860 - val_accuracy: 0.8296\n",
            "Epoch 12/100\n",
            "125/125 [==============================] - 1s 11ms/step - loss: 0.5068 - accuracy: 0.8507 - val_loss: 0.5705 - val_accuracy: 0.8321\n",
            "Epoch 13/100\n",
            "125/125 [==============================] - 1s 12ms/step - loss: 0.4931 - accuracy: 0.8554 - val_loss: 0.5570 - val_accuracy: 0.8385\n",
            "Epoch 14/100\n",
            "125/125 [==============================] - 1s 12ms/step - loss: 0.4808 - accuracy: 0.8587 - val_loss: 0.5456 - val_accuracy: 0.8411\n",
            "Epoch 15/100\n",
            "125/125 [==============================] - 2s 12ms/step - loss: 0.4688 - accuracy: 0.8623 - val_loss: 0.5413 - val_accuracy: 0.8421\n",
            "Epoch 16/100\n",
            "125/125 [==============================] - 2s 12ms/step - loss: 0.4576 - accuracy: 0.8655 - val_loss: 0.5277 - val_accuracy: 0.8470\n",
            "Epoch 17/100\n",
            "125/125 [==============================] - 2s 13ms/step - loss: 0.4473 - accuracy: 0.8686 - val_loss: 0.5215 - val_accuracy: 0.8482\n",
            "Epoch 18/100\n",
            "125/125 [==============================] - 2s 19ms/step - loss: 0.4382 - accuracy: 0.8711 - val_loss: 0.5188 - val_accuracy: 0.8483\n",
            "Epoch 19/100\n",
            "125/125 [==============================] - 3s 20ms/step - loss: 0.4302 - accuracy: 0.8729 - val_loss: 0.5053 - val_accuracy: 0.8525\n",
            "Epoch 20/100\n",
            "125/125 [==============================] - 2s 18ms/step - loss: 0.4215 - accuracy: 0.8756 - val_loss: 0.4991 - val_accuracy: 0.8540\n",
            "Epoch 21/100\n",
            "125/125 [==============================] - 1s 12ms/step - loss: 0.4136 - accuracy: 0.8773 - val_loss: 0.4923 - val_accuracy: 0.8557\n",
            "Epoch 22/100\n",
            "125/125 [==============================] - 1s 12ms/step - loss: 0.4063 - accuracy: 0.8794 - val_loss: 0.4890 - val_accuracy: 0.8568\n",
            "Epoch 23/100\n",
            "125/125 [==============================] - 1s 12ms/step - loss: 0.3996 - accuracy: 0.8814 - val_loss: 0.4829 - val_accuracy: 0.8583\n",
            "Epoch 24/100\n",
            "125/125 [==============================] - 1s 12ms/step - loss: 0.3923 - accuracy: 0.8835 - val_loss: 0.4784 - val_accuracy: 0.8591\n",
            "Epoch 25/100\n",
            "125/125 [==============================] - 1s 12ms/step - loss: 0.3860 - accuracy: 0.8854 - val_loss: 0.4777 - val_accuracy: 0.8591\n",
            "Epoch 26/100\n",
            "125/125 [==============================] - 2s 13ms/step - loss: 0.3802 - accuracy: 0.8869 - val_loss: 0.4694 - val_accuracy: 0.8616\n",
            "Epoch 27/100\n",
            "125/125 [==============================] - 2s 15ms/step - loss: 0.3739 - accuracy: 0.8889 - val_loss: 0.4681 - val_accuracy: 0.8626\n",
            "Epoch 28/100\n",
            "125/125 [==============================] - 2s 15ms/step - loss: 0.3681 - accuracy: 0.8902 - val_loss: 0.4636 - val_accuracy: 0.8636\n",
            "Epoch 29/100\n",
            "125/125 [==============================] - 2s 12ms/step - loss: 0.3626 - accuracy: 0.8918 - val_loss: 0.4634 - val_accuracy: 0.8632\n",
            "Epoch 30/100\n",
            "125/125 [==============================] - 1s 12ms/step - loss: 0.3568 - accuracy: 0.8938 - val_loss: 0.4596 - val_accuracy: 0.8648\n",
            "Epoch 31/100\n",
            "125/125 [==============================] - 2s 12ms/step - loss: 0.3518 - accuracy: 0.8946 - val_loss: 0.4572 - val_accuracy: 0.8664\n",
            "Epoch 32/100\n",
            "125/125 [==============================] - 1s 11ms/step - loss: 0.3465 - accuracy: 0.8966 - val_loss: 0.4532 - val_accuracy: 0.8662\n",
            "Epoch 33/100\n",
            "125/125 [==============================] - 1s 12ms/step - loss: 0.3411 - accuracy: 0.8981 - val_loss: 0.4506 - val_accuracy: 0.8673\n",
            "Epoch 34/100\n",
            "125/125 [==============================] - 2s 15ms/step - loss: 0.3364 - accuracy: 0.8996 - val_loss: 0.4552 - val_accuracy: 0.8656\n",
            "Epoch 35/100\n",
            "125/125 [==============================] - 2s 16ms/step - loss: 0.3313 - accuracy: 0.9012 - val_loss: 0.4498 - val_accuracy: 0.8678\n",
            "Epoch 36/100\n",
            "125/125 [==============================] - 2s 14ms/step - loss: 0.3268 - accuracy: 0.9022 - val_loss: 0.4463 - val_accuracy: 0.8693\n",
            "Epoch 37/100\n",
            "125/125 [==============================] - 2s 12ms/step - loss: 0.3217 - accuracy: 0.9035 - val_loss: 0.4451 - val_accuracy: 0.8695\n",
            "Epoch 38/100\n",
            "125/125 [==============================] - 1s 11ms/step - loss: 0.3171 - accuracy: 0.9051 - val_loss: 0.4444 - val_accuracy: 0.8705\n",
            "Epoch 39/100\n",
            "125/125 [==============================] - 1s 12ms/step - loss: 0.3128 - accuracy: 0.9064 - val_loss: 0.4420 - val_accuracy: 0.8708\n",
            "Epoch 40/100\n",
            "125/125 [==============================] - 1s 11ms/step - loss: 0.3083 - accuracy: 0.9076 - val_loss: 0.4466 - val_accuracy: 0.8704\n",
            "Epoch 41/100\n",
            "125/125 [==============================] - 1s 12ms/step - loss: 0.3042 - accuracy: 0.9090 - val_loss: 0.4440 - val_accuracy: 0.8699\n",
            "Epoch 42/100\n",
            "125/125 [==============================] - 2s 12ms/step - loss: 0.2995 - accuracy: 0.9103 - val_loss: 0.4382 - val_accuracy: 0.8720\n",
            "Epoch 43/100\n",
            "125/125 [==============================] - 1s 12ms/step - loss: 0.2953 - accuracy: 0.9116 - val_loss: 0.4375 - val_accuracy: 0.8726\n",
            "Epoch 44/100\n",
            "125/125 [==============================] - 2s 16ms/step - loss: 0.2913 - accuracy: 0.9130 - val_loss: 0.4405 - val_accuracy: 0.8725\n",
            "Epoch 45/100\n",
            "125/125 [==============================] - 2s 15ms/step - loss: 0.2871 - accuracy: 0.9140 - val_loss: 0.4380 - val_accuracy: 0.8731\n",
            "Epoch 46/100\n",
            "125/125 [==============================] - 2s 13ms/step - loss: 0.2830 - accuracy: 0.9153 - val_loss: 0.4442 - val_accuracy: 0.8720\n",
            "Epoch 47/100\n",
            "125/125 [==============================] - 2s 12ms/step - loss: 0.2795 - accuracy: 0.9163 - val_loss: 0.4381 - val_accuracy: 0.8744\n",
            "Epoch 48/100\n",
            "125/125 [==============================] - 2s 12ms/step - loss: 0.2755 - accuracy: 0.9174 - val_loss: 0.4363 - val_accuracy: 0.8747\n",
            "Epoch 49/100\n",
            "125/125 [==============================] - 1s 12ms/step - loss: 0.2719 - accuracy: 0.9185 - val_loss: 0.4379 - val_accuracy: 0.8744\n",
            "Epoch 50/100\n",
            "125/125 [==============================] - 1s 12ms/step - loss: 0.2683 - accuracy: 0.9197 - val_loss: 0.4393 - val_accuracy: 0.8738\n",
            "Epoch 51/100\n",
            "125/125 [==============================] - 1s 12ms/step - loss: 0.2645 - accuracy: 0.9206 - val_loss: 0.4405 - val_accuracy: 0.8744\n",
            "Epoch 52/100\n",
            "125/125 [==============================] - 2s 13ms/step - loss: 0.2612 - accuracy: 0.9216 - val_loss: 0.4382 - val_accuracy: 0.8751\n",
            "Epoch 53/100\n",
            "125/125 [==============================] - 2s 14ms/step - loss: 0.2575 - accuracy: 0.9226 - val_loss: 0.4408 - val_accuracy: 0.8742\n",
            "Epoch 54/100\n",
            "125/125 [==============================] - 2s 15ms/step - loss: 0.2542 - accuracy: 0.9239 - val_loss: 0.4428 - val_accuracy: 0.8746\n",
            "Epoch 55/100\n",
            "125/125 [==============================] - 2s 12ms/step - loss: 0.2506 - accuracy: 0.9248 - val_loss: 0.4419 - val_accuracy: 0.8755\n",
            "Epoch 56/100\n",
            "125/125 [==============================] - 2s 12ms/step - loss: 0.2473 - accuracy: 0.9258 - val_loss: 0.4431 - val_accuracy: 0.8748\n",
            "Epoch 57/100\n",
            "125/125 [==============================] - 1s 12ms/step - loss: 0.2436 - accuracy: 0.9268 - val_loss: 0.4422 - val_accuracy: 0.8755\n",
            "Epoch 58/100\n",
            "125/125 [==============================] - 1s 12ms/step - loss: 0.2406 - accuracy: 0.9278 - val_loss: 0.4454 - val_accuracy: 0.8745\n",
            "Epoch 59/100\n",
            "125/125 [==============================] - 2s 13ms/step - loss: 0.2372 - accuracy: 0.9287 - val_loss: 0.4436 - val_accuracy: 0.8755\n",
            "Epoch 60/100\n",
            "125/125 [==============================] - 1s 12ms/step - loss: 0.2337 - accuracy: 0.9297 - val_loss: 0.4475 - val_accuracy: 0.8748\n",
            "Epoch 61/100\n",
            "125/125 [==============================] - 2s 13ms/step - loss: 0.2310 - accuracy: 0.9305 - val_loss: 0.4519 - val_accuracy: 0.8746\n",
            "Epoch 62/100\n",
            "125/125 [==============================] - 2s 15ms/step - loss: 0.2275 - accuracy: 0.9315 - val_loss: 0.4495 - val_accuracy: 0.8759\n",
            "Epoch 63/100\n",
            "125/125 [==============================] - 2s 14ms/step - loss: 0.2248 - accuracy: 0.9327 - val_loss: 0.4499 - val_accuracy: 0.8762\n",
            "Epoch 64/100\n",
            "125/125 [==============================] - 2s 13ms/step - loss: 0.2220 - accuracy: 0.9333 - val_loss: 0.4538 - val_accuracy: 0.8754\n",
            "Epoch 65/100\n",
            "125/125 [==============================] - 1s 12ms/step - loss: 0.2188 - accuracy: 0.9342 - val_loss: 0.4534 - val_accuracy: 0.8762\n",
            "Epoch 66/100\n",
            "125/125 [==============================] - 1s 12ms/step - loss: 0.2160 - accuracy: 0.9347 - val_loss: 0.4560 - val_accuracy: 0.8756\n",
            "Epoch 67/100\n",
            "125/125 [==============================] - 1s 12ms/step - loss: 0.2133 - accuracy: 0.9354 - val_loss: 0.4540 - val_accuracy: 0.8768\n",
            "Epoch 68/100\n",
            "125/125 [==============================] - 1s 11ms/step - loss: 0.2105 - accuracy: 0.9363 - val_loss: 0.4576 - val_accuracy: 0.8769\n",
            "Epoch 69/100\n",
            "125/125 [==============================] - 1s 12ms/step - loss: 0.2078 - accuracy: 0.9377 - val_loss: 0.4589 - val_accuracy: 0.8759\n",
            "Epoch 70/100\n",
            "125/125 [==============================] - 2s 14ms/step - loss: 0.2050 - accuracy: 0.9381 - val_loss: 0.4612 - val_accuracy: 0.8762\n",
            "Epoch 71/100\n",
            "125/125 [==============================] - 2s 14ms/step - loss: 0.2021 - accuracy: 0.9390 - val_loss: 0.4613 - val_accuracy: 0.8762\n",
            "Epoch 72/100\n",
            "125/125 [==============================] - 2s 14ms/step - loss: 0.1994 - accuracy: 0.9397 - val_loss: 0.4663 - val_accuracy: 0.8766\n",
            "Epoch 73/100\n",
            "125/125 [==============================] - 2s 13ms/step - loss: 0.1971 - accuracy: 0.9406 - val_loss: 0.4648 - val_accuracy: 0.8774\n",
            "Epoch 74/100\n",
            "125/125 [==============================] - 1s 12ms/step - loss: 0.1942 - accuracy: 0.9413 - val_loss: 0.4670 - val_accuracy: 0.8765\n",
            "Epoch 75/100\n",
            "125/125 [==============================] - 1s 12ms/step - loss: 0.1916 - accuracy: 0.9419 - val_loss: 0.4679 - val_accuracy: 0.8759\n",
            "Epoch 76/100\n",
            "125/125 [==============================] - 1s 12ms/step - loss: 0.1891 - accuracy: 0.9430 - val_loss: 0.4702 - val_accuracy: 0.8762\n",
            "Epoch 77/100\n",
            "125/125 [==============================] - 1s 12ms/step - loss: 0.1873 - accuracy: 0.9434 - val_loss: 0.4739 - val_accuracy: 0.8758\n",
            "Epoch 78/100\n",
            "125/125 [==============================] - 1s 12ms/step - loss: 0.1842 - accuracy: 0.9445 - val_loss: 0.4746 - val_accuracy: 0.8767\n",
            "Epoch 79/100\n",
            "125/125 [==============================] - 2s 14ms/step - loss: 0.1817 - accuracy: 0.9452 - val_loss: 0.4788 - val_accuracy: 0.8760\n",
            "Epoch 80/100\n",
            "125/125 [==============================] - 2s 15ms/step - loss: 0.1796 - accuracy: 0.9460 - val_loss: 0.4818 - val_accuracy: 0.8750\n",
            "Epoch 81/100\n",
            "125/125 [==============================] - 2s 14ms/step - loss: 0.1772 - accuracy: 0.9466 - val_loss: 0.4824 - val_accuracy: 0.8760\n",
            "Epoch 82/100\n",
            "125/125 [==============================] - 1s 12ms/step - loss: 0.1750 - accuracy: 0.9471 - val_loss: 0.4795 - val_accuracy: 0.8773\n",
            "Epoch 83/100\n",
            "125/125 [==============================] - 1s 12ms/step - loss: 0.1730 - accuracy: 0.9478 - val_loss: 0.4843 - val_accuracy: 0.8764\n",
            "Epoch 84/100\n",
            "125/125 [==============================] - 1s 12ms/step - loss: 0.1708 - accuracy: 0.9482 - val_loss: 0.4864 - val_accuracy: 0.8761\n",
            "Epoch 85/100\n",
            "125/125 [==============================] - 2s 13ms/step - loss: 0.1683 - accuracy: 0.9490 - val_loss: 0.4880 - val_accuracy: 0.8762\n",
            "Epoch 86/100\n",
            "125/125 [==============================] - 1s 12ms/step - loss: 0.1663 - accuracy: 0.9492 - val_loss: 0.4900 - val_accuracy: 0.8757\n",
            "Epoch 87/100\n",
            "125/125 [==============================] - 1s 12ms/step - loss: 0.1636 - accuracy: 0.9504 - val_loss: 0.4946 - val_accuracy: 0.8764\n",
            "Epoch 88/100\n",
            "125/125 [==============================] - 2s 15ms/step - loss: 0.1622 - accuracy: 0.9506 - val_loss: 0.4926 - val_accuracy: 0.8765\n",
            "Epoch 89/100\n",
            "125/125 [==============================] - 2s 15ms/step - loss: 0.1599 - accuracy: 0.9513 - val_loss: 0.4974 - val_accuracy: 0.8763\n",
            "Epoch 90/100\n",
            "125/125 [==============================] - 2s 14ms/step - loss: 0.1579 - accuracy: 0.9522 - val_loss: 0.5002 - val_accuracy: 0.8760\n",
            "Epoch 91/100\n",
            "125/125 [==============================] - 2s 13ms/step - loss: 0.1557 - accuracy: 0.9531 - val_loss: 0.5021 - val_accuracy: 0.8763\n",
            "Epoch 92/100\n",
            "125/125 [==============================] - 2s 14ms/step - loss: 0.1537 - accuracy: 0.9532 - val_loss: 0.5065 - val_accuracy: 0.8763\n",
            "Epoch 93/100\n",
            "125/125 [==============================] - 2s 15ms/step - loss: 0.1526 - accuracy: 0.9533 - val_loss: 0.5070 - val_accuracy: 0.8760\n",
            "Epoch 94/100\n",
            "125/125 [==============================] - 1s 12ms/step - loss: 0.1501 - accuracy: 0.9543 - val_loss: 0.5081 - val_accuracy: 0.8761\n",
            "Epoch 95/100\n",
            "125/125 [==============================] - 2s 12ms/step - loss: 0.1485 - accuracy: 0.9548 - val_loss: 0.5086 - val_accuracy: 0.8767\n",
            "Epoch 96/100\n",
            "125/125 [==============================] - 2s 13ms/step - loss: 0.1464 - accuracy: 0.9552 - val_loss: 0.5117 - val_accuracy: 0.8759\n",
            "Epoch 97/100\n",
            "125/125 [==============================] - 2s 15ms/step - loss: 0.1450 - accuracy: 0.9558 - val_loss: 0.5160 - val_accuracy: 0.8754\n",
            "Epoch 98/100\n",
            "125/125 [==============================] - 2s 13ms/step - loss: 0.1457 - accuracy: 0.9555 - val_loss: 0.5165 - val_accuracy: 0.8761\n",
            "Epoch 99/100\n",
            "125/125 [==============================] - 1s 11ms/step - loss: 0.1422 - accuracy: 0.9566 - val_loss: 0.5217 - val_accuracy: 0.8744\n",
            "Epoch 100/100\n",
            "125/125 [==============================] - 1s 12ms/step - loss: 0.1399 - accuracy: 0.9572 - val_loss: 0.5224 - val_accuracy: 0.8761\n"
          ]
        },
        {
          "output_type": "execute_result",
          "data": {
            "text/plain": [
              "<keras.src.callbacks.History at 0x7f801016b370>"
            ]
          },
          "metadata": {},
          "execution_count": 23
        }
      ]
    },
    {
      "cell_type": "markdown",
      "source": [
        "To decode a test sentence, we will repeatedly:\n",
        "\n",
        "1) Encode the input sentence and retrieve the initial decoder state\n",
        "2) Run one step of the decoder with this initial state and a \"start of sequence\" token as target. The output will be the next target character.\n",
        "3) Append the target character predicted and repeat."
      ],
      "metadata": {
        "id": "6HfsBeW_95kd"
      }
    },
    {
      "cell_type": "code",
      "source": [
        "encoder_model = Model(encoder_inputs, encoder_states)\n",
        "\n",
        "decoder_state_input_h = Input(shape =(latent_dim,))\n",
        "decoder_state_input_c = Input(shape=(latent_dim,))\n",
        "decoder_states_inputs = [decoder_state_input_h, decoder_state_input_c]\n",
        "decoder_outputs, state_h, state_c = decoder_lstm(\n",
        "    decoder_inputs, initial_state = decoder_states_inputs)\n",
        "decoder_states = [state_h,state_c]\n",
        "decoder_model = Model(\n",
        "    [decoder_inputs] + decoder_states_inputs,\n",
        "    [decoder_outputs] + decoder_states)\n"
      ],
      "metadata": {
        "id": "3h4NcQXp96Md"
      },
      "execution_count": null,
      "outputs": []
    },
    {
      "cell_type": "code",
      "source": [
        "reverse_input_char_index = dict((i,char) for char,i in input_token_index.items())\n",
        "reverse_target_char_index = dict((i,char) for char, i in target_token_index.items())\n",
        "#reverse-looing up token index to decode sequences back to something readable\n"
      ],
      "metadata": {
        "id": "aMtEQG2qNiQT"
      },
      "execution_count": null,
      "outputs": []
    },
    {
      "cell_type": "code",
      "source": [
        "def decode_sequence(input_seq):\n",
        "    # Encode the input as state vectors.\n",
        "    states_value = encoder_model.predict(input_seq)\n",
        "\n",
        "    # Generate empty target sequence of length 1.\n",
        "    target_seq = np.zeros((1, 1, num_decoder_tokens))\n",
        "    # Populate the first character of target sequence with the start character.\n",
        "    target_seq[0, 0, target_token_index['\\t']] = 1.\n",
        "\n",
        "    # Sampling loop for a batch of sequences\n",
        "    # (to simplify, here we assume a batch of size 1).\n",
        "    stop_condition = False\n",
        "    decoded_sentence = ''\n",
        "    while not stop_condition:\n",
        "        output_tokens, h, c = decoder_model.predict(\n",
        "            [target_seq] + states_value)\n",
        "\n",
        "        # Sample a token\n",
        "        sampled_token_index = np.argmax(output_tokens[0, -1, :])\n",
        "        sampled_char = reverse_target_char_index[sampled_token_index]\n",
        "        decoded_sentence += sampled_char\n",
        "\n",
        "        # Exit condition: either hit max length\n",
        "        # or find stop character.\n",
        "        if (sampled_char == '\\n' or\n",
        "           len(decoded_sentence) > max_decoder_seq_length):\n",
        "            stop_condition = True\n",
        "\n",
        "        # Update the target sequence (of length 1).\n",
        "        target_seq = np.zeros((1, 1, num_decoder_tokens))\n",
        "        target_seq[0, 0, sampled_token_index] = 1.\n",
        "\n",
        "        # Update states\n",
        "        states_value = [h, c]\n",
        "\n",
        "    return decoded_sentence"
      ],
      "metadata": {
        "id": "h_E0P5A7DyYg"
      },
      "execution_count": null,
      "outputs": []
    },
    {
      "cell_type": "code",
      "source": [
        "for seq_index in range(100):\n",
        "  #taking one seq for trying out decoding\n",
        "  input_seq = encoder_input_data[seq_index: seq_index +1]\n",
        "  decoded_sentence = decode_sequence(input_seq)\n",
        "  print('-')\n",
        "  print('Input sentence: ', input_texts[seq_index])\n",
        "  print('decoded sentence: ', decoded_sentence)"
      ],
      "metadata": {
        "id": "PJ1PC2SzEOsD",
        "colab": {
          "base_uri": "https://localhost:8080/",
          "height": 401
        },
        "outputId": "dd2ac826-3380-46c0-e8d1-59004fa52521"
      },
      "execution_count": null,
      "outputs": [
        {
          "output_type": "stream",
          "name": "stdout",
          "text": [
            "1/1 [==============================] - 1s 1s/step\n",
            "1/1 [==============================] - 1s 687ms/step\n"
          ]
        },
        {
          "output_type": "error",
          "ename": "KeyError",
          "evalue": "ignored",
          "traceback": [
            "\u001b[0;31m---------------------------------------------------------------------------\u001b[0m",
            "\u001b[0;31mKeyError\u001b[0m                                  Traceback (most recent call last)",
            "\u001b[0;32m<ipython-input-27-fa54b9a9cad0>\u001b[0m in \u001b[0;36m<cell line: 1>\u001b[0;34m()\u001b[0m\n\u001b[1;32m      2\u001b[0m   \u001b[0;31m#taking one seq for trying out decoding\u001b[0m\u001b[0;34m\u001b[0m\u001b[0;34m\u001b[0m\u001b[0m\n\u001b[1;32m      3\u001b[0m   \u001b[0minput_seq\u001b[0m \u001b[0;34m=\u001b[0m \u001b[0mencoder_input_data\u001b[0m\u001b[0;34m[\u001b[0m\u001b[0mseq_index\u001b[0m\u001b[0;34m:\u001b[0m \u001b[0mseq_index\u001b[0m \u001b[0;34m+\u001b[0m\u001b[0;36m1\u001b[0m\u001b[0;34m]\u001b[0m\u001b[0;34m\u001b[0m\u001b[0;34m\u001b[0m\u001b[0m\n\u001b[0;32m----> 4\u001b[0;31m   \u001b[0mdecoded_sentence\u001b[0m \u001b[0;34m=\u001b[0m \u001b[0mdecode_sequence\u001b[0m\u001b[0;34m(\u001b[0m\u001b[0minput_seq\u001b[0m\u001b[0;34m)\u001b[0m\u001b[0;34m\u001b[0m\u001b[0;34m\u001b[0m\u001b[0m\n\u001b[0m\u001b[1;32m      5\u001b[0m   \u001b[0mprint\u001b[0m\u001b[0;34m(\u001b[0m\u001b[0;34m'-'\u001b[0m\u001b[0;34m)\u001b[0m\u001b[0;34m\u001b[0m\u001b[0;34m\u001b[0m\u001b[0m\n\u001b[1;32m      6\u001b[0m   \u001b[0mprint\u001b[0m\u001b[0;34m(\u001b[0m\u001b[0;34m'Input sentence: '\u001b[0m\u001b[0;34m,\u001b[0m \u001b[0minput_texts\u001b[0m\u001b[0;34m[\u001b[0m\u001b[0mseq_index\u001b[0m\u001b[0;34m]\u001b[0m\u001b[0;34m)\u001b[0m\u001b[0;34m\u001b[0m\u001b[0;34m\u001b[0m\u001b[0m\n",
            "\u001b[0;32m<ipython-input-26-ef90cea883ca>\u001b[0m in \u001b[0;36mdecode_sequence\u001b[0;34m(input_seq)\u001b[0m\n\u001b[1;32m     18\u001b[0m         \u001b[0;31m# Sample a token\u001b[0m\u001b[0;34m\u001b[0m\u001b[0;34m\u001b[0m\u001b[0m\n\u001b[1;32m     19\u001b[0m         \u001b[0msampled_token_index\u001b[0m \u001b[0;34m=\u001b[0m \u001b[0mnp\u001b[0m\u001b[0;34m.\u001b[0m\u001b[0margmax\u001b[0m\u001b[0;34m(\u001b[0m\u001b[0moutput_tokens\u001b[0m\u001b[0;34m[\u001b[0m\u001b[0;36m0\u001b[0m\u001b[0;34m,\u001b[0m \u001b[0;34m-\u001b[0m\u001b[0;36m1\u001b[0m\u001b[0;34m,\u001b[0m \u001b[0;34m:\u001b[0m\u001b[0;34m]\u001b[0m\u001b[0;34m)\u001b[0m\u001b[0;34m\u001b[0m\u001b[0;34m\u001b[0m\u001b[0m\n\u001b[0;32m---> 20\u001b[0;31m         \u001b[0msampled_char\u001b[0m \u001b[0;34m=\u001b[0m \u001b[0mreverse_target_char_index\u001b[0m\u001b[0;34m[\u001b[0m\u001b[0msampled_token_index\u001b[0m\u001b[0;34m]\u001b[0m\u001b[0;34m\u001b[0m\u001b[0;34m\u001b[0m\u001b[0m\n\u001b[0m\u001b[1;32m     21\u001b[0m         \u001b[0mdecoded_sentence\u001b[0m \u001b[0;34m+=\u001b[0m \u001b[0msampled_char\u001b[0m\u001b[0;34m\u001b[0m\u001b[0;34m\u001b[0m\u001b[0m\n\u001b[1;32m     22\u001b[0m \u001b[0;34m\u001b[0m\u001b[0m\n",
            "\u001b[0;31mKeyError\u001b[0m: 190"
          ]
        }
      ]
    },
    {
      "cell_type": "code",
      "source": [],
      "metadata": {
        "id": "-P_4r9iop3GQ"
      },
      "execution_count": null,
      "outputs": []
    }
  ]
}